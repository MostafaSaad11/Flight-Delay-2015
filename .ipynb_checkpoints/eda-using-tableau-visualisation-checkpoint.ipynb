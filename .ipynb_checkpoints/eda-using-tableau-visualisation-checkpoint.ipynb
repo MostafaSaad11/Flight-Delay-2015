{
 "cells": [
  {
   "cell_type": "markdown",
   "metadata": {
    "_cell_guid": "e48e198d-ee03-4016-9c06-926bb20b415f",
    "_uuid": "2edf77ec090296d3e0fac48196b68761bb412368"
   },
   "source": [
    "# EDA Tableau Visualisation- Flight Data\n",
    "\n",
    "The U.S. Department    of Transportation's (DOT) Bureau of Transportation Statistics tracks the on-time performance of domestic flights operated by large air carriers. Summary information on the number of on-time, delayed, canceled, and diverted flights is published in DOT's monthly Air Travel Consumer Report and in this dataset of 2015 flight delays and cancellations.\n",
    "In 2015 there are lots of flight delays in United States for some reason. Nearly one third of all flights in our data set have delays.\n",
    "\n",
    "The main reasons for flight delays are wheather related but in some cases there are also airline or airport related flight delays. This document examines and shows the delay and cancellation causes in several aspects.\n",
    "\n",
    "I have come up with tableau data visualisation to show case the delay of flights using 366,000 observations of the dataset and provide a holistic destination map data visualisation in tableau.    \n",
    "\n",
    "Please feel free to play around with different flight combinations to observe the visualisations\n",
    "\n",
    "The following visualisations comprises of \n",
    "\n",
    "#### 1. Political Map representing the travel destinations and respective flight delays"
   ]
  },
  {
   "cell_type": "code",
   "execution_count": 7,
   "metadata": {
    "_cell_guid": "70a16926-0f12-4fa6-ad9d-d420f3b922df",
    "_uuid": "3db84855b0cb03d55e2c87fdf68fcf31ffd5e6fd"
   },
   "outputs": [
    {
     "data": {
      "text/html": [
       "\n",
       "        <iframe\n",
       "            width=\"1000\"\n",
       "            height=\"925\"\n",
       "            src=\"https://public.tableau.com/views/USFlightDelaysCancellations/FlightDelays-PolitcalDestinationMap?:embed=y&:display_count=yes\"\n",
       "            frameborder=\"0\"\n",
       "            allowfullscreen\n",
       "        ></iframe>\n",
       "        "
      ],
      "text/plain": [
       "<IPython.lib.display.IFrame at 0x7f09e0652f60>"
      ]
     },
     "execution_count": 7,
     "metadata": {},
     "output_type": "execute_result"
    }
   ],
   "source": [
    "# Import Tableau Visualisation \n",
    "from IPython.display import IFrame\n",
    "IFrame('https://public.tableau.com/views/USFlightDelaysCancellations/FlightDelays-PolitcalDestinationMap?:embed=y&:display_count=yes', width=1000, height=925)"
   ]
  },
  {
   "cell_type": "markdown",
   "metadata": {
    "_cell_guid": "f295e920-bfe3-43e2-93bc-092dfd9b4ed3",
    "_uuid": "ba8c560cfc1ab5721b21582abe34fa10e1021e97"
   },
   "source": [
    "#### 2. Satellite Map representing the travel destinations and respective flight delays"
   ]
  },
  {
   "cell_type": "code",
   "execution_count": 8,
   "metadata": {
    "_cell_guid": "095787f3-809a-47d1-af35-f34a40fb6702",
    "_uuid": "13f9b01de248ac854769b7c9633f0cc943b88aa6"
   },
   "outputs": [
    {
     "data": {
      "text/html": [
       "\n",
       "        <iframe\n",
       "            width=\"1000\"\n",
       "            height=\"925\"\n",
       "            src=\"https://public.tableau.com/views/USFlightDelaysCancellations/FlightDelays-PhysicalDestinationMap?:embed=y&:display_count=yes\"\n",
       "            frameborder=\"0\"\n",
       "            allowfullscreen\n",
       "        ></iframe>\n",
       "        "
      ],
      "text/plain": [
       "<IPython.lib.display.IFrame at 0x7f09e06041d0>"
      ]
     },
     "execution_count": 8,
     "metadata": {},
     "output_type": "execute_result"
    }
   ],
   "source": [
    "IFrame('https://public.tableau.com/views/USFlightDelaysCancellations/FlightDelays-PhysicalDestinationMap?:embed=y&:display_count=yes', width=1000, height=925)"
   ]
  },
  {
   "cell_type": "markdown",
   "metadata": {
    "_cell_guid": "4d539463-e917-40a8-aae4-a53407fa2ed2",
    "_uuid": "823817fbbfb51e09d023fecc0ad88116702f2c46"
   },
   "source": [
    "#### 3. Satellite & Street Map representing the travel destinations and respective flight delays"
   ]
  },
  {
   "cell_type": "code",
   "execution_count": 9,
   "metadata": {
    "_cell_guid": "2ca95e44-c21d-4c99-b419-126b9b6f2936",
    "_uuid": "3ab39e51b584423f2ea27b4edf4fc8dac5ba8c95"
   },
   "outputs": [
    {
     "data": {
      "text/html": [
       "\n",
       "        <iframe\n",
       "            width=\"1000\"\n",
       "            height=\"925\"\n",
       "            src=\"https://public.tableau.com/views/USFlightDelaysCancellations/FlightDelays-StreetSatellite-DestinationMap2?:embed=y&:display_count=yes\"\n",
       "            frameborder=\"0\"\n",
       "            allowfullscreen\n",
       "        ></iframe>\n",
       "        "
      ],
      "text/plain": [
       "<IPython.lib.display.IFrame at 0x7f09e0604080>"
      ]
     },
     "execution_count": 9,
     "metadata": {},
     "output_type": "execute_result"
    }
   ],
   "source": [
    "IFrame('https://public.tableau.com/views/USFlightDelaysCancellations/FlightDelays-StreetSatellite-DestinationMap2?:embed=y&:display_count=yes', width=1000, height=925)"
   ]
  },
  {
   "cell_type": "markdown",
   "metadata": {
    "_cell_guid": "dd291f1e-c4f9-4a6b-9cac-a54b62b592ac",
    "_uuid": "4b5c5446b0fca705ab868e91f31faa0c7b9a2437",
    "collapsed": true
   },
   "source": [
    "## If you like this kernel greatly appreciate to UPVOTE.Thank you. "
   ]
  }
 ],
 "metadata": {
  "kernelspec": {
   "display_name": "Python 3",
   "language": "python",
   "name": "python3"
  },
  "language_info": {
   "codemirror_mode": {
    "name": "ipython",
    "version": 3
   },
   "file_extension": ".py",
   "mimetype": "text/x-python",
   "name": "python",
   "nbconvert_exporter": "python",
   "pygments_lexer": "ipython3",
   "version": "3.8.8"
  }
 },
 "nbformat": 4,
 "nbformat_minor": 1
}
