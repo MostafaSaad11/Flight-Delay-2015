{
 "cells": [
  {
   "cell_type": "markdown",
   "metadata": {
    "_cell_guid": "df060fcf-2357-4479-b0c7-19ace00aba0e",
    "_uuid": "47c094564b4c9f2536767d19c99a49f482a0161f"
   },
   "source": [
    "# **Predicting flight delays** [_Tutorial _]\n",
    "Fabien Daniel (September 2017)\n",
    "___\n",
    "\n",
    "In this notebook, I develop a model aimed at predicting flight delays at take-off. The purpose is not to obtain the best possible prediction but rather to emphasize on the various steps needed to build such a model. Along this path, I then put in evidence some **basic but important** concepts. Among then, I comment on the importance of the separation of the dataset during the traning stage and how **cross-validation** helps in determing accurate model parameters. I show how to build **linear** and **polynomial** models for **univariate** or **multivariate regressions** and also, I give some insight on the reason why **regularisation** helps us in developing models that generalize well. \n",
    "\n",
    "____\n",
    "From a **_technical point of view_**, the main aspects of python covered throughout the notebook are:\n",
    "- **visualization**: matplolib, seaborn, basemap\n",
    "- **data manipulation**: pandas, numpy\n",
    "- **modeling**: sklearn, scipy\n",
    "- **class definition**: regression, figures\n",
    "\n",
    "During the EDA, I intended to create good quality figures from which the information would be easily accessible at a first glance. An important aspect of the data scientist job consists in divulgating its findings to people who do not necessarily have knowledge in the technical aspects data scientists master. Graphics are surely the most powerful tool to achieve that goal, and mastering visualization techniques thus seems important.\n",
    "\n",
    "Also, as soon as an action is repeated (mostly at identical) a few times, I tend to write classes or functions and eventually embed them in loops. Doing so is sometimes longer than a simple _copy-paste-edit_ process but,\n",
    "on the one hand, this improves the readibility of the code and most importantly, this reduces the number of lines of code (and so, the number of opportunities to introduce mistakes !!). In the current notebook, I defined classes in the modeling part in order to perform regressions. I also defined a class to wrap the making of figures. This allows to create stylish figures, by tuning the matplotlib parameters, that can be subsequently re-used thanks to that template. I feel that this could be useful to create nice looking graphics and then use them extensively once you are satisfied with the tuning. Moreover, this helps to keep some homogeneity in your plots.\n",
    "___\n",
    "**Acknowledgement**: many thanks to [J. Abécassis](https://www.kaggle.com/judithabk6) for the advices and help provided during the writing of this notebook <br>\n",
    "___\n",
    "\n",
    "This notebook is composed of three parts: cleaning (section 1), exploration (section 2-5) and modeling (section 6).\n",
    "\n",
    "** _Preamble_:** _overview of the dataset_ <br>\n",
    "\n",
    "** 1. Cleaning** \n",
    "- 1.1 Dates and times\n",
    "- 1.2 Filling factor\n",
    "\n",
    "**2. Comparing airlines**\n",
    "- 2.1 Basic statistical description of airlines\n",
    "- 2.2 Delays distribution: establishing the ranking of airlines \n",
    "\n",
    "** 3. Delays: take-off or landing ?** <br>\n",
    "** 4.  Relation between the origin airport and delays** <br>\n",
    "- 4.1 Geographical area covered by airlines  <br>\n",
    "- 4.2 How the origin airport impact delays <br>\n",
    "- 4.3 Flights with usual delays ? <br>\n",
    "\n",
    "** 5. Temporal variability of delays** <br>\n",
    "** 6. Predicting flight delays** <br>\n",
    "- 6.1 Model nº1: one airline, one airport \n",
    "  * 6.1.1 Pitfalls\n",
    "  * 6.1.2 Polynomial degree: splitting the dataset\n",
    "  * 6.1.3 Model test: prediction of end-January delays\n",
    "- 6.2 Model nº2: one airline, all airports\n",
    "  * 6.2.1 Linear regression  \n",
    "  * 6.2.2 Polynomial regression\n",
    "  * 6.2.3 Setting the free parameters\n",
    "  * 6.2.4 Model test: prediction of end-January delays\n",
    "- 6.3 Model nº3: Accounting for destinations\n",
    "   * 6.3.1 Choice of the free parameters\n",
    "   * 6.3.2 Model test: prediction of end-January delays \n",
    "   \n",
    "**Conclusion**\n"
   ]
  },
  {
   "cell_type": "markdown",
   "metadata": {
    "_cell_guid": "ddb273b8-9028-4fee-9ec4-384da1c417d7",
    "_uuid": "eb9768b31c8998ad37fb0e9b6a95e1eaa8ea0514"
   },
   "source": [
    "___\n",
    "## _Preamble_: overview of the dataset\n",
    "\n",
    "First, I load all the packages that will be needed during this project:"
   ]
  },
  {
   "cell_type": "code",
   "execution_count": null,
   "metadata": {
    "_cell_guid": "42d80b40-c268-44ae-be4c-1b0660b8a0c6",
    "_kg_hide-input": true,
    "_uuid": "f67230a81f9466b6c8d2c5d603a8e8615c2e99a7",
    "collapsed": true,
    "jupyter": {
     "outputs_hidden": true
    }
   },
   "outputs": [],
   "source": [
    "import datetime, warnings, scipy \n",
    "import pandas as pd\n",
    "import numpy as np\n",
    "import seaborn as sns\n",
    "import matplotlib as mpl\n",
    "import matplotlib.pyplot as plt\n",
    "import matplotlib.patches as patches\n",
    "from matplotlib.patches import ConnectionPatch\n",
    "from collections import OrderedDict\n",
    "from matplotlib.gridspec import GridSpec\n",
    "from mpl_toolkits.basemap import Basemap\n",
    "from sklearn import metrics, linear_model\n",
    "from sklearn.preprocessing import PolynomialFeatures, StandardScaler\n",
    "from sklearn.preprocessing import LabelEncoder, OneHotEncoder\n",
    "from sklearn.model_selection import train_test_split, cross_val_score, cross_val_predict\n",
    "from scipy.optimize import curve_fit\n",
    "plt.rcParams[\"patch.force_edgecolor\"] = True\n",
    "plt.style.use('fivethirtyeight')\n",
    "mpl.rc('patch', edgecolor = 'dimgray', linewidth=1)\n",
    "from IPython.core.interactiveshell import InteractiveShell\n",
    "InteractiveShell.ast_node_interactivity = \"last_expr\"\n",
    "pd.options.display.max_columns = 50\n",
    "%matplotlib inline\n",
    "warnings.filterwarnings(\"ignore\")"
   ]
  },
  {
   "cell_type": "markdown",
   "metadata": {
    "_cell_guid": "42362727-651e-496e-b156-6091f8ff535c",
    "_uuid": "a45c0b019206005444ec3138e522d008a2f93c15"
   },
   "source": [
    "and then, I read the file that contains the details of all the flights that occured in 2015. I output some informations concerning the types of the variables in the dataframe and the quantity of null values for each variable:"
   ]
  },
  {
   "cell_type": "code",
   "execution_count": null,
   "metadata": {
    "_cell_guid": "f1181648-1d4e-434c-b9b6-58240e4f0787",
    "_kg_hide-input": true,
    "_uuid": "0e16a4dda060923da07c99eca1d0fc941c3ddd46",
    "collapsed": true,
    "jupyter": {
     "outputs_hidden": true
    },
    "scrolled": true
   },
   "outputs": [],
   "source": [
    "df = pd.read_csv('../input/flights.csv', low_memory=False)\n",
    "print('Dataframe dimensions:', df.shape)\n",
    "#____________________________________________________________\n",
    "# gives some infos on columns types and number of null values\n",
    "tab_info=pd.DataFrame(df.dtypes).T.rename(index={0:'column type'})\n",
    "tab_info=tab_info.append(pd.DataFrame(df.isnull().sum()).T.rename(index={0:'null values (nb)'}))\n",
    "tab_info=tab_info.append(pd.DataFrame(df.isnull().sum()/df.shape[0]*100)\n",
    "                         .T.rename(index={0:'null values (%)'}))\n",
    "tab_info"
   ]
  },
  {
   "cell_type": "markdown",
   "metadata": {
    "_cell_guid": "74c541db-d87b-4eab-b206-4b02f35fa56f",
    "_uuid": "45f801f58539d091bdcf564898434805bbfc6b91"
   },
   "source": [
    "Each entry of the `flights.csv` file corresponds to a flight and we see that more than 5'800'000 flights have been recorded in 2015. These flights are described according to 31 variables. A description of these variables can be found [here](https://www.transtats.bts.gov/DL_SelectFields.asp?Table_ID=236&DB_Short_Name=On-Time) and I briefly recall the meaning of the variables that will be used in this notebook:\n",
    "\n",
    "- **YEAR, MONTH, DAY, DAY_OF_WEEK**: dates of the flight <br/>\n",
    "- **AIRLINE**: An identification number assigned by US DOT to identify a unique airline <br/>\n",
    "- **ORIGIN_AIRPORT** and **DESTINATION_AIRPORT**: code attributed by IATA to identify the airports <br/>\n",
    "- **SCHEDULED_DEPARTURE** and **SCHEDULED_ARRIVAL** : scheduled times of take-off and landing <br/> \n",
    "- **DEPARTURE_TIME** and **ARRIVAL_TIME**: real times at which take-off and landing took place <br/> \n",
    "- **DEPARTURE_DELAY** and **ARRIVAL_DELAY**: difference (in minutes) between planned and real times <br/> \n",
    "- **DISTANCE**: distance (in miles)  <br/>\n",
    "\n",
    "An additional file of this dataset, the `airports.csv` file, gives a more exhaustive description of the airports:"
   ]
  },
  {
   "cell_type": "code",
   "execution_count": null,
   "metadata": {
    "_cell_guid": "6f858b64-000b-4b5e-a2a0-c827afb59bd3",
    "_kg_hide-input": true,
    "_uuid": "43d6714ff1fdfe7465f9ad69f5fdc8754cc88f82",
    "collapsed": true,
    "jupyter": {
     "outputs_hidden": true
    }
   },
   "outputs": [],
   "source": [
    "airports = pd.read_csv(\"../input/airports.csv\")"
   ]
  },
  {
   "cell_type": "markdown",
   "metadata": {
    "_cell_guid": "9ba071ff-55ed-44bd-a49e-1e4769755d6b",
    "_uuid": "c7b7af9d0e3f2fd522633838884cc778d91a9143"
   },
   "source": [
    "To have a global overview of the geographical area covered in this dataset, we can plot the airports location and indicate the number of flights recorded during year 2015 in each of them:"
   ]
  },
  {
   "cell_type": "code",
   "execution_count": null,
   "metadata": {
    "_cell_guid": "2aeae893-c0c1-4c62-9213-c1ea75b7fe31",
    "_kg_hide-input": true,
    "_uuid": "e7dbbaac527fd687c3d7b0b7d4188ede14ebb8d6",
    "collapsed": true,
    "jupyter": {
     "outputs_hidden": true
    },
    "scrolled": true
   },
   "outputs": [],
   "source": [
    "count_flights = df['ORIGIN_AIRPORT'].value_counts()\n",
    "#___________________________\n",
    "plt.figure(figsize=(11,11))\n",
    "#________________________________________\n",
    "# define properties of markers and labels\n",
    "colors = ['yellow', 'red', 'lightblue', 'purple', 'green', 'orange']\n",
    "size_limits = [1, 100, 1000, 10000, 100000, 1000000]\n",
    "labels = []\n",
    "for i in range(len(size_limits)-1):\n",
    "    labels.append(\"{} <.< {}\".format(size_limits[i], size_limits[i+1])) \n",
    "#____________________________________________________________\n",
    "map = Basemap(resolution='i',llcrnrlon=-180, urcrnrlon=-50,\n",
    "              llcrnrlat=10, urcrnrlat=75, lat_0=0, lon_0=0,)\n",
    "map.shadedrelief()\n",
    "map.drawcoastlines()\n",
    "map.drawcountries(linewidth = 3)\n",
    "map.drawstates(color='0.3')\n",
    "#_____________________\n",
    "# put airports on map\n",
    "for index, (code, y,x) in airports[['IATA_CODE', 'LATITUDE', 'LONGITUDE']].iterrows():\n",
    "    x, y = map(x, y)\n",
    "    isize = [i for i, val in enumerate(size_limits) if val < count_flights[code]]\n",
    "    ind = isize[-1]\n",
    "    map.plot(x, y, marker='o', markersize = ind+5, markeredgewidth = 1, color = colors[ind],\n",
    "             markeredgecolor='k', label = labels[ind])\n",
    "#_____________________________________________\n",
    "# remove duplicate labels and set their order\n",
    "handles, labels = plt.gca().get_legend_handles_labels()\n",
    "by_label = OrderedDict(zip(labels, handles))\n",
    "key_order = ('1 <.< 100', '100 <.< 1000', '1000 <.< 10000',\n",
    "             '10000 <.< 100000', '100000 <.< 1000000')\n",
    "new_label = OrderedDict()\n",
    "for key in key_order:\n",
    "    new_label[key] = by_label[key]\n",
    "plt.legend(new_label.values(), new_label.keys(), loc = 1, prop= {'size':11},\n",
    "           title='Number of flights per year', frameon = True, framealpha = 1)\n",
    "plt.show()"
   ]
  },
  {
   "cell_type": "markdown",
   "metadata": {
    "_cell_guid": "f8bbf533-fd46-4c9f-beca-bb9711e11c18",
    "_uuid": "91ad0a4b44f903438f9e5cb21884c99a35d5965d"
   },
   "source": [
    "Given the large size of the dataset, I decide to consider only a subset of the data in order to reduce the computational time. I will just keep the flights from January 2015:"
   ]
  },
  {
   "cell_type": "code",
   "execution_count": null,
   "metadata": {
    "_cell_guid": "916e7ec8-7d93-4b0c-858f-a812698aaba6",
    "_kg_hide-input": true,
    "_uuid": "87073320908859f551c332e077bfa1c19ed8c25c",
    "collapsed": true,
    "jupyter": {
     "outputs_hidden": true
    }
   },
   "outputs": [],
   "source": [
    "df = df[df['MONTH'] == 1]"
   ]
  },
  {
   "cell_type": "markdown",
   "metadata": {
    "_cell_guid": "d7ee2a3f-f4c5-4dff-bfc0-46c9a7d1e9d3",
    "_uuid": "2226b359e705a8396004cd4d5fe0b0a6dc062189"
   },
   "source": [
    "___\n",
    "## 1. Cleaning\n",
    "___\n",
    "### 1.1 Dates and times\n",
    "\n",
    "In the initial dataframe, dates are coded according to 4 variables: **YEAR, MONTH, DAY**, and **DAY_OF_WEEK**. In fact, python offers the **_datetime_** format which is really convenient to work with dates and times and I thus convert the dates in this format:\n"
   ]
  },
  {
   "cell_type": "code",
   "execution_count": null,
   "metadata": {
    "_cell_guid": "d6861e13-aa9a-4790-b768-40c54717c62f",
    "_kg_hide-input": true,
    "_uuid": "8652a730699b241163bdbe13396004e442f92baf",
    "collapsed": true,
    "jupyter": {
     "outputs_hidden": true
    }
   },
   "outputs": [],
   "source": [
    "df['DATE'] = pd.to_datetime(df[['YEAR','MONTH', 'DAY']])"
   ]
  },
  {
   "cell_type": "markdown",
   "metadata": {
    "_cell_guid": "9cccabe5-ae57-4814-b11a-6437b521e516",
    "_uuid": "2497f787a027f453cae5b6434542fc3ad2a9ff0d"
   },
   "source": [
    "Moreover, in the **SCHEDULED_DEPARTURE** variable, the hour of the take-off is coded as a float where the two first digits indicate the hour and the two last, the minutes. This format is not convenient and I thus convert it. Finally, I merge the take-off hour with the flight date. To proceed with these transformations, I define a few functions:"
   ]
  },
  {
   "cell_type": "code",
   "execution_count": null,
   "metadata": {
    "_cell_guid": "fe712458-abe5-4f40-a100-80dcddd69ad6",
    "_kg_hide-input": true,
    "_uuid": "d84175d06e4bd797bd125ce71f4629573d1d8092",
    "collapsed": true,
    "jupyter": {
     "outputs_hidden": true
    }
   },
   "outputs": [],
   "source": [
    "#_________________________________________________________\n",
    "# Function that convert the 'HHMM' string to datetime.time\n",
    "def format_heure(chaine):\n",
    "    if pd.isnull(chaine):\n",
    "        return np.nan\n",
    "    else:\n",
    "        if chaine == 2400: chaine = 0\n",
    "        chaine = \"{0:04d}\".format(int(chaine))\n",
    "        heure = datetime.time(int(chaine[0:2]), int(chaine[2:4]))\n",
    "        return heure\n",
    "#_____________________________________________________________________\n",
    "# Function that combines a date and time to produce a datetime.datetime\n",
    "def combine_date_heure(x):\n",
    "    if pd.isnull(x[0]) or pd.isnull(x[1]):\n",
    "        return np.nan\n",
    "    else:\n",
    "        return datetime.datetime.combine(x[0],x[1])\n",
    "#_______________________________________________________________________________\n",
    "# Function that combine two columns of the dataframe to create a datetime format\n",
    "def create_flight_time(df, col):    \n",
    "    liste = []\n",
    "    for index, cols in df[['DATE', col]].iterrows():    \n",
    "        if pd.isnull(cols[1]):\n",
    "            liste.append(np.nan)\n",
    "        elif float(cols[1]) == 2400:\n",
    "            cols[0] += datetime.timedelta(days=1)\n",
    "            cols[1] = datetime.time(0,0)\n",
    "            liste.append(combine_date_heure(cols))\n",
    "        else:\n",
    "            cols[1] = format_heure(cols[1])\n",
    "            liste.append(combine_date_heure(cols))\n",
    "    return pd.Series(liste)"
   ]
  },
  {
   "cell_type": "markdown",
   "metadata": {
    "_cell_guid": "a1b9f76b-ca73-4f30-a3b9-649dadf5decd",
    "_uuid": "b0ca2fe6b79c14a9b4ff90e7655bdf7cc6354c76"
   },
   "source": [
    "and I call them to modify the dataframe variables:"
   ]
  },
  {
   "cell_type": "code",
   "execution_count": null,
   "metadata": {
    "_cell_guid": "356ec2ff-3fe5-4ab9-8f4d-235fec6ffb63",
    "_kg_hide-input": true,
    "_uuid": "b7ecec66f3d495e2e50b82e61d5dc550b8179b6a",
    "collapsed": true,
    "jupyter": {
     "outputs_hidden": true
    }
   },
   "outputs": [],
   "source": [
    "df['SCHEDULED_DEPARTURE'] = create_flight_time(df, 'SCHEDULED_DEPARTURE')\n",
    "df['DEPARTURE_TIME'] = df['DEPARTURE_TIME'].apply(format_heure)\n",
    "df['SCHEDULED_ARRIVAL'] = df['SCHEDULED_ARRIVAL'].apply(format_heure)\n",
    "df['ARRIVAL_TIME'] = df['ARRIVAL_TIME'].apply(format_heure)\n",
    "#__________________________________________________________________________\n",
    "df.loc[:5, ['SCHEDULED_DEPARTURE', 'SCHEDULED_ARRIVAL', 'DEPARTURE_TIME',\n",
    "             'ARRIVAL_TIME', 'DEPARTURE_DELAY', 'ARRIVAL_DELAY']]"
   ]
  },
  {
   "cell_type": "markdown",
   "metadata": {
    "_cell_guid": "7636e373-e2d9-4478-9270-2b29b436801a",
    "_uuid": "bb1bc01410ecd9c32e4955eba5ec974a6cb41afe"
   },
   "source": [
    "Note that in practice, the content of the **DEPARTURE_TIME** and **ARRIVAL_TIME** variables can be a bit misleading since they don't contain the dates. For exemple, in the first entry of the dataframe, the scheduled departure is at 0h05 the 1st of January. The **DEPARTURE_TIME** variable indicates 23h54 and we thus don't know if the flight leaved before time or if there was a large delay. Hence, the **DEPARTURE_DELAY** and **ARRIVAL_DELAY** variables proves more useful since they directly provides the delays in minutes. Hence, in what follows, I will not use the **DEPARTURE_TIME** and **ARRIVAL_TIME** variables.\n",
    "\n",
    "### 1.2 Filling factor\n",
    "\n",
    "Finally, I clean the dataframe throwing the variables I won't use and re-organize the columns to ease its reading:"
   ]
  },
  {
   "cell_type": "code",
   "execution_count": null,
   "metadata": {
    "_cell_guid": "4d8faabc-9b14-4598-a1ec-8c8e6277db7d",
    "_kg_hide-input": true,
    "_uuid": "b4daa5a7f345e3fc5b847823f542e2bdf5a178a0",
    "collapsed": true,
    "jupyter": {
     "outputs_hidden": true
    }
   },
   "outputs": [],
   "source": [
    "variables_to_remove = ['TAXI_OUT', 'TAXI_IN', 'WHEELS_ON', 'WHEELS_OFF', 'YEAR', \n",
    "                       'MONTH','DAY','DAY_OF_WEEK','DATE', 'AIR_SYSTEM_DELAY',\n",
    "                       'SECURITY_DELAY', 'AIRLINE_DELAY', 'LATE_AIRCRAFT_DELAY',\n",
    "                       'WEATHER_DELAY', 'DIVERTED', 'CANCELLED', 'CANCELLATION_REASON',\n",
    "                       'FLIGHT_NUMBER', 'TAIL_NUMBER', 'AIR_TIME']\n",
    "df.drop(variables_to_remove, axis = 1, inplace = True)\n",
    "df = df[['AIRLINE', 'ORIGIN_AIRPORT', 'DESTINATION_AIRPORT',\n",
    "        'SCHEDULED_DEPARTURE', 'DEPARTURE_TIME', 'DEPARTURE_DELAY',\n",
    "        'SCHEDULED_ARRIVAL', 'ARRIVAL_TIME', 'ARRIVAL_DELAY',\n",
    "        'SCHEDULED_TIME', 'ELAPSED_TIME']]\n",
    "df[:5]"
   ]
  },
  {
   "cell_type": "markdown",
   "metadata": {
    "_cell_guid": "208ba5d6-a305-4458-ad95-c4499135e34f",
    "_uuid": "5f8c3345c720f977e5120d3d40b929a1fe8f1f2c"
   },
   "source": [
    "At this stage, I examine how complete the dataset is:"
   ]
  },
  {
   "cell_type": "code",
   "execution_count": null,
   "metadata": {
    "_cell_guid": "f9d7ccec-ad93-491a-b114-ab9a6db73b56",
    "_kg_hide-input": true,
    "_uuid": "6b5db35ee0badf50e777df2bfff70f19b0bda3bc",
    "collapsed": true,
    "jupyter": {
     "outputs_hidden": true
    }
   },
   "outputs": [],
   "source": [
    "missing_df = df.isnull().sum(axis=0).reset_index()\n",
    "missing_df.columns = ['variable', 'missing values']\n",
    "missing_df['filling factor (%)']=(df.shape[0]-missing_df['missing values'])/df.shape[0]*100\n",
    "missing_df.sort_values('filling factor (%)').reset_index(drop = True)"
   ]
  },
  {
   "cell_type": "markdown",
   "metadata": {
    "_cell_guid": "d910dffa-ce25-4c92-8610-04efff80d47e",
    "_uuid": "4bc8737a5da6714ce6cc49c8688619656865fb02"
   },
   "source": [
    "We see that the variables filling factor is quite good (> 97%). Since the scope of this work is not to establish the state-of-the-art in predicting flight delays, I decide to proceed without trying to impute what's missing and I simply remove the entries that contain missing values."
   ]
  },
  {
   "cell_type": "code",
   "execution_count": null,
   "metadata": {
    "_cell_guid": "374ed8ec-e66d-4964-a0fd-1960fe7a4ea5",
    "_kg_hide-input": true,
    "_uuid": "60bceb5e13bf5af8d460ec96f87341c7dc407a84",
    "collapsed": true,
    "jupyter": {
     "outputs_hidden": true
    }
   },
   "outputs": [],
   "source": [
    "df.dropna(inplace = True)"
   ]
  },
  {
   "cell_type": "markdown",
   "metadata": {
    "_cell_guid": "f3697145-55d1-4943-a7f2-a9c56c636a86",
    "_uuid": "5997da5d8af46951ce7408399e0b39dbe09477b8"
   },
   "source": [
    "___\n",
    "## 2. Comparing airlines\n"
   ]
  },
  {
   "cell_type": "markdown",
   "metadata": {
    "_cell_guid": "bb63deef-d238-4ab0-b980-441a2fe79b31",
    "_uuid": "dfb98bbdc528c1fe98dfce1d5660b848bc15c3bc"
   },
   "source": [
    "As said earlier, the **AIRLINE** variable contains the airline abreviations. Their full names can be retrieved from the `airlines.csv` file."
   ]
  },
  {
   "cell_type": "code",
   "execution_count": null,
   "metadata": {
    "_cell_guid": "cfff7486-c495-4d6b-ba81-429508942f56",
    "_kg_hide-input": true,
    "_uuid": "8608cd6e56aa3663cdc23ea325a9f3760e53eddf",
    "collapsed": true,
    "jupyter": {
     "outputs_hidden": true
    }
   },
   "outputs": [],
   "source": [
    "airlines_names = pd.read_csv('../input/airlines.csv')\n",
    "airlines_names"
   ]
  },
  {
   "cell_type": "markdown",
   "metadata": {
    "_cell_guid": "df1d2a0c-ff18-4a01-a25d-e8430831900b",
    "_uuid": "93223fb59244741a45e672ca8f054ea5316028ef"
   },
   "source": [
    "For further use, I put the content of this this dataframe in a dictionary:"
   ]
  },
  {
   "cell_type": "code",
   "execution_count": null,
   "metadata": {
    "_cell_guid": "3bae09a6-4d88-4457-8758-2b7b4836083d",
    "_uuid": "d0cf6529149105eac1ba48b0ba3e1d246f51b2a0",
    "collapsed": true,
    "jupyter": {
     "outputs_hidden": true
    }
   },
   "outputs": [],
   "source": [
    "abbr_companies = airlines_names.set_index('IATA_CODE')['AIRLINE'].to_dict()"
   ]
  },
  {
   "cell_type": "markdown",
   "metadata": {
    "_cell_guid": "2ac6e2cc-3948-4cd2-88d1-2d0d853aae0d",
    "_uuid": "d13334e56d7e7ef54b1828066a5ecd5c0b8e4fb3"
   },
   "source": [
    "___\n",
    "### 2.1 Basic statistical description of airlines\n",
    "\n",
    "As a first step, I consider all the flights from all carriers. Here, the aim is to classify the airlines with respect to their punctuality and for that purpose, I compute a few basic statisticial parameters:"
   ]
  },
  {
   "cell_type": "code",
   "execution_count": null,
   "metadata": {
    "_cell_guid": "4dc47175-b9e5-4c1c-8e7d-e9f4c4a2a0c1",
    "_kg_hide-input": true,
    "_uuid": "4bf03db2985c11552fc1ff40f658a272475b4b26",
    "collapsed": true,
    "jupyter": {
     "outputs_hidden": true
    }
   },
   "outputs": [],
   "source": [
    "#__________________________________________________________________\n",
    "# function that extract statistical parameters from a grouby objet:\n",
    "def get_stats(group):\n",
    "    return {'min': group.min(), 'max': group.max(),\n",
    "            'count': group.count(), 'mean': group.mean()}\n",
    "#_______________________________________________________________\n",
    "# Creation of a dataframe with statitical infos on each airline:\n",
    "global_stats = df['DEPARTURE_DELAY'].groupby(df['AIRLINE']).apply(get_stats).unstack()\n",
    "global_stats = global_stats.sort_values('count')\n",
    "global_stats"
   ]
  },
  {
   "cell_type": "markdown",
   "metadata": {
    "_cell_guid": "a0b2064a-b3a7-42a8-971c-b45cb0dfbe31",
    "_uuid": "38a3613c045702d9da671254f06d9d113a7e4ed3"
   },
   "source": [
    "Now, in order to facilitate the lecture of that information, I construct some graphics:"
   ]
  },
  {
   "cell_type": "code",
   "execution_count": null,
   "metadata": {
    "_cell_guid": "ae7f3ede-a9ef-4db4-aae0-f4ff5829b887",
    "_kg_hide-input": true,
    "_uuid": "c01ea5f23d0df63a6b1e48f97096e52a6b677f45",
    "collapsed": true,
    "jupyter": {
     "outputs_hidden": true
    }
   },
   "outputs": [],
   "source": [
    "font = {'family' : 'normal', 'weight' : 'bold', 'size'   : 15}\n",
    "mpl.rc('font', **font)\n",
    "import matplotlib.patches as mpatches\n",
    "#__________________________________________________________________\n",
    "# I extract a subset of columns and redefine the airlines labeling \n",
    "df2 = df.loc[:, ['AIRLINE', 'DEPARTURE_DELAY']]\n",
    "df2['AIRLINE'] = df2['AIRLINE'].replace(abbr_companies)\n",
    "#________________________________________________________________________\n",
    "colors = ['royalblue', 'grey', 'wheat', 'c', 'firebrick', 'seagreen', 'lightskyblue',\n",
    "          'lightcoral', 'yellowgreen', 'gold', 'tomato', 'violet', 'aquamarine', 'chartreuse']\n",
    "#___________________________________\n",
    "fig = plt.figure(1, figsize=(16,15))\n",
    "gs=GridSpec(2,2)             \n",
    "ax1=fig.add_subplot(gs[0,0]) \n",
    "ax2=fig.add_subplot(gs[0,1]) \n",
    "ax3=fig.add_subplot(gs[1,:]) \n",
    "#------------------------------\n",
    "# Pie chart nº1: nb of flights\n",
    "#------------------------------\n",
    "labels = [s for s in  global_stats.index]\n",
    "sizes  = global_stats['count'].values\n",
    "explode = [0.3 if sizes[i] < 20000 else 0.0 for i in range(len(abbr_companies))]\n",
    "patches, texts, autotexts = ax1.pie(sizes, explode = explode,\n",
    "                                labels=labels, colors = colors,  autopct='%1.0f%%',\n",
    "                                shadow=False, startangle=0)\n",
    "for i in range(len(abbr_companies)): \n",
    "    texts[i].set_fontsize(14)\n",
    "ax1.axis('equal')\n",
    "ax1.set_title('% of flights per company', bbox={'facecolor':'midnightblue', 'pad':5},\n",
    "              color = 'w',fontsize=18)\n",
    "#_______________________________________________\n",
    "# I set the legend: abreviation -> airline name\n",
    "comp_handler = []\n",
    "for i in range(len(abbr_companies)):\n",
    "    comp_handler.append(mpatches.Patch(color=colors[i],\n",
    "            label = global_stats.index[i] + ': ' + abbr_companies[global_stats.index[i]]))\n",
    "ax1.legend(handles=comp_handler, bbox_to_anchor=(0.2, 0.9), \n",
    "           fontsize = 13, bbox_transform=plt.gcf().transFigure)\n",
    "#----------------------------------------\n",
    "# Pie chart nº2: mean delay at departure\n",
    "#----------------------------------------\n",
    "sizes  = global_stats['mean'].values\n",
    "sizes  = [max(s,0) for s in sizes]\n",
    "explode = [0.0 if sizes[i] < 20000 else 0.01 for i in range(len(abbr_companies))]\n",
    "patches, texts, autotexts = ax2.pie(sizes, explode = explode, labels = labels,\n",
    "                                colors = colors, shadow=False, startangle=0,\n",
    "                                autopct = lambda p :  '{:.0f}'.format(p * sum(sizes) / 100))\n",
    "for i in range(len(abbr_companies)): \n",
    "    texts[i].set_fontsize(14)\n",
    "ax2.axis('equal')\n",
    "ax2.set_title('Mean delay at origin', bbox={'facecolor':'midnightblue', 'pad':5},\n",
    "              color='w', fontsize=18)\n",
    "#------------------------------------------------------\n",
    "# striplot with all the values reported for the delays\n",
    "#___________________________________________________________________\n",
    "# I redefine the colors for correspondance with the pie charts\n",
    "colors = ['firebrick', 'gold', 'lightcoral', 'aquamarine', 'c', 'yellowgreen', 'grey',\n",
    "          'seagreen', 'tomato', 'violet', 'wheat', 'chartreuse', 'lightskyblue', 'royalblue']\n",
    "#___________________________________________________________________\n",
    "ax3 = sns.stripplot(y=\"AIRLINE\", x=\"DEPARTURE_DELAY\", size = 4, palette = colors,\n",
    "                    data=df2, linewidth = 0.5,  jitter=True)\n",
    "plt.setp(ax3.get_xticklabels(), fontsize=14)\n",
    "plt.setp(ax3.get_yticklabels(), fontsize=14)\n",
    "ax3.set_xticklabels(['{:2.0f}h{:2.0f}m'.format(*[int(y) for y in divmod(x,60)])\n",
    "                         for x in ax3.get_xticks()])\n",
    "plt.xlabel('Departure delay', fontsize=18, bbox={'facecolor':'midnightblue', 'pad':5},\n",
    "           color='w', labelpad=20)\n",
    "ax3.yaxis.label.set_visible(False)\n",
    "#________________________\n",
    "plt.tight_layout(w_pad=3) "
   ]
  },
  {
   "cell_type": "markdown",
   "metadata": {
    "_cell_guid": "015986bc-c6e0-4a91-91e2-0180127e21b0",
    "_uuid": "dda13bff5d30fdfa309309c492a1a1bef8be916b"
   },
   "source": [
    "Considering the first pie chart that gives the percentage of flights per airline, we see that there is some disparity between the carriers. For exemple, *Southwest Airlines* accounts for $\\sim$20% of the flights which is similar to the number of flights chartered by the 7 tiniest airlines. However, if we have a look at the second pie chart, we see that here, on the contrary, the differences among airlines are less pronounced. Excluding *Hawaiian Airlines* and *Alaska Airlines* that report extremely low mean delays, we obtain that a value of **$\\sim$11$\\pm$7 minutes** would correctly represent all mean delays. Note that this value is quite low which mean that the standard for every airline is to respect the schedule !\n",
    "\n",
    "Finally, the figure at the bottom makes a census of all the delays that were measured in January 2015. This representation gives a feeling on the dispersion of data and put in perspective the relative homogeneity that appeared in the second pie chart. Indeed, we see that while all mean delays are around 10 minutes, this low value is a consequence of the fact that a majority of flights take off on time. However, we see that occasionally, we can face really large delays that can reach a few tens of hours !\n",
    "\n",
    "The large majority of short delays is visible in the next figure:"
   ]
  },
  {
   "cell_type": "code",
   "execution_count": null,
   "metadata": {
    "_cell_guid": "ed1b8da1-052a-4114-bb6f-4bd0b832aa3b",
    "_kg_hide-input": true,
    "_uuid": "1a4d6c1e05eee52f1c92766c213a7a3ab50cb1bd",
    "collapsed": true,
    "jupyter": {
     "outputs_hidden": true
    }
   },
   "outputs": [],
   "source": [
    "#_____________________________________________\n",
    "# Function that define how delays are grouped\n",
    "delay_type = lambda x:((0,1)[x > 5],2)[x > 45]\n",
    "df['DELAY_LEVEL'] = df['DEPARTURE_DELAY'].apply(delay_type)\n",
    "#____________________________________________________\n",
    "fig = plt.figure(1, figsize=(10,7))\n",
    "ax = sns.countplot(y=\"AIRLINE\", hue='DELAY_LEVEL', data=df)\n",
    "#____________________________________________________________________________________\n",
    "# We replace the abbreviations by the full names of the companies and set the labels\n",
    "labels = [abbr_companies[item.get_text()] for item in ax.get_yticklabels()]\n",
    "ax.set_yticklabels(labels)\n",
    "plt.setp(ax.get_xticklabels(), fontsize=12, weight = 'normal', rotation = 0);\n",
    "plt.setp(ax.get_yticklabels(), fontsize=12, weight = 'bold', rotation = 0);\n",
    "ax.yaxis.label.set_visible(False)\n",
    "plt.xlabel('Flight count', fontsize=16, weight = 'bold', labelpad=10)\n",
    "#________________\n",
    "# Set the legend\n",
    "L = plt.legend()\n",
    "L.get_texts()[0].set_text('on time (t < 5 min)')\n",
    "L.get_texts()[1].set_text('small delay (5 < t < 45 min)')\n",
    "L.get_texts()[2].set_text('large delay (t > 45 min)')\n",
    "plt.show()"
   ]
  },
  {
   "cell_type": "markdown",
   "metadata": {
    "_cell_guid": "23b373a6-41d8-4c20-8f29-4929c502792c",
    "_uuid": "4b562b408c5b91ebc500ca2124e6796866886bee"
   },
   "source": [
    "This figure gives a count of the delays of less than 5 minutes, those in the range 5 < t < 45 min and finally, the delays greater than 45 minutes. Hence, we wee that independently of the airline, delays greater than 45 minutes only account for a few percents. However, the proportion of delays in these three groups depends on the airline: as an exemple, in the case of \n",
    "*SkyWest Airlines*, the delays greater than 45 minutes are only lower by $\\sim$30% with respect to delays in the range 5 < t < 45 min. Things are better for *SoutWest Airlines*  since delays greater than 45 minutes are 4 times less frequent than delays in the range 5 < t < 45 min.\n"
   ]
  },
  {
   "cell_type": "markdown",
   "metadata": {
    "_cell_guid": "1f6cd47c-d910-4720-93d3-ab55c5db7804",
    "_uuid": "fdfa7e9a201fdbb18244ef140cfa3943274baa05"
   },
   "source": [
    "### 2.2 Delays distribution: establishing the ranking of airlines\n",
    "\n",
    "It was shown in the previous section that mean delays behave homogeneously among airlines (apart from two extrem cases) and is around 11$\\pm$7 minutes. Then, we saw that this low value is a consequence of the large proportion of flights that take off on time. However, occasionally, large delays can be registred. In this section, I examine more in details the distribution of delays for every airlines:"
   ]
  },
  {
   "cell_type": "code",
   "execution_count": null,
   "metadata": {
    "_cell_guid": "d451bacd-b2b5-40ce-8b47-8c77902f6c2a",
    "_kg_hide-input": true,
    "_uuid": "d83bea7754ac53b3110e2a9cdda802274e82b3c6",
    "collapsed": true,
    "jupyter": {
     "outputs_hidden": true
    }
   },
   "outputs": [],
   "source": [
    "#___________________________________________\n",
    "# Model function used to fit the histograms\n",
    "def func(x, a, b):\n",
    "    return a * np.exp(-x/b)\n",
    "#-------------------------------------------\n",
    "points = [] ; label_company = []\n",
    "fig = plt.figure(1, figsize=(11,11))\n",
    "i = 0\n",
    "for carrier_name in [abbr_companies[x] for x in global_stats.index]:\n",
    "    i += 1\n",
    "    ax = fig.add_subplot(5,3,i)    \n",
    "    #_________________________\n",
    "    # Fit of the distribution\n",
    "    n, bins, patches = plt.hist(x = df2[df2['AIRLINE']==carrier_name]['DEPARTURE_DELAY'],\n",
    "                                range = (15,180), normed=True, bins= 60)\n",
    "    bin_centers = bins[:-1] + 0.5 * (bins[1:] - bins[:-1])    \n",
    "    popt, pcov = curve_fit(func, bin_centers, n, p0 = [1, 2])\n",
    "    #___________________________\n",
    "    # bookeeping of the results\n",
    "    points.append(popt)\n",
    "    label_company.append(carrier_name)\n",
    "    #______________________\n",
    "    # draw the fit curve\n",
    "    plt.plot(bin_centers, func(bin_centers, *popt), 'r-', linewidth=3)    \n",
    "    #_____________________________________\n",
    "    # define tick labels for each subplot\n",
    "    if i < 10:\n",
    "        ax.set_xticklabels(['' for x in ax.get_xticks()])\n",
    "    else:\n",
    "        ax.set_xticklabels(['{:2.0f}h{:2.0f}m'.format(*[int(y) for y in divmod(x,60)])\n",
    "                            for x in ax.get_xticks()])\n",
    "    #______________\n",
    "    # subplot title\n",
    "    plt.title(carrier_name, fontsize = 14, fontweight = 'bold', color = 'darkblue')\n",
    "    #____________\n",
    "    # axes labels \n",
    "    if i == 4:\n",
    "        ax.text(-0.3,0.9,'Normalized count of flights', fontsize=16, rotation=90,\n",
    "            color='k', horizontalalignment='center', transform = ax.transAxes)\n",
    "    if i == 14:\n",
    "        ax.text( 0.5, -0.5 ,'Delay at origin', fontsize=16, rotation=0,\n",
    "            color='k', horizontalalignment='center', transform = ax.transAxes)\n",
    "    #___________________________________________\n",
    "    # Legend: values of the a and b coefficients\n",
    "    ax.text(0.68, 0.7, 'a = {}\\nb = {}'.format(round(popt[0],2), round(popt[1],1)),\n",
    "            style='italic', transform=ax.transAxes, fontsize = 12, family='fantasy',\n",
    "            bbox={'facecolor':'tomato', 'alpha':0.8, 'pad':5})\n",
    "    \n",
    "plt.tight_layout()"
   ]
  },
  {
   "cell_type": "markdown",
   "metadata": {
    "_cell_guid": "210eea4c-6e2c-43f8-a24d-f10889c0ea3b",
    "_uuid": "dac4f7c0db7e999fdf680f7bee9e0110169f8aa0"
   },
   "source": [
    "This figure shows the normalised distribution of delays that I modelised with an exponential distribution $ f(x) = a \\, \\mathrm{exp} (-x/b)$. The $a$ et $b$ parameters obtained to describe each airline are given in the upper right corner of each panel. Note that the normalisation of the distribution implies that $\\int f(x) \\, dx \\sim 1$. Here, we do not have a strict equality since the normalisation applies the histograms but not to the model function. However, this relation entails that the $a$ et $b$ coefficients will be correlated with $a \\propto 1/b$ and hence, only one of these two values is necessary to describe the distributions. Finally, according to the value of either $a$ or $b$, it is possible to establish a ranking of the companies: the low values of $a$ will correspond to airlines with a large proportion of important delays and, on the contrary, airlines that shine from their punctuality will admit hight $a$ values:"
   ]
  },
  {
   "cell_type": "code",
   "execution_count": null,
   "metadata": {
    "_cell_guid": "4243fb47-455d-4d64-a55c-7c84b1cef7b7",
    "_kg_hide-input": true,
    "_uuid": "de57557b0224e759e108857a85f51cd21663da33",
    "collapsed": true,
    "jupyter": {
     "outputs_hidden": true
    }
   },
   "outputs": [],
   "source": [
    "mpl.rcParams.update(mpl.rcParamsDefault)\n",
    "sns.set_context('paper')\n",
    "import matplotlib.patches as patches\n",
    "\n",
    "fig = plt.figure(1, figsize=(11,5))\n",
    "y_shift = [0 for _ in range(14)]\n",
    "y_shift[3] = 0.5/1000\n",
    "y_shift[12] = 2.5/1000\n",
    "y_shift[11] = -0.5/1000\n",
    "y_shift[8] = -2.5/1000\n",
    "y_shift[5] = 1/1000\n",
    "x_val = [s[1] for s in points]\n",
    "y_val = [s[0] for s in points]\n",
    "\n",
    "gs=GridSpec(2,7)\n",
    "#_______________________________\n",
    "# 1/ Plot overview (left panel)\n",
    "ax1=fig.add_subplot(gs[1,0:2]) \n",
    "plt.scatter(x=x_val, y=y_val, marker = 's', edgecolor='black', linewidth = '1')\n",
    "#__________________________________\n",
    "# Company label: Hawaiian airlines\n",
    "i= 1\n",
    "ax1.annotate(label_company[i], xy=(x_val[i]+1.5, y_val[i]+y_shift[i]),\n",
    "             xycoords='data', fontsize = 10)\n",
    "plt.xlabel(\"$b$ parameter\", fontsize=16, labelpad=20)\n",
    "plt.ylabel(\"$a$ parameter\", fontsize=16, labelpad=20)\n",
    "#__________________________________\n",
    "# Company label: Hawaiian airlines\n",
    "i= 12\n",
    "ax1.annotate(label_company[i], xy=(x_val[i]+1.5, y_val[i]+y_shift[i]),\n",
    "             xycoords='data', fontsize = 10)\n",
    "plt.xlabel(\"$b$ parameter\", fontsize=16, labelpad=20)\n",
    "plt.ylabel(\"$a$ parameter\", fontsize=16, labelpad=20)\n",
    "#____________\n",
    "# Main Title\n",
    "ax1.text(.5,1.5,'Characterizing delays \\n among companies', fontsize=16,\n",
    "        bbox={'facecolor':'midnightblue', 'pad':5}, color='w',\n",
    "        horizontalalignment='center',\n",
    "        transform=ax1.transAxes)\n",
    "#________________________\n",
    "# plot border parameters\n",
    "for k in ['top', 'bottom', 'right', 'left']:\n",
    "    ax1.spines[k].set_visible(True)\n",
    "    ax1.spines[k].set_linewidth(0.5)\n",
    "    ax1.spines[k].set_color('k')\n",
    "#____________________\n",
    "# Create a Rectangle \n",
    "rect = patches.Rectangle((21,0.025), 19, 0.07, linewidth=2,\n",
    "                         edgecolor='r', linestyle=':', facecolor='none')\n",
    "ax1.add_patch(rect)\n",
    "#_______________________________________________\n",
    "# 2/ Zoom on the bulk of carriers (right panel)\n",
    "ax2=fig.add_subplot(gs[0:2,2:])\n",
    "plt.scatter(x=x_val, y=y_val, marker = 's', edgecolor='black', linewidth = '1')\n",
    "plt.setp(ax1.get_xticklabels(), fontsize=12)\n",
    "plt.setp(ax1.get_yticklabels(), fontsize=12)\n",
    "ax2.set_xlim(21,45)\n",
    "ax2.set_ylim(0.025,0.095)\n",
    "#________________\n",
    "# Company labels\n",
    "for i in range(len(abbr_companies)):\n",
    "    ax2.annotate(label_company[i], xy=(x_val[i]+0.5, y_val[i]+y_shift[i]),\n",
    "                 xycoords='data', fontsize = 10)\n",
    "#____________________________\n",
    "# Increasing delay direction\n",
    "ax2.arrow(30, 0.09, 8, -0.03, head_width=0.005,\n",
    "          shape = 'full', head_length=2, fc='k', ec='k')\n",
    "ax2.annotate('increasing \\n  delays', fontsize= 20, color = 'r',\n",
    "          xy=(35, 0.075), xycoords='data')\n",
    "#________________________________\n",
    "# position and size of the ticks\n",
    "plt.tick_params(labelleft=False, labelright=True)\n",
    "plt.setp(ax2.get_xticklabels(), fontsize=14)\n",
    "plt.setp(ax2.get_yticklabels(), fontsize=14)\n",
    "#________________________\n",
    "# plot border parameters\n",
    "for k in ['top', 'bottom', 'right', 'left']:\n",
    "    ax2.spines[k].set_visible(True)\n",
    "    ax2.spines[k].set_linewidth(0.5)\n",
    "    ax2.spines[k].set_color('k')    \n",
    "#________________________________\n",
    "# Connection between the 2 plots\n",
    "xy2 = (40, 0.09) ; xy1 = (21, 0.095)\n",
    "con = ConnectionPatch(xyA=xy1, xyB=xy2, coordsA=\"data\", coordsB=\"data\",\n",
    "                      axesA=ax2, axesB=ax1,\n",
    "                      linestyle=':', linewidth = 2, color=\"red\")\n",
    "ax2.add_artist(con)\n",
    "xy2 = (40, 0.025) ; xy1 = (21, 0.025)\n",
    "con = ConnectionPatch(xyA=xy1, xyB=xy2, coordsA=\"data\", coordsB=\"data\",\n",
    "                      axesA=ax2, axesB=ax1,\n",
    "                      linestyle=':', linewidth = 2, color=\"red\")\n",
    "ax2.add_artist(con)\n",
    "plt.xlabel(\"$b$ parameter\", fontsize=16, labelpad=20)\n",
    "#--------------------------------\n",
    "plt.show()"
   ]
  },
  {
   "cell_type": "markdown",
   "metadata": {
    "_cell_guid": "55f02579-2cae-4686-a337-f4bbf7979466",
    "_uuid": "1181b2fda3f62efbf1610314ae9dde8b621f567a"
   },
   "source": [
    "The left panel of this figure gives an overview of the $a$ and $b$ coefficients of the 14 airlines showing that *Hawaiian Airlines* \n",
    "and *Delta Airlines* occupy the first two places. The right panel zooms on 12 other airlines. We can see that *SouthWest Airlines*, which represent $\\sim$20% of the total number of flights is well ranked and occupy the third position. According to this ranking, *SkyWest Airlines* is the worst carrier."
   ]
  },
  {
   "cell_type": "markdown",
   "metadata": {
    "_cell_guid": "0fabc61c-3b7b-4aca-ade0-4839400d28b9",
    "_uuid": "1057fcfe8613fd870e02aa2097354ca63985bf9b"
   },
   "source": [
    "___\n",
    "## 3. Delays: take-off or landing ?\n",
    "In the previous section, all the discussion was done on departure delays. However, these delays differ somewhat from the delays recorded at arrival:"
   ]
  },
  {
   "cell_type": "code",
   "execution_count": null,
   "metadata": {
    "_cell_guid": "379a4681-413f-4c81-a43b-8284660e39c7",
    "_kg_hide-input": true,
    "_uuid": "d6d18dcdf529df297c7d2c3e363b4ccf79912dfc",
    "collapsed": true,
    "jupyter": {
     "outputs_hidden": true
    }
   },
   "outputs": [],
   "source": [
    "mpl.rcParams.update(mpl.rcParamsDefault)\n",
    "mpl.rcParams['hatch.linewidth'] = 2.0  \n",
    "\n",
    "fig = plt.figure(1, figsize=(11,6))\n",
    "ax = sns.barplot(x=\"DEPARTURE_DELAY\", y=\"AIRLINE\", data=df, color=\"lightskyblue\", ci=None)\n",
    "ax = sns.barplot(x=\"ARRIVAL_DELAY\", y=\"AIRLINE\", data=df, color=\"r\", hatch = '///',\n",
    "                 alpha = 0.0, ci=None)\n",
    "labels = [abbr_companies[item.get_text()] for item in ax.get_yticklabels()]\n",
    "ax.set_yticklabels(labels)\n",
    "ax.yaxis.label.set_visible(False)\n",
    "plt.xlabel('Mean delay [min] (@departure: blue, @arrival: hatch lines)',\n",
    "           fontsize=14, weight = 'bold', labelpad=10);"
   ]
  },
  {
   "cell_type": "markdown",
   "metadata": {
    "_cell_guid": "5a0e7958-4c7b-4512-a02c-b6a29192f23c",
    "_uuid": "7e517ce5240d519a852e48264a3931c050844d0d"
   },
   "source": [
    "On this figure, we can see that delays at arrival are generally lower than at departure. This indicates that airlines adjust their flight speed in order to reduce the delays at arrival. In what follows, I will just consider the delays at departure but one has to keep in mind that this can differ from arrival delays."
   ]
  },
  {
   "cell_type": "markdown",
   "metadata": {
    "_cell_guid": "df6a500d-e61e-495d-9e2b-d2445fb9bee3",
    "_uuid": "0c59461c5d64f4479779f2591c0f18c15dda6b00"
   },
   "source": [
    "___\n",
    "## 4. Relation between the origin airport and delays\n",
    "\n",
    "I will now try to define if there is a correlation between the delays registered and the airport of origin. I recall that in the dataset, the number of airports considered is: "
   ]
  },
  {
   "cell_type": "code",
   "execution_count": null,
   "metadata": {
    "_cell_guid": "043c3b7d-06b0-4785-ba63-6ff0f4bd495f",
    "_kg_hide-input": true,
    "_uuid": "4e48ddde536f319230619c786e9780bc7b25d4ad",
    "collapsed": true,
    "jupyter": {
     "outputs_hidden": true
    }
   },
   "outputs": [],
   "source": [
    "print(\"Nb of airports: {}\".format(len(df['ORIGIN_AIRPORT'].unique())))"
   ]
  },
  {
   "cell_type": "markdown",
   "metadata": {
    "_cell_guid": "d8264dcb-eaee-4ce0-b9b1-1715b15ed560",
    "_uuid": "415c8b9687284d9ffdbf1aaea9e156a74c57b222"
   },
   "source": [
    "\n",
    "### 4.1 Geographical area covered by airlines \n",
    "\n",
    "Here, I have a quick look at the number of destination airports for each airline:"
   ]
  },
  {
   "cell_type": "code",
   "execution_count": null,
   "metadata": {
    "_cell_guid": "39b8aac0-5def-4a9b-8578-369e66eee662",
    "_kg_hide-input": true,
    "_uuid": "6110299e5f3920e097bd0dd0669315c5b7ab2cd0",
    "collapsed": true,
    "jupyter": {
     "outputs_hidden": true
    }
   },
   "outputs": [],
   "source": [
    "origin_nb = dict()\n",
    "for carrier in abbr_companies.keys():\n",
    "    liste_origin_airport = df[df['AIRLINE'] == carrier]['ORIGIN_AIRPORT'].unique()\n",
    "    origin_nb[carrier] = len(liste_origin_airport)"
   ]
  },
  {
   "cell_type": "code",
   "execution_count": null,
   "metadata": {
    "_cell_guid": "268b73f5-79df-4341-8576-901b61c5fa8d",
    "_kg_hide-input": true,
    "_uuid": "0dae75ac6bfb237065cd066ab393a5421ea70bd4",
    "collapsed": true,
    "jupyter": {
     "outputs_hidden": true
    }
   },
   "outputs": [],
   "source": [
    "test_df = pd.DataFrame.from_dict(origin_nb, orient='index')\n",
    "test_df.rename(columns = {0:'count'}, inplace = True)\n",
    "ax = test_df.plot(kind='bar', figsize = (8,3))\n",
    "labels = [abbr_companies[item.get_text()] for item in ax.get_xticklabels()]\n",
    "ax.set_xticklabels(labels)\n",
    "plt.ylabel('Number of airports visited', fontsize=14, weight = 'bold', labelpad=12)\n",
    "plt.setp(ax.get_xticklabels(), fontsize=11, ha = 'right', rotation = 80)\n",
    "ax.legend().set_visible(False)\n",
    "plt.show()"
   ]
  },
  {
   "cell_type": "code",
   "execution_count": null,
   "metadata": {
    "_cell_guid": "1817c61a-011e-47bb-a81c-a3ceab74af90",
    "_kg_hide-input": true,
    "_uuid": "1b28154f76dc2ed297b84a10ad3c1352af503dd7",
    "collapsed": true,
    "jupyter": {
     "outputs_hidden": true
    }
   },
   "outputs": [],
   "source": [
    "temp = pd.read_csv('../input/airports.csv')\n",
    "identify_airport = temp.set_index('IATA_CODE')['CITY'].to_dict()\n",
    "latitude_airport = temp.set_index('IATA_CODE')['LATITUDE'].to_dict()\n",
    "longitude_airport = temp.set_index('IATA_CODE')['LONGITUDE'].to_dict()"
   ]
  },
  {
   "cell_type": "code",
   "execution_count": null,
   "metadata": {
    "_cell_guid": "0377aaa4-72cf-477f-9cf1-f1ab2b6f4958",
    "_kg_hide-input": true,
    "_uuid": "f90e6b9542f9e6bb1ed88015a0aa8ac93c41de6e",
    "collapsed": true,
    "jupyter": {
     "outputs_hidden": true
    }
   },
   "outputs": [],
   "source": [
    "def make_map(df, carrier, long_min, long_max, lat_min, lat_max):\n",
    "    fig=plt.figure(figsize=(7,3))\n",
    "    ax=fig.add_axes([0.,0.,1.,1.])\n",
    "    m = Basemap(resolution='i',llcrnrlon=long_min, urcrnrlon=long_max,\n",
    "                  llcrnrlat=lat_min, urcrnrlat=lat_max, lat_0=0, lon_0=0,)\n",
    "    df2 = df[df['AIRLINE'] == carrier]\n",
    "    count_trajectories = df2.groupby(['ORIGIN_AIRPORT', 'DESTINATION_AIRPORT']).size()\n",
    "    count_trajectories.sort_values(inplace = True)\n",
    "    \n",
    "    for (origin, dest), s in count_trajectories.iteritems():\n",
    "        nylat,   nylon = latitude_airport[origin], longitude_airport[origin]\n",
    "        m.plot(nylon, nylat, marker='o', markersize = 10, markeredgewidth = 1,\n",
    "                   color = 'seagreen', markeredgecolor='k')\n",
    "\n",
    "    for (origin, dest), s in count_trajectories.iteritems():\n",
    "        nylat,   nylon = latitude_airport[origin], longitude_airport[origin]\n",
    "        lonlat, lonlon = latitude_airport[dest], longitude_airport[dest]\n",
    "        if pd.isnull(nylat) or pd.isnull(nylon) or \\\n",
    "                pd.isnull(lonlat) or pd.isnull(lonlon): continue\n",
    "        if s < 100:\n",
    "            m.drawgreatcircle(nylon, nylat, lonlon, lonlat, linewidth=0.5, color='b',\n",
    "                             label = '< 100')\n",
    "        elif s < 200:\n",
    "            m.drawgreatcircle(nylon, nylat, lonlon, lonlat, linewidth=2, color='r',\n",
    "                             label = '100 <.< 200')\n",
    "        else:\n",
    "            m.drawgreatcircle(nylon, nylat, lonlon, lonlat, linewidth=2, color='gold',\n",
    "                              label = '> 200')    \n",
    "    #_____________________________________________\n",
    "    # remove duplicate labels and set their order\n",
    "    handles, labels = plt.gca().get_legend_handles_labels()\n",
    "    by_label = OrderedDict(zip(labels, handles))\n",
    "    key_order = ('< 100', '100 <.< 200', '> 200')                \n",
    "    new_label = OrderedDict()\n",
    "    for key in key_order:\n",
    "        if key not in by_label.keys(): continue\n",
    "        new_label[key] = by_label[key]\n",
    "    plt.legend(new_label.values(), new_label.keys(), loc = 'best', prop= {'size':8},\n",
    "               title='flights per month', facecolor = 'palegreen', \n",
    "               shadow = True, frameon = True, framealpha = 1)    \n",
    "    m.drawcoastlines()\n",
    "    m.fillcontinents()\n",
    "    ax.set_title('{} flights'.format(abbr_companies[carrier]))"
   ]
  },
  {
   "cell_type": "code",
   "execution_count": null,
   "metadata": {
    "_cell_guid": "39285e6c-4c8c-4292-9646-bb79285cf6dd",
    "_kg_hide-input": true,
    "_uuid": "5fe50af67a8083e5be97b229c8952263e8165532",
    "collapsed": true,
    "jupyter": {
     "outputs_hidden": true
    }
   },
   "outputs": [],
   "source": [
    "coord = dict()\n",
    "coord['AA'] = [-165, -60, 10, 55]\n",
    "coord['AS'] = [-182, -63, 10, 75]\n",
    "coord['HA'] = [-180, -65, 10, 52]\n",
    "for carrier in ['AA', 'AS', 'HA']: \n",
    "    make_map(df, carrier, *coord[carrier])"
   ]
  },
  {
   "cell_type": "markdown",
   "metadata": {
    "_cell_guid": "032c19e6-a518-4eba-a260-4f06ee7c09af",
    "_uuid": "4b905c9fae552b570fa4abc22770e5c028b99644"
   },
   "source": [
    "___\n",
    "### 4.2 How the origin airport impact delays\n",
    "\n",
    "In this section, I will have a look at the variations of the delays with respect to the origin airport and for every airline. The first step thus consists in determining the mean delays per airport:"
   ]
  },
  {
   "cell_type": "code",
   "execution_count": null,
   "metadata": {
    "_cell_guid": "a47b96fd-5650-4fe2-916a-54734816033f",
    "_kg_hide-input": true,
    "_uuid": "9edca92438d893df9caafd9b066d547f79c4756c",
    "collapsed": true,
    "jupyter": {
     "outputs_hidden": true
    }
   },
   "outputs": [],
   "source": [
    "airport_mean_delays = pd.DataFrame(pd.Series(df['ORIGIN_AIRPORT'].unique()))\n",
    "airport_mean_delays.set_index(0, drop = True, inplace = True)\n",
    "\n",
    "for carrier in abbr_companies.keys():\n",
    "    df1 = df[df['AIRLINE'] == carrier]\n",
    "    test = df1['DEPARTURE_DELAY'].groupby(df['ORIGIN_AIRPORT']).apply(get_stats).unstack()\n",
    "    airport_mean_delays[carrier] = test.loc[:, 'mean'] "
   ]
  },
  {
   "cell_type": "markdown",
   "metadata": {
    "_cell_guid": "33ebba80-45d9-4d9a-a292-56ace32a995e",
    "_uuid": "618a41aa1dcd0c49c1b37cd826ba0a5f4c71b886"
   },
   "source": [
    "Since the number of airports is quite large, a graph showing all the information at once would be a bit messy, since it would represent around 4400 values (i.e. 312 airports $\\times$ 14 airlines). Hence, I just represent a subset of the data:"
   ]
  },
  {
   "cell_type": "code",
   "execution_count": null,
   "metadata": {
    "_cell_guid": "b029d5eb-50e6-4461-87fc-7effed9e5bd2",
    "_kg_hide-input": true,
    "_uuid": "a7e8d24ce06a878fbfb8a6bc405d560331c679ed",
    "collapsed": true,
    "jupyter": {
     "outputs_hidden": true
    }
   },
   "outputs": [],
   "source": [
    "sns.set(context=\"paper\")\n",
    "fig = plt.figure(1, figsize=(8,8))\n",
    "\n",
    "ax = fig.add_subplot(1,2,1)\n",
    "subset = airport_mean_delays.iloc[:50,:].rename(columns = abbr_companies)\n",
    "subset = subset.rename(index = identify_airport)\n",
    "mask = subset.isnull()\n",
    "sns.heatmap(subset, linewidths=0.01, cmap=\"Accent\", mask=mask, vmin = 0, vmax = 35)\n",
    "plt.setp(ax.get_xticklabels(), fontsize=10, rotation = 85) ;\n",
    "ax.yaxis.label.set_visible(False)\n",
    "\n",
    "ax = fig.add_subplot(1,2,2)    \n",
    "subset = airport_mean_delays.iloc[50:100,:].rename(columns = abbr_companies)\n",
    "subset = subset.rename(index = identify_airport)\n",
    "fig.text(0.5, 1.02, \"Delays: impact of the origin airport\", ha='center', fontsize = 18)\n",
    "mask = subset.isnull()\n",
    "sns.heatmap(subset, linewidths=0.01, cmap=\"Accent\", mask=mask, vmin = 0, vmax = 35)\n",
    "plt.setp(ax.get_xticklabels(), fontsize=10, rotation = 85) ;\n",
    "ax.yaxis.label.set_visible(False)\n",
    "\n",
    "plt.tight_layout()"
   ]
  },
  {
   "cell_type": "markdown",
   "metadata": {
    "_cell_guid": "fe346c75-a242-47c9-8e5f-d304a86a34cc",
    "_uuid": "e48d2a37cf3cafb4da3b4172fe4116dcdb1ea96c"
   },
   "source": [
    "This figure allows to draw some conclusions. First, by looking at the data associated with the different airlines, we find the behavior we previously observed: for example, if we consider the right panel, it will be seen that the column associated with  *American Eagle Airlines* mostly reports large delays, while the column associated with *Delta Airlines* is mainly associated  with delays of less than 5 minutes. If we now look at the airports of origin, we will see that some airports favor late departures: see e.g. Denver, Chicago or New York. Conversely, other airports will mainly know on time departures such as Portland or Oakland.\n",
    "\n",
    "Finally, we can deduce from these observations that there is a high variability in average delays, both between the different airports but also between the different airlines. This is important because it implies that in order to accurately model the delays, it will be necessary to adopt a model that is ** specific to the company and the home airport **. "
   ]
  },
  {
   "cell_type": "markdown",
   "metadata": {
    "_cell_guid": "95ea1aa5-59b2-48fe-86be-136caa27ffdd",
    "_uuid": "b9c1593a086d7aa9c1ee79db060f168ed382b5f3"
   },
   "source": [
    "___\n",
    "### 4.3 Flights with usual delays ?\n",
    "\n",
    "In the previous section, it has been seen that there is variability in delays when considering the different airlines and the different airports of origin. I'm now going to add a level of granularity by focusing not just on the original airports but on flights: origin $\\to$ destination. The objective here is to see if some flights are systematically delayed or if, on the contrary, there are flights that would always be on time.\n",
    "\n",
    "In the following, I consider the case of a single airline. I list all the flights A $\\to$ B carried out by this company and for each of them, I create the list of delays that have been recorded:"
   ]
  },
  {
   "cell_type": "code",
   "execution_count": null,
   "metadata": {
    "_cell_guid": "022950ad-11de-4fc5-b886-cb514b2f23eb",
    "_kg_hide-input": true,
    "_uuid": "58ddb1bf79651be32d3826667699f181160b463c",
    "collapsed": true,
    "jupyter": {
     "outputs_hidden": true
    }
   },
   "outputs": [],
   "source": [
    "#_________________________________________________________________\n",
    "# We select the company and create a subset of the main dataframe\n",
    "carrier = 'AA'\n",
    "df1 = df[df['AIRLINE']==carrier][['ORIGIN_AIRPORT','DESTINATION_AIRPORT','DEPARTURE_DELAY']]\n",
    "#___________________________________________________________\n",
    "# I collect the routes and list the delays for each of them\n",
    "trajet = dict()\n",
    "for ind, col in df1.iterrows():\n",
    "    if pd.isnull(col['DEPARTURE_DELAY']): continue\n",
    "    route = str(col['ORIGIN_AIRPORT'])+'-'+str(col['DESTINATION_AIRPORT'])\n",
    "    if route in trajet.keys():\n",
    "        trajet[route].append(col['DEPARTURE_DELAY'])\n",
    "    else:\n",
    "        trajet[route] = [col['DEPARTURE_DELAY']]\n",
    "#____________________________________________________________________        \n",
    "# I transpose the dictionary in a list to sort the routes by origins        \n",
    "liste_trajet = []\n",
    "for key, value in trajet.items():\n",
    "    liste_trajet.append([key, value])\n",
    "liste_trajet.sort()"
   ]
  },
  {
   "cell_type": "markdown",
   "metadata": {
    "_cell_guid": "57c56d89-e2b5-47e2-a7df-a1fa1e1e588d",
    "_uuid": "8fe853e8bdce309b45137a4e5a7eca5f6062faab"
   },
   "source": [
    "I then calculate the average delay on the various paths A $\\to$ B, as well as the standard deviation and once done, I create a graphical representation (for a sample of the flights):\n"
   ]
  },
  {
   "cell_type": "code",
   "execution_count": null,
   "metadata": {
    "_cell_guid": "3da1d635-a509-4d22-9aa6-b0f0ce4b7a96",
    "_kg_hide-input": true,
    "_uuid": "d4379e7130cc6d957ec53625aee57b6681d89882",
    "collapsed": true,
    "jupyter": {
     "outputs_hidden": true
    }
   },
   "outputs": [],
   "source": [
    "mean_val = [] ; std_val = [] ; x_label = []\n",
    "\n",
    "i = 0\n",
    "for route, liste_retards in liste_trajet:\n",
    "    #_____________________________________________\n",
    "    # I set the labels as the airport from origin\n",
    "    index = route.split('-')[0]\n",
    "    x_label.append(identify_airport[index])\n",
    "    #______________________________________________________________________________\n",
    "    # I put a threshold on delays to prevent that high values take too much weight\n",
    "    trajet2 = [min(90, s) for s in liste_retards]\n",
    "    #________________________________________\n",
    "    # I compute mean and standard deviations\n",
    "    mean_val.append(scipy.mean(trajet2))\n",
    "    std_val.append(scipy.std(trajet2))\n",
    "    i += 1\n",
    "#________________\n",
    "# Plot the graph\n",
    "fig, ax = plt.subplots(figsize=(10,4))\n",
    "std_min = [ min(15 + mean_val[i], s) for i,s in enumerate(std_val)] \n",
    "ax.errorbar(list(range(i)), mean_val, yerr = [std_min, std_val], fmt='o') \n",
    "ax.set_title('Mean route delays for \"{}\"'.format(abbr_companies[carrier]),\n",
    "             fontsize=14, weight = 'bold')\n",
    "plt.ylabel('Mean delay at origin (minutes)', fontsize=14, weight = 'bold', labelpad=12)\n",
    "#___________________________________________________\n",
    "# I define the x,y range and positions of the ticks\n",
    "imin, imax = 145, 230\n",
    "plt.xlim(imin, imax) ; plt.ylim(-20, 45)\n",
    "liste_ticks = [imin]\n",
    "for j in range(imin+1,imax):\n",
    "    if x_label[j] == x_label[j-1]: continue\n",
    "    liste_ticks.append(j)\n",
    "#_____________________________\n",
    "# and set the tick parameters  \n",
    "ax.set_xticks(liste_ticks)\n",
    "ax.set_xticklabels([x_label[int(x)] for x in ax.get_xticks()], rotation = 90, fontsize = 8)\n",
    "plt.setp(ax.get_yticklabels(), fontsize=12, rotation = 0)\n",
    "ax.tick_params(axis='y', which='major', pad=15)\n",
    "\n",
    "plt.show()"
   ]
  },
  {
   "cell_type": "markdown",
   "metadata": {
    "_cell_guid": "fb9cf607-7efc-47eb-9253-a7958ba115a3",
    "_uuid": "67e128de16610d05741d23e2c771ba9cbc6f8865"
   },
   "source": [
    "This figure gives the average delays for *American Airlines*, according to the city of origin and the destination (note that on the abscissa axis, only the origin is indicated for the sake of clarity). The error bars associated with the different paths correspond to the standard deviations.\n",
    "In this example, it can be seen that for a given airport of origin, delays will fluctuate depending on the destination. We see, for example, that here the greatest variations are obtained for New York or Miami where the initial average delays vary between 0 and $\\sim$20 minutes.\n",
    "\n",
    "___\n",
    "## 4. Temporal variability of delays\n",
    "\n",
    "In this section, I look at the way delays vary with time. Considering the case of a specific airline and airport, delays can be easily represented by day and time (_aside_: before doing this, I define a class that I will use extensively in what follows to produce graphs):"
   ]
  },
  {
   "cell_type": "code",
   "execution_count": null,
   "metadata": {
    "_cell_guid": "8cd7160a-5f42-45e8-8931-b0b768f83317",
    "_kg_hide-input": true,
    "_uuid": "3ede65bbb79cce631cdfc487ca9efa9c9b47e805",
    "collapsed": true,
    "jupyter": {
     "outputs_hidden": true
    }
   },
   "outputs": [],
   "source": [
    "class Figure_style():\n",
    "    #_________________________________________________________________\n",
    "    def __init__(self, size_x = 11, size_y = 5, nrows = 1, ncols = 1):\n",
    "        sns.set_style(\"white\")\n",
    "        sns.set_context(\"notebook\", font_scale=1.2, rc={\"lines.linewidth\": 2.5})\n",
    "        self.fig, axs = plt.subplots(nrows = nrows, ncols = ncols, figsize=(size_x,size_y,))\n",
    "        #________________________________\n",
    "        # convert self.axs to 2D array\n",
    "        if nrows == 1 and ncols == 1:\n",
    "            self.axs = np.reshape(axs, (1, -1))\n",
    "        elif nrows == 1:\n",
    "            self.axs = np.reshape(axs, (1, -1))\n",
    "        elif ncols == 1:\n",
    "            self.axs = np.reshape(axs, (-1, 1))\n",
    "    #_____________________________\n",
    "    def pos_update(self, ix, iy):\n",
    "        self.ix, self.iy = ix, iy\n",
    "    #_______________\n",
    "    def style(self):\n",
    "        self.axs[self.ix, self.iy].spines['right'].set_visible(False)\n",
    "        self.axs[self.ix, self.iy].spines['top'].set_visible(False)\n",
    "        self.axs[self.ix, self.iy].yaxis.grid(color='lightgray', linestyle=':')\n",
    "        self.axs[self.ix, self.iy].xaxis.grid(color='lightgray', linestyle=':')\n",
    "        self.axs[self.ix, self.iy].tick_params(axis='both', which='major',\n",
    "                                               labelsize=10, size = 5)\n",
    "    #________________________________________\n",
    "    def draw_legend(self, location='upper right'):\n",
    "        legend = self.axs[self.ix, self.iy].legend(loc = location, shadow=True,\n",
    "                                        facecolor = 'g', frameon = True)\n",
    "        legend.get_frame().set_facecolor('whitesmoke')\n",
    "    #_________________________________________________________________________________\n",
    "    def cust_plot(self, x, y, color='b', linestyle='-', linewidth=1, marker=None, label=''):\n",
    "        if marker:\n",
    "            markerfacecolor, marker, markersize = marker[:]\n",
    "            self.axs[self.ix, self.iy].plot(x, y, color = color, linestyle = linestyle,\n",
    "                                linewidth = linewidth, marker = marker, label = label,\n",
    "                                markerfacecolor = markerfacecolor, markersize = markersize)\n",
    "        else:\n",
    "            self.axs[self.ix, self.iy].plot(x, y, color = color, linestyle = linestyle,\n",
    "                                        linewidth = linewidth, label=label)\n",
    "        self.fig.autofmt_xdate()\n",
    "    #________________________________________________________________________\n",
    "    def cust_plot_date(self, x, y, color='lightblue', linestyle='-',\n",
    "                       linewidth=1, markeredge=False, label=''):\n",
    "        markeredgewidth = 1 if markeredge else 0\n",
    "        self.axs[self.ix, self.iy].plot_date(x, y, color='lightblue', markeredgecolor='grey',\n",
    "                                  markeredgewidth = markeredgewidth, label=label)\n",
    "    #________________________________________________________________________\n",
    "    def cust_scatter(self, x, y, color = 'lightblue', markeredge = False, label=''):\n",
    "        markeredgewidth = 1 if markeredge else 0\n",
    "        self.axs[self.ix, self.iy].scatter(x, y, color=color,  edgecolor='grey',\n",
    "                                  linewidths = markeredgewidth, label=label)    \n",
    "    #___________________________________________\n",
    "    def set_xlabel(self, label, fontsize = 14):\n",
    "        self.axs[self.ix, self.iy].set_xlabel(label, fontsize = fontsize)\n",
    "    #___________________________________________\n",
    "    def set_ylabel(self, label, fontsize = 14):\n",
    "        self.axs[self.ix, self.iy].set_ylabel(label, fontsize = fontsize)\n",
    "    #____________________________________\n",
    "    def set_xlim(self, lim_inf, lim_sup):\n",
    "        self.axs[self.ix, self.iy].set_xlim([lim_inf, lim_sup])\n",
    "    #____________________________________\n",
    "    def set_ylim(self, lim_inf, lim_sup):\n",
    "        self.axs[self.ix, self.iy].set_ylim([lim_inf, lim_sup])           "
   ]
  },
  {
   "cell_type": "code",
   "execution_count": null,
   "metadata": {
    "_cell_guid": "9b029c55-b854-40cf-ae05-67e1cc155dda",
    "_kg_hide-input": true,
    "_uuid": "e7a022d8a91a1f4e08a2be9180869863187d712c",
    "collapsed": true,
    "jupyter": {
     "outputs_hidden": true
    }
   },
   "outputs": [],
   "source": [
    "carrier = 'WN'\n",
    "id_airport = 4\n",
    "liste_origin_airport = df[df['AIRLINE'] == carrier]['ORIGIN_AIRPORT'].unique()\n",
    "df2 = df[(df['AIRLINE'] == carrier) & (df['ARRIVAL_DELAY'] > 0)\n",
    "         & (df['ORIGIN_AIRPORT'] == liste_origin_airport[id_airport])]\n",
    "df2.sort_values('SCHEDULED_DEPARTURE', inplace = True)"
   ]
  },
  {
   "cell_type": "code",
   "execution_count": null,
   "metadata": {
    "_cell_guid": "3c992ec5-d7e9-42e9-a6da-31bee55b2b79",
    "_kg_hide-input": true,
    "_uuid": "dd6ac81d96db2e2e4ef3d4f95341b5aa3bbd96a6",
    "collapsed": true,
    "jupyter": {
     "outputs_hidden": true
    }
   },
   "outputs": [],
   "source": [
    "fig1 = Figure_style(11, 5, 1, 1)\n",
    "fig1.pos_update(0, 0)\n",
    "fig1.cust_plot(df2['SCHEDULED_DEPARTURE'], df2['DEPARTURE_DELAY'], linestyle='-')\n",
    "fig1.style() \n",
    "fig1.set_ylabel('Delay (minutes)', fontsize = 14)\n",
    "fig1.set_xlabel('Departure date', fontsize = 14)\n",
    "date_1 = datetime.datetime(2015,1,1)\n",
    "date_2 = datetime.datetime(2015,1,15)\n",
    "fig1.set_xlim(date_1, date_2)\n",
    "fig1.set_ylim(-15, 260)"
   ]
  },
  {
   "cell_type": "markdown",
   "metadata": {
    "_cell_guid": "263b1470-64c4-46d5-a7f2-34712b55109e",
    "_uuid": "545605d16729cdb5924b800e2f22fb3fcb1eff18"
   },
   "source": [
    "This figure shows the existence of cycles, both in the frequency of the delays but also in their magnitude. In fact, intuitively, it seems quite logical to observe such cycles since they will be a consequence of the day-night alternation and the fact that the airport activity will be greatly reduced (if not inexistent) during the night. This suggests that a **important  variable** in the modeling of delays will be **take-off time**. To check this hypothesis, I look at the behavior of the mean delay as a function of departure time, aggregating the data of the current month:"
   ]
  },
  {
   "cell_type": "code",
   "execution_count": null,
   "metadata": {
    "_cell_guid": "4a4e7ec9-f5f4-4f30-850f-9b10288a23e3",
    "_kg_hide-input": true,
    "_uuid": "a9b7f73a58def8517dfaae518fbb3fe9ab498796",
    "collapsed": true,
    "jupyter": {
     "outputs_hidden": true
    }
   },
   "outputs": [],
   "source": [
    "#_______________________________\n",
    "def func2(x, a, b, c):\n",
    "    return a * x**2 +  b*x + c\n",
    "#_______________________________\n",
    "df2['heure_depart'] =  df2['SCHEDULED_DEPARTURE'].apply(lambda x:x.time())\n",
    "test2 = df2['DEPARTURE_DELAY'].groupby(df2['heure_depart']).apply(get_stats).unstack()\n",
    "fct = lambda x:x.hour*3600+x.minute*60+x.second\n",
    "x_val = np.array([fct(s) for s in test2.index]) \n",
    "y_val = test2['mean']\n",
    "popt, pcov = curve_fit(func2, x_val, y_val, p0 = [1, 2, 3])\n",
    "test2['fit'] = pd.Series(func2(x_val, *popt), index = test2.index)"
   ]
  },
  {
   "cell_type": "markdown",
   "metadata": {
    "_cell_guid": "f66716ae-73a9-464b-8301-a65f92bd15d2",
    "_uuid": "2dba27e34e280498d85a873851fd8e2fb7572990"
   },
   "source": [
    "which visually gives:"
   ]
  },
  {
   "cell_type": "code",
   "execution_count": null,
   "metadata": {
    "_cell_guid": "397a7b48-7026-47de-8a98-c8e00d7826f5",
    "_kg_hide-input": true,
    "_uuid": "8133d47cb1bb2fc42bc68413cb6244f0fb7c8c78",
    "collapsed": true,
    "jupyter": {
     "outputs_hidden": true
    }
   },
   "outputs": [],
   "source": [
    "fig1 = Figure_style(8, 4, 1, 1)\n",
    "fig1.pos_update(0, 0)\n",
    "fig1.cust_plot_date(df2['heure_depart'], df2['DEPARTURE_DELAY'],\n",
    "                    markeredge=False, label='initial data points')\n",
    "fig1.cust_plot(test2.index, test2['mean'], linestyle='--', linewidth=2, label='mean')\n",
    "fig1.cust_plot(test2.index, test2['fit'], color='r', linestyle='-', linewidth=3, label='fit')\n",
    "fig1.style() ; fig1.draw_legend('upper left')\n",
    "fig1.set_ylabel('Delay (minutes)', fontsize = 14)\n",
    "fig1.set_xlabel('Departure time', fontsize = 14)\n",
    "fig1.set_ylim(-15, 210)"
   ]
  },
  {
   "cell_type": "markdown",
   "metadata": {
    "_cell_guid": "c968a42d-d155-430f-a929-631571f1713b",
    "_uuid": "5b68cd855f24407af4b0907f024e7f7f7f4b1f4c"
   },
   "source": [
    "Here, we can see that the average delay tends to increase with the departure time of day: flights leave on time in the morning  and the delay grows almost monotonously up to 30 minutes at the end of the day. In fact, this behavior is quite general and looking at other aiports or companies, we would find similar trends.\n",
    "\n",
    "___\n",
    "## 6. Predicting flight delays \n",
    "\n",
    "The previsous sections dealt with an exploration of the dataset. Here, I start with the modeling of flight delays.\n",
    "In this section, my goal is to create a model that uses a window of 3 weeks to predict the delays of the following week.\n",
    "Hence, I decide to work on the data of January with the aim of predicting the delays of the epoch $23^{th}-31^{th}$ of Januaray"
   ]
  },
  {
   "cell_type": "code",
   "execution_count": null,
   "metadata": {
    "_cell_guid": "63031db7-e01a-4016-bd3f-882c67374009",
    "_kg_hide-input": true,
    "_uuid": "95ffff28eba2f3cd3696f4b35311d62c79f10398",
    "collapsed": true,
    "jupyter": {
     "outputs_hidden": true
    }
   },
   "outputs": [],
   "source": [
    "df_train = df[df['SCHEDULED_DEPARTURE'].apply(lambda x:x.date()) < datetime.date(2015, 1, 23)]\n",
    "df_test  = df[df['SCHEDULED_DEPARTURE'].apply(lambda x:x.date()) > datetime.date(2015, 1, 23)]\n",
    "df = df_train"
   ]
  },
  {
   "cell_type": "markdown",
   "metadata": {
    "_cell_guid": "0283baf2-6a41-4697-81f4-626d96be4dfe",
    "_uuid": "cfe280eddf43c84b74bf621f4a4248bea1641dad"
   },
   "source": [
    "___\n",
    "### 5.1 Model nº1: one airline, one airport\n",
    "\n",
    "I first decide to model the delays by considering separately the different airlines and by splitting the data according to the different home airports. This first model can be seen as a *\"toy-model\"*  that enables to identify problems that may arise at the  production stage. When treating the whole dataset,  the number of fits will be large. Hence we have to be sure that the automation of the whole process is robust enough to insure the quality of the fits.\n",
    "\n",
    "\n",
    "#### 5.1.1 Pitfalls <br>\n",
    "\n",
    "\n",
    "**a) Unsufficient statistics**\n",
    "\n",
    "First of all, I consider the *American Airlines* flights and make a census of the number of flights that left each airport:"
   ]
  },
  {
   "cell_type": "code",
   "execution_count": null,
   "metadata": {
    "_cell_guid": "a5ac7770-c74a-44b9-a395-01abed8e539b",
    "_kg_hide-input": true,
    "_uuid": "14669a9c51e5f6763187940a79209622b15a2a80",
    "collapsed": true,
    "jupyter": {
     "outputs_hidden": true
    }
   },
   "outputs": [],
   "source": [
    "carrier = 'AA'\n",
    "check_airports = df[(df['AIRLINE'] == carrier)]['DEPARTURE_DELAY'].groupby(\n",
    "                         df['ORIGIN_AIRPORT']).apply(get_stats).unstack()\n",
    "check_airports.sort_values('count', ascending = False, inplace = True)\n",
    "check_airports[-5:]"
   ]
  },
  {
   "cell_type": "markdown",
   "metadata": {
    "_cell_guid": "3cec20df-5fe1-495a-908a-dc7419a663a5",
    "_uuid": "f805fdae1b7c70a6bb7bb0690154dcb7acbcaa2a"
   },
   "source": [
    "Looking at this list, we can see that the less visited aiports only have a few flights in a month.\n",
    "Thus, in the least favorable case, it is impossible to perform a regression.\n",
    "\n",
    "**b) Extreme delays**\n",
    "\n",
    "Another pitfall to avoid is that of \"accidental\" delays: a particular attention should be paid to extreme delays. Indeed, during the exploration, it was seen that occasionally, delays of several hours (even tens of hours) could be recorded. This type of delay is however marginal (a few %) and the cause of these delays is probably linked to unpredictable events (weather, breakdown, accident, ...). On the other hand, taking into account a delay of this type will likely introduce a bias in the analysis. Moreover, the weight taken by large values will be significant if we have a small statistics.\n",
    "\n",
    "In order to illustrate this, I first define a function that calculates the mean flights delay per airline and per airport: "
   ]
  },
  {
   "cell_type": "code",
   "execution_count": null,
   "metadata": {
    "_cell_guid": "5c633257-bea9-47c5-ae2f-4ed801b73e9b",
    "_kg_hide-input": true,
    "_uuid": "580e60245d6a0b9a169dc41ce7210d881d641e6d",
    "collapsed": true,
    "jupyter": {
     "outputs_hidden": true
    }
   },
   "outputs": [],
   "source": [
    "def get_flight_delays(df, carrier, id_airport, extrem_values = False):\n",
    "    df2 = df[(df['AIRLINE'] == carrier) & (df['ORIGIN_AIRPORT'] == id_airport)]\n",
    "    #_______________________________________\n",
    "    # remove extreme values before fitting\n",
    "    if extrem_values:\n",
    "        df2['DEPARTURE_DELAY'] = df2['DEPARTURE_DELAY'].apply(lambda x:x if x < 60 else np.nan)\n",
    "        df2.dropna(how = 'any')\n",
    "    #__________________________________\n",
    "    # Conversion: date + heure -> heure\n",
    "    df2.sort_values('SCHEDULED_DEPARTURE', inplace = True)\n",
    "    df2['heure_depart'] =  df2['SCHEDULED_DEPARTURE'].apply(lambda x:x.time())\n",
    "    #___________________________________________________________________\n",
    "    # regroupement des vols par heure de départ et calcul de la moyenne\n",
    "    test2 = df2['DEPARTURE_DELAY'].groupby(df2['heure_depart']).apply(get_stats).unstack()\n",
    "    test2.reset_index(inplace=True)\n",
    "    #___________________________________\n",
    "    # conversion de l'heure en secondes\n",
    "    fct = lambda x:x.hour*3600+x.minute*60+x.second\n",
    "    test2.reset_index(inplace=True)\n",
    "    test2['heure_depart_min'] = test2['heure_depart'].apply(fct)\n",
    "    return test2"
   ]
  },
  {
   "cell_type": "markdown",
   "metadata": {
    "_cell_guid": "904112da-d060-4c6c-93b0-960c4e266439",
    "_uuid": "66ddeba930beacb7db59151610b35b952cfabf5f"
   },
   "source": [
    "\n",
    "and then a function that performs a linear regression on these values:"
   ]
  },
  {
   "cell_type": "code",
   "execution_count": null,
   "metadata": {
    "_cell_guid": "4c6ed950-f937-42d6-b17f-064a5d4360d6",
    "_kg_hide-input": true,
    "_uuid": "e8473b42f7d79ffcb6b57eb4bfbc2c721d22aa9d",
    "collapsed": true,
    "jupyter": {
     "outputs_hidden": true
    }
   },
   "outputs": [],
   "source": [
    "def linear_regression(test2):\n",
    "    test = test2[['mean', 'heure_depart_min']].dropna(how='any', axis = 0)\n",
    "    X = np.array(test['heure_depart_min'])\n",
    "    Y = np.array(test['mean'])\n",
    "    X = X.reshape(len(X),1)\n",
    "    Y = Y.reshape(len(Y),1)\n",
    "    regr = linear_model.LinearRegression()\n",
    "    regr.fit(X, Y)\n",
    "    result = regr.predict(X)\n",
    "    return X, Y, result"
   ]
  },
  {
   "cell_type": "markdown",
   "metadata": {
    "_cell_guid": "8607869a-070c-463b-b5fa-745f0db67cba",
    "_uuid": "53511ad7fb3041d87f18a1ec507a567eb91b74a7"
   },
   "source": [
    "I then consider two scenarios. In the first case, I take all the initial values and in the second case, I eliminate all delays greater than 1h before calculating the average delay. The comparison of the two cases is quite explicit:"
   ]
  },
  {
   "cell_type": "code",
   "execution_count": null,
   "metadata": {
    "_cell_guid": "9f8367dd-a527-4273-ad4c-8c23f1c54231",
    "_kg_hide-input": true,
    "_uuid": "dda423fbf893cf58eecf0d9253f900d4ce3c194c",
    "collapsed": true,
    "jupyter": {
     "outputs_hidden": true
    }
   },
   "outputs": [],
   "source": [
    "id_airport = 'PHL'\n",
    "df2 = df[(df['AIRLINE'] == carrier) & (df['ORIGIN_AIRPORT'] == id_airport)]\n",
    "df2['heure_depart'] =  df2['SCHEDULED_DEPARTURE'].apply(lambda x:x.time())\n",
    "df2['heure_depart'] = df2['heure_depart'].apply(lambda x:x.hour*3600+x.minute*60+x.second)\n",
    "#___________________\n",
    "# first case\n",
    "test2 = get_flight_delays(df, carrier, id_airport, False)\n",
    "X1, Y1, result2 = linear_regression(test2)\n",
    "#___________________\n",
    "# second case\n",
    "test3 = get_flight_delays(df, carrier, id_airport, True)\n",
    "X2, Y2, result3 = linear_regression(test3)"
   ]
  },
  {
   "cell_type": "code",
   "execution_count": null,
   "metadata": {
    "_cell_guid": "5af7a994-551e-4837-a1d4-de31ecc61910",
    "_kg_hide-input": true,
    "_uuid": "62fbebb471c2525b4aa1f98dac90555956ada77d",
    "collapsed": true,
    "jupyter": {
     "outputs_hidden": true
    }
   },
   "outputs": [],
   "source": [
    "fig1 = Figure_style(8, 4, 1, 1)\n",
    "fig1.pos_update(0, 0)\n",
    "fig1.cust_scatter(df2['heure_depart'], df2['DEPARTURE_DELAY'], markeredge = True)\n",
    "fig1.cust_plot(X1, Y1, color = 'b', linestyle = ':', linewidth = 2, marker = ('b','s', 10))\n",
    "fig1.cust_plot(X2, Y2, color = 'g', linestyle = ':', linewidth = 2, marker = ('g','X', 12))\n",
    "fig1.cust_plot(X1, result2, color = 'b', linewidth = 3)\n",
    "fig1.cust_plot(X2, result3, color = 'g', linewidth = 3)\n",
    "fig1.style()\n",
    "fig1.set_ylabel('Delay (minutes)', fontsize = 14)\n",
    "fig1.set_xlabel('Departure time', fontsize = 14)\n",
    "#____________________________________\n",
    "# convert and set the x ticks labels\n",
    "fct_convert = lambda x: (int(x/3600) , int(divmod(x,3600)[1]/60))\n",
    "fig1.axs[fig1.ix, fig1.iy].set_xticklabels(['{:2.0f}h{:2.0f}m'.format(*fct_convert(x))\n",
    "                                            for x in fig1.axs[fig1.ix, fig1.iy].get_xticks()]);"
   ]
  },
  {
   "cell_type": "markdown",
   "metadata": {
    "_cell_guid": "75bff86e-7495-4776-bf5a-074cd5bd04d6",
    "_uuid": "d3409644db394664661de660480d80e1fcbc6d4c"
   },
   "source": [
    "First of all, in this figure, the points corresponding to the individual flights are represented by the points in gray.\n",
    "The mean of these points gives the mean delays and the mean of the set of initial points corresponds to the blue squares. By removing extreme delays (> 1h), one obtains the average delays represented by the green crosses.\n",
    "Thus, in the first case, the fit (solid blue curve) leads to a prediction which corresponds to an average delay of $\\sim$ 10 minutes larger than the predicton obtained in the second case (green curve), and this, at any hour of the day.\n",
    "\n",
    "In conclusion, we see in this example that the way in which we manage the extreme delays will have an important impact on the modeling. Note, however, that the current example corresponds to a *chosen case* where the impact of extreme delays is magnified by the limited number of flights. Presumably, the impact of such delays will be less pronounced in the majority of cases."
   ]
  },
  {
   "cell_type": "markdown",
   "metadata": {
    "_cell_guid": "ee9b16b8-330a-48cf-9332-ab6895c3c7d3",
    "_uuid": "2f43651752bd67ec9df53ff72ed80f8a4912c4ee"
   },
   "source": [
    "___\n",
    "#### 5.1.2 Polynomial degree: splitting the dataset\n",
    "\n",
    "\n",
    "In practice, rather than performing a simple linear regression, we can improve the model doing a fit with a polynomial of order $N$. Doing so, it is necessary to define the degree $N$ which is optimal to represent the data. When increasing the polynomial order, it is important ** to prevent over-fitting** and we do this by splitting the dataset in **test and training sets**. A problem that may arise with this procedure is that the model ends by *indirectly* learning the contents of the test set and is thus biased. To avoid this, the data can be re-separated into 3 sets: *train*, *test* and *validation*. An alternative to this technique, which is often more robust, is the so-called cross-validation method. This method consists of performing a first separation of the data in *training* and *test* sets. As always, learning is done on the training set, but to avoid over-learning, it is split into several pieces that are used alternately for training and testing.\n",
    "\n",
    "Note that if the data set is small, the separation in test & training sets can introduce a bias in the estimation of the parameters. In practice, the *cross-validation* method avoids such bias. In fact, in the current model, we will encounter this type of problem and in what follows, I will highlight this. For example, we can consider an extreme case where, after separation, the training set would contain only hours $<$20h and the test set would have hours$>$ 20h. The model would then be unable to reproduce precisely this data, of which it would not have seen equivalent during the training. The cross-validation method avoids this bias because all the data are used successively to drive the model.\n",
    "\n",
    "** a) Bias introduced by the separation of the data set **\n",
    "\n",
    "In order to test the impact of data separation on model determination, I first define the class * fit_polynome *:"
   ]
  },
  {
   "cell_type": "code",
   "execution_count": null,
   "metadata": {
    "_cell_guid": "aaef6a0c-a906-4976-a01c-af2912ed11ae",
    "_kg_hide-input": true,
    "_uuid": "bcd29151c3e608a057dfbdd9359c9dbb506fdb8b",
    "collapsed": true,
    "jupyter": {
     "outputs_hidden": true
    }
   },
   "outputs": [],
   "source": [
    "class fit_polynome:\n",
    "\n",
    "    def __init__(self, data):\n",
    "        self.data = data[['mean', 'heure_depart_min']].dropna(how='any', axis = 0)\n",
    "\n",
    "    def split(self, method):        \n",
    "        self.method = method        \n",
    "        self.X = np.array(self.data['heure_depart_min'])\n",
    "        self.Y = np.array(self.data['mean'])\n",
    "        self.X = self.X.reshape(len(self.X),1)\n",
    "        self.Y = self.Y.reshape(len(self.Y),1)\n",
    "\n",
    "        if method == 'all':\n",
    "            self.X_train = self.X\n",
    "            self.Y_train = self.Y\n",
    "            self.X_test  = self.X\n",
    "            self.Y_test  = self.Y                        \n",
    "        elif method == 'split':            \n",
    "            self.X_train, self.X_test, self.Y_train, self.Y_test = \\\n",
    "                train_test_split(self.X, self.Y, test_size=0.3)\n",
    "    \n",
    "    def train(self, pol_order):\n",
    "        self.poly = PolynomialFeatures(degree = pol_order)\n",
    "        self.regr = linear_model.LinearRegression()\n",
    "        self.X_ = self.poly.fit_transform(self.X_train)\n",
    "        self.regr.fit(self.X_, self.Y_train)\n",
    "    \n",
    "    def predict(self, X):\n",
    "        self.X_ = self.poly.fit_transform(X)\n",
    "        self.result = self.regr.predict(self.X_)\n",
    "    \n",
    "    def calc_score(self):        \n",
    "        X_ = self.poly.fit_transform(self.X_test)\n",
    "        result = self.regr.predict(X_)\n",
    "        self.score = metrics.mean_squared_error(result, self.Y_test)"
   ]
  },
  {
   "cell_type": "markdown",
   "metadata": {
    "_cell_guid": "05d5fd39-a8e3-4ceb-931f-bf94fe1ded09",
    "_uuid": "9897bb8c8d2f6829f7f60a282e15b8a8769faa73"
   },
   "source": [
    "The * fit_polynome * class allows you to perform all operations related to a fit and to save the results. When calling the  **split()** method, the variable '*method*' defines how the initial data is separated:\n",
    "- *method = 'all' *: all input data is used to train and then test the model\n",
    "- *method = 'split' *: we use the * train_test_split() * method of sklearn to define test & training sets\n",
    " \n",
    "Then, the other methods of the class have the following functions:\n",
    "- ** train (n) **: drives the data on the training set and makes a polynomial of order n\n",
    "- ** predict (X) **: calculates the Y points associated with the X input and for the previously driven model\n",
    "- ** calc_score () **: calculates the model score in relation to the test set data\n",
    "\n",
    "In order to illustrate the bias introduced by the selection of the test set, I proceed in the following way: I carry out several \"train / test\" separation of a data set and for each case, I fit polynomials of orders ** n = 1, 2 and 3 **, by calculating their respective scores. Then, I show that according to the choice of separation, the best score can be obtained with any of the values ​​of ** n **. In practice, it is enough to carry out a dozen models to obtain this result. Moreover, this bias is introduced by the choice of the separation \"train / test\" and results from the small size of the dataset to be modeled. In fact, in the following, I take as an example the case of the airline * American Airlines * (the second biggest airline) and the airport of id 1129804, which is the airport with the most registered flights for that company. This is one of the least favorable scenarios for the emergence of this kind of bias, which, nevertheless, is present:"
   ]
  },
  {
   "cell_type": "code",
   "execution_count": null,
   "metadata": {
    "_cell_guid": "18d83821-21a3-4e86-98e1-9447c0a6a91b",
    "_kg_hide-input": true,
    "_uuid": "7153eb56e2539d60348313d5c63b5fd1110c118b",
    "collapsed": true,
    "jupyter": {
     "outputs_hidden": true
    }
   },
   "outputs": [],
   "source": [
    "fig = plt.figure(1, figsize=(10,4))\n",
    "\n",
    "ax = ['_' for _ in range(4)]\n",
    "ax[1]=fig.add_subplot(131) \n",
    "ax[2]=fig.add_subplot(132) \n",
    "ax[3]=fig.add_subplot(133) \n",
    "\n",
    "id_airport = 'BNA'\n",
    "test2 = get_flight_delays(df, carrier, id_airport, True)\n",
    "\n",
    "result = ['_' for _ in range(4)]\n",
    "score = [10000 for _ in range(4)]\n",
    "found = [False for _ in range(4)]\n",
    "fit = fit_polynome(test2)\n",
    "\n",
    "color = '.rgbyc'\n",
    "\n",
    "inc = 0\n",
    "while True:\n",
    "    inc += 1\n",
    "    fit.split('split')\n",
    "    for i in range(1,4):\n",
    "        fit.train(pol_order = i)\n",
    "        fit.predict(fit.X)\n",
    "        result[i] = fit.result\n",
    "        fit.calc_score()\n",
    "        score[i]  = fit.score\n",
    "\n",
    "    [ind_min] = [j for j,val in enumerate(score) if min(score) == val]\n",
    "    print(\"modèle nº{:<2}, min. pour n = {}, score = {:.1f}\".format(inc, ind_min,score[ind_min]))\n",
    "    \n",
    "    if not found[ind_min]:            \n",
    "        for i in range(1,4):\n",
    "            ax[ind_min].plot(fit.X, result[i], color[i], linewidth = 4 if i == ind_min else 1)\n",
    "        ax[ind_min].scatter(fit.X, fit.Y)                \n",
    "        ax[ind_min].text(0.05, 0.95, 'MSE = {:.1f}, {:.1f}, {:.1f}'.format(*score[1:4]),\n",
    "                         style='italic', transform=ax[ind_min].transAxes, fontsize = 8,\n",
    "                         bbox={'facecolor':'tomato', 'alpha':0.8, 'pad':5})                \n",
    "        found[ind_min] = True\n",
    "\n",
    "    shift = 0.5\n",
    "    plt.text(-1+shift, 1.05, \"polynomial order:\", color = 'k',\n",
    "                transform=ax[2].transAxes, fontsize = 16, family='fantasy')\n",
    "    plt.text(0+shift, 1.05, \"n = 1\", color = 'r', \n",
    "                transform=ax[2].transAxes, fontsize = 16, family='fantasy')\n",
    "    plt.text(0.4+shift, 1.05, \"n = 2\", color = 'g', \n",
    "                transform=ax[2].transAxes, fontsize = 16, family='fantasy')\n",
    "    plt.text(0.8+shift, 1.05, \"n = 3\", color = 'b',\n",
    "                transform=ax[2].transAxes, fontsize = 16, family='fantasy')\n",
    "   \n",
    "    if inc == 40 or all(found[1:4]): break"
   ]
  },
  {
   "cell_type": "markdown",
   "metadata": {
    "_cell_guid": "9d6e5190-3d7e-41f0-9577-0c9ff01628be",
    "_uuid": "59506ebe1e8ba4c87853cf450526c96f9c6ee71f"
   },
   "source": [
    "In this figure, the panels from left to right correspond to 3 separations of the data in train and test sets, for which the best models are obtained respectively with polynomials of order 1, 2 and 3. On each of these panels the 3 fits polynomials have been represented and the best model corresponds to the thick curve.\n",
    "\n",
    "** b) Selection by cross-validation**\n",
    "\n",
    "One of the advantages of the cross-validation method is that it avoids the bias that has just been put forward when choosing the polynomial degree. In order to use this method, I define a new class that I will use later to perform the fits:"
   ]
  },
  {
   "cell_type": "code",
   "execution_count": null,
   "metadata": {
    "_cell_guid": "b814a927-3dee-460f-b7fd-c0635139876f",
    "_kg_hide-input": true,
    "_uuid": "75d681e49174ab51957f451a6d06db9dd0419a0c",
    "collapsed": true,
    "jupyter": {
     "outputs_hidden": true
    }
   },
   "outputs": [],
   "source": [
    "class fit_polynome_cv:\n",
    "\n",
    "    def __init__(self, data):\n",
    "        self.data = data[['mean', 'heure_depart_min']].dropna(how='any', axis = 0)\n",
    "        self.X = np.array(self.data['heure_depart_min'])\n",
    "        self.Y = np.array(self.data['mean'])\n",
    "        self.X = self.X.reshape(len(self.X),1)\n",
    "        self.Y = self.Y.reshape(len(self.Y),1)\n",
    "\n",
    "    def train(self, pol_order, nb_folds):\n",
    "        self.poly = PolynomialFeatures(degree = pol_order)\n",
    "        self.regr = linear_model.LinearRegression()\n",
    "        self.X_ = self.poly.fit_transform(self.X)\n",
    "        self.result = cross_val_predict(self.regr, self.X_, self.Y, cv = nb_folds)\n",
    "    \n",
    "    def calc_score(self, pol_order, nb_folds):\n",
    "        self.poly = PolynomialFeatures(degree = pol_order)\n",
    "        self.regr = linear_model.LinearRegression()\n",
    "        self.X_ = self.poly.fit_transform(self.X)\n",
    "        self.score = np.mean(cross_val_score(self.regr, self.X_, self.Y,\n",
    "                                             cv = nb_folds, scoring = 'mean_squared_error'))"
   ]
  },
  {
   "cell_type": "markdown",
   "metadata": {
    "_cell_guid": "7f107b63-76f2-4148-b2be-df496ab73a93",
    "_uuid": "6e4d3a691db21cc26f120233a03869eca331cad0"
   },
   "source": [
    "This class has two methods:\n",
    "- ** train (n, nb_folds) **: defined 'nb_folds' training sets from the initial dataset and drives a 'n' order polynomial on each of these sets. This method returns as a result the Y predictions obtained for the different test sets.\n",
    "- ** calc_score (n, nb_folds) **: performs the same procedure as a ** train ** method except that this method calculates the fit score and not the predicted values ​​on the different test data.\n",
    "\n",
    "By default, the *'K-fold'* method is used by sklearn * cross_val_predict () * and * cross_val_score () * methods. These methods are deterministic in the choice of the K folds, which implies that for a fixed K value, the results obtained using these methods will always be identical. As seen in the previous example, this was not the case when using the *train_test_split()* method. Thus, if we take the same dataset as in the previous example, the method of cross validation makes it possible to choose the best polynomial degree:"
   ]
  },
  {
   "cell_type": "code",
   "execution_count": null,
   "metadata": {
    "_cell_guid": "df2f090b-7711-4392-8347-6d3a5e6ebd91",
    "_kg_hide-input": true,
    "_uuid": "eb508c4231e809d79ea85b27fe545f21da4d5383",
    "collapsed": true,
    "jupyter": {
     "outputs_hidden": true
    }
   },
   "outputs": [],
   "source": [
    "#id_airport = 1129804 \n",
    "nb_folds = 10\n",
    "print('Max possible number of folds: {} \\n'.format(test2.shape[0]-1))\n",
    "fit2 = fit_polynome_cv(test2)\n",
    "for i in range(1, 8):\n",
    "    fit2.calc_score(i, nb_folds)\n",
    "    print('n={} -> MSE = {}'.format(i, round(abs(fit2.score),3)))"
   ]
  },
  {
   "cell_type": "markdown",
   "metadata": {
    "_cell_guid": "163df7ae-c1d7-457d-a26e-41d71d4e3433",
    "_uuid": "59a14ebf29860463842821c27c7cd8e8adcb6272"
   },
   "source": [
    "We can see that using this method gives us that the best model (ie the best generalized model) is obtained with a polynomial of order 2. At this stage of the procedure, the choice of the polynomial order a has been validated and we can now use all the data in order to perform the fit:"
   ]
  },
  {
   "cell_type": "code",
   "execution_count": null,
   "metadata": {
    "_cell_guid": "e2f6a399-1175-4c91-a435-30787e83a59b",
    "_kg_hide-input": true,
    "_uuid": "e6aa06f9b741f0d2cd81383d5605be6f9c5a90cb",
    "collapsed": true,
    "jupyter": {
     "outputs_hidden": true
    }
   },
   "outputs": [],
   "source": [
    "fit = fit_polynome(test2)\n",
    "fit.split('all')\n",
    "fit.train(pol_order = 2)\n",
    "fit.predict(fit.X)"
   ]
  },
  {
   "cell_type": "markdown",
   "metadata": {
    "_cell_guid": "9e09b6eb-54b5-4ccf-8e47-6a33182b0b07",
    "_uuid": "570079c2f6559a7a32221abc141727d2c55d3290"
   },
   "source": [
    "Thus, in the following figure, the juxtaposition of the K = 50 polynomial fits corresponding to the cross validation calculation leads to the red curve. The polynomial fit corresponding to the final model corresponds to the blue curve."
   ]
  },
  {
   "cell_type": "code",
   "execution_count": null,
   "metadata": {
    "_cell_guid": "3f8f96bc-dfe2-4a12-8c4a-af88eba374d6",
    "_kg_hide-input": true,
    "_uuid": "d952428934031ce39f06bd269c9f4097cd71b6ad",
    "collapsed": true,
    "jupyter": {
     "outputs_hidden": true
    }
   },
   "outputs": [],
   "source": [
    "fit2.train(pol_order = 2, nb_folds = nb_folds)"
   ]
  },
  {
   "cell_type": "code",
   "execution_count": null,
   "metadata": {
    "_cell_guid": "dc44d86c-d939-4954-ae3b-a649b6740e7b",
    "_kg_hide-input": true,
    "_uuid": "83052ebebf8b0013a5b8fafd6fd9ec7530e7bfd4",
    "collapsed": true,
    "jupyter": {
     "outputs_hidden": true
    }
   },
   "outputs": [],
   "source": [
    "fig1 = Figure_style(8, 4, 1, 1) ; fig1.pos_update(0, 0)\n",
    "fig1.cust_scatter(fit2.X, fit2.Y, markeredge = True, label = 'initial data points')\n",
    "fig1.cust_plot(fit.X,fit2.result,color=u'#1f77b4',linestyle='--',linewidth=2,label='CV output')\n",
    "fig1.cust_plot(fit.X,fit.result,color=u'#ff7f0e',linewidth = 3,label='final fit')\n",
    "fig1.style(); fig1.draw_legend('upper left')\n",
    "fig1.set_ylabel('Delay (minutes)') ; fig1.set_xlabel('Departure time')\n",
    "#____________________________________\n",
    "# convert and set the x ticks labels\n",
    "fct_convert = lambda x: (int(x/3600) , int(divmod(x,3600)[1]/60))\n",
    "fig1.axs[fig1.ix, fig1.iy].set_xticklabels(['{:2.0f}h{:2.0f}m'.format(*fct_convert(x))\n",
    "                                            for x in fig1.axs[fig1.ix, fig1.iy].get_xticks()]);"
   ]
  },
  {
   "cell_type": "code",
   "execution_count": null,
   "metadata": {
    "_cell_guid": "865f74ba-04f8-47ae-a3be-83b3a0b7e472",
    "_kg_hide-input": true,
    "_uuid": "0590efe2bae50fe13a205a926d16e604f101e509",
    "collapsed": true,
    "jupyter": {
     "outputs_hidden": true
    }
   },
   "outputs": [],
   "source": [
    "score = metrics.mean_squared_error(fit.result, fit2.Y)\n",
    "score"
   ]
  },
  {
   "cell_type": "markdown",
   "metadata": {
    "_cell_guid": "d8ab6e53-e29a-4cf0-a706-2959323b3486",
    "_uuid": "c31510fcdeeff867bb99d04cbaf37618586fbd99"
   },
   "source": [
    "#### 5.1.3 Model test: prediction of end-January delays"
   ]
  },
  {
   "cell_type": "markdown",
   "metadata": {
    "_cell_guid": "5e429377-61e7-4fac-8ed8-d07db0a9db6c",
    "_uuid": "cac455263f20f5ca0d69c33f933c4f4f576137f6"
   },
   "source": [
    "At this stage, the model was driven is tested on the training set which include the data of the first 3 weeks of January. We now look at the comparison of predictions and observations for the fourth week of January:"
   ]
  },
  {
   "cell_type": "code",
   "execution_count": null,
   "metadata": {
    "_cell_guid": "1ea411e5-6d31-403e-9393-2921d8fd1557",
    "_kg_hide-input": true,
    "_uuid": "b2c03f38cb6e5ba506313b30ab4aa8655fcfbaae",
    "collapsed": true,
    "jupyter": {
     "outputs_hidden": true
    }
   },
   "outputs": [],
   "source": [
    "test_data = get_flight_delays(df_test, carrier, id_airport, True)\n",
    "test_data = test_data[['mean', 'heure_depart_min']].dropna(how='any', axis = 0)\n",
    "X_test = np.array(test_data['heure_depart_min'])\n",
    "Y_test = np.array(test_data['mean'])\n",
    "X_test = X_test.reshape(len(X_test),1)\n",
    "Y_test = Y_test.reshape(len(Y_test),1)\n",
    "fit.predict(X_test)"
   ]
  },
  {
   "cell_type": "markdown",
   "metadata": {
    "_cell_guid": "d08d9573-0a8a-4495-90c3-f407fe223dbd",
    "_uuid": "dac4f3dd95dd57a502829a07d6ebe5d977f944b2"
   },
   "source": [
    "and the MSE score of the model is:"
   ]
  },
  {
   "cell_type": "code",
   "execution_count": null,
   "metadata": {
    "_cell_guid": "9ac44eea-b6b0-42b0-89e3-9f27ee29b9ae",
    "_kg_hide-input": true,
    "_uuid": "d63b26d6ed3b378eed1deaba47f5efc373ffaaf0",
    "collapsed": true,
    "jupyter": {
     "outputs_hidden": true
    }
   },
   "outputs": [],
   "source": [
    "score = metrics.mean_squared_error(fit.result, Y_test)\n",
    "score"
   ]
  },
  {
   "cell_type": "markdown",
   "metadata": {
    "_cell_guid": "971bec0b-a20f-4e79-a42a-cc82eb7d6b88",
    "_uuid": "e2105cbfd812f8dd7fd63a50aeef58f3dfa6ad8a"
   },
   "source": [
    "To get an idea of the meaning of such a value for the MSE, we can assume a constant error on each point of the dataset. In which case, at each point $ i $, we have:\n",
    "\n",
    "\\begin{eqnarray}\n",
    "y_i - f(x_i) = cste = \\sqrt{MSE}\n",
    "\\end{eqnarray}"
   ]
  },
  {
   "cell_type": "markdown",
   "metadata": {
    "_cell_guid": "7a4dc48b-f0a3-4d4d-aa4b-51d7903a2687",
    "_uuid": "2e506fc52610ff75f59bed100a3450fae01adc62"
   },
   "source": [
    "thus giving the difference in minutes between the predicted delay and the actual delay. In this case, the difference between the model and the observations is thus typically:"
   ]
  },
  {
   "cell_type": "code",
   "execution_count": null,
   "metadata": {
    "_cell_guid": "9ee27ac1-e05b-4cd3-a094-7d97539d3c5e",
    "_kg_hide-input": true,
    "_uuid": "b7a9b91f106b184406987757723822f5e58fc766",
    "collapsed": true,
    "jupyter": {
     "outputs_hidden": true
    }
   },
   "outputs": [],
   "source": [
    "'Ecart = {:.2f} min'.format(np.sqrt(score))"
   ]
  },
  {
   "cell_type": "markdown",
   "metadata": {
    "_cell_guid": "84c7e509-1f42-4b2e-8630-612c274aa4e7",
    "_uuid": "f36af07595c40619367505b63d3c63a677809a1d"
   },
   "source": [
    "___\n",
    "### 5.2 Model nº2: One airline, all airports\n",
    "\n",
    "In the previous section, the model only considered one airport. This procedure is potentially inefficient because it is likely that some of the observations can be extrapolated from an ariport to another. Thus, it may be advantageous to make a single fit, which would take all the airports into account. In particular, this will allow to predict delays on airports for which the number of data is low with a better accuracy."
   ]
  },
  {
   "cell_type": "code",
   "execution_count": null,
   "metadata": {
    "_cell_guid": "c658c5c9-8f2a-4571-af64-49dac3e04d98",
    "_kg_hide-input": true,
    "_uuid": "a571c2e8801ccd3a2ac77b759b8509225bb64545",
    "collapsed": true,
    "jupyter": {
     "outputs_hidden": true
    }
   },
   "outputs": [],
   "source": [
    "def get_merged_delays(df, carrier):\n",
    "    liste_airports = df[df['AIRLINE'] == carrier]['ORIGIN_AIRPORT'].unique()\n",
    "    i = 0\n",
    "    liste_columns = ['AIRPORT_ID', 'heure_depart_min', 'mean']\n",
    "    for id_airport in liste_airports:\n",
    "        test2 = get_flight_delays(df, carrier, id_airport, True)\n",
    "        test2.loc[:, 'AIRPORT_ID'] = id_airport\n",
    "        test2 = test2[liste_columns]\n",
    "        test2.dropna(how = 'any', inplace = True)\n",
    "        if i == 0:\n",
    "            merged_df = test2.copy()\n",
    "        else:\n",
    "            merged_df = pd.concat([merged_df, test2], ignore_index = True)\n",
    "        i += 1    \n",
    "    return merged_df"
   ]
  },
  {
   "cell_type": "code",
   "execution_count": null,
   "metadata": {
    "_cell_guid": "eebc8152-09ca-4022-a1ee-be6cb044d2ca",
    "_kg_hide-input": true,
    "_uuid": "4c7de29ae238a5a74124f817d2fcfb0f76cccd33",
    "collapsed": true,
    "jupyter": {
     "outputs_hidden": true
    }
   },
   "outputs": [],
   "source": [
    "carrier = 'AA'\n",
    "merged_df = get_merged_delays(df, carrier)\n",
    "merged_df.shape"
   ]
  },
  {
   "cell_type": "markdown",
   "metadata": {
    "_cell_guid": "21c672c6-da5d-41fe-8f51-0439c7dc552b",
    "_uuid": "e3919b79691a9c3f114bb848ddc4c3b49262e9b3"
   },
   "source": [
    "In the *merged_df* dataframe, airports are referenced by an identifier given in the ** ORIGIN_AIRPORT** variable.\n",
    "The corresponding labels can't be used directly in a fit and I thus use the *one-hot-encoding* method:"
   ]
  },
  {
   "cell_type": "code",
   "execution_count": null,
   "metadata": {
    "_cell_guid": "4a987b80-d23d-4e42-a899-6e27ec6f18c3",
    "_kg_hide-input": true,
    "_uuid": "b91e742677cb0f116b7ab6f47c6bc9c50d52a340",
    "collapsed": true,
    "jupyter": {
     "outputs_hidden": true
    }
   },
   "outputs": [],
   "source": [
    "label_encoder = LabelEncoder()\n",
    "integer_encoded = label_encoder.fit_transform(merged_df['AIRPORT_ID'])\n",
    "#__________________________________________________________\n",
    "# correspondance between the codes and tags of the airports\n",
    "zipped = zip(integer_encoded, merged_df['AIRPORT_ID'])\n",
    "label_airports = list(set(list(zipped)))\n",
    "label_airports.sort(key = lambda x:x[0])\n",
    "label_airports[:5]"
   ]
  },
  {
   "cell_type": "markdown",
   "metadata": {
    "_cell_guid": "fafe1c34-7074-4bb3-91c8-9285a2faf9a1",
    "_uuid": "2d876c62f7b37a26811eae1ebd26864fd6cefd8c"
   },
   "source": [
    "Above, I have assigned a label to each airport. The correspondence between the label and the original identifier has been saved in the *label_airport* list. Now I proceed with the \"One Hot Encoding\" by creating a matrix where instead of the **ORIGIN_AIRPORT** variable that contained $M$ labels, we build a matrix with $M$ columns, filled of 0 and 1 depending on the correspondance with particular airports:"
   ]
  },
  {
   "cell_type": "code",
   "execution_count": null,
   "metadata": {
    "_cell_guid": "38314306-f6e3-4a8f-951a-ddcd5f9af175",
    "_kg_hide-input": true,
    "_uuid": "0d4968e3f7a0eb4957accd19a604a836b49cf6f3",
    "collapsed": true,
    "jupyter": {
     "outputs_hidden": true
    }
   },
   "outputs": [],
   "source": [
    "onehot_encoder = OneHotEncoder(sparse=False)\n",
    "integer_encoded = integer_encoded.reshape(len(integer_encoded), 1)\n",
    "onehot_encoded = onehot_encoder.fit_transform(integer_encoded)\n",
    "b = np.array(merged_df['heure_depart_min'])\n",
    "b = b.reshape(len(b),1)\n",
    "X = np.hstack((onehot_encoded, b))\n",
    "Y = np.array(merged_df['mean'])\n",
    "Y = Y.reshape(len(Y), 1)\n",
    "print(X.shape, Y.shape)"
   ]
  },
  {
   "cell_type": "markdown",
   "metadata": {
    "_cell_guid": "90034040-effb-4a78-b9dc-6dda19e07475",
    "_uuid": "f6ba3ef9ec38352f09273ab2773671803d1cba2d"
   },
   "source": [
    "___\n",
    "#### 5.2.1 Linear regression\n",
    "\n",
    "The matrices X and Y thus created can be used to perform a linear regression:"
   ]
  },
  {
   "cell_type": "code",
   "execution_count": null,
   "metadata": {
    "_cell_guid": "48032c42-67bb-49c8-9bf8-7ea76491b48e",
    "_kg_hide-input": true,
    "_uuid": "7182a17020d78cf21a1fe656e5fd4dd818971b65",
    "collapsed": true,
    "jupyter": {
     "outputs_hidden": true
    }
   },
   "outputs": [],
   "source": [
    "lm = linear_model.LinearRegression()\n",
    "model = lm.fit(X,Y)\n",
    "predictions = lm.predict(X)\n",
    "print(\"MSE =\", metrics.mean_squared_error(predictions, Y))"
   ]
  },
  {
   "cell_type": "markdown",
   "metadata": {
    "_cell_guid": "7ec69360-717e-4d03-8d78-d302cb555d0b",
    "_uuid": "5f9a88afcc741d5e8e2358daa6e71833d85fb527"
   },
   "source": [
    "Here, I calculated the MSE score of the fit. In practice, we can have a feeling of the quality of the fit by considering the number of predictions where the differences with real values is greater than 15 minutes:"
   ]
  },
  {
   "cell_type": "code",
   "execution_count": null,
   "metadata": {
    "_cell_guid": "2aa113de-cd48-4f71-a65c-72b93002977b",
    "_kg_hide-input": true,
    "_uuid": "9b91c919f609adfeb4d7320b441372a09987faf1",
    "collapsed": true,
    "jupyter": {
     "outputs_hidden": true
    }
   },
   "outputs": [],
   "source": [
    "icount = 0\n",
    "for i, val in enumerate(Y):\n",
    "    if abs(val-predictions[i]) > 15: icount += 1\n",
    "'{:.2f}%'.format(icount / len(predictions) * 100)"
   ]
  },
  {
   "cell_type": "markdown",
   "metadata": {
    "_cell_guid": "d21e6d42-e679-49d0-ac85-df0d7f4ac0d2",
    "_uuid": "358a9059faa655327a69b7e101f6cfbdc193e548"
   },
   "source": [
    "In practice, this model tends to underestimate the large delays, which can be seen in the following figure:"
   ]
  },
  {
   "cell_type": "code",
   "execution_count": null,
   "metadata": {
    "_cell_guid": "9abaaad6-d591-4fc2-8d2f-4162f396749a",
    "_kg_hide-input": true,
    "_uuid": "aed71efd53e2eb0a7ce6a490dded0792110d3659",
    "collapsed": true,
    "jupyter": {
     "outputs_hidden": true
    }
   },
   "outputs": [],
   "source": [
    "tips = pd.DataFrame()\n",
    "tips[\"prediction\"] = pd.Series([float(s) for s in predictions]) \n",
    "tips[\"original_data\"] = pd.Series([float(s) for s in Y]) \n",
    "sns.jointplot(x=\"original_data\", y=\"prediction\", data=tips, size = 6, ratio = 7,\n",
    "              joint_kws={'line_kws':{'color':'limegreen'}}, kind='reg')\n",
    "plt.xlabel('Mean delays (min)', fontsize = 15)\n",
    "plt.ylabel('Predictions (min)', fontsize = 15)\n",
    "plt.plot(list(range(-10,25)), list(range(-10,25)), linestyle = ':', color = 'r')\n",
    "sns.plt.show()"
   ]
  },
  {
   "cell_type": "markdown",
   "metadata": {
    "_cell_guid": "96e81de2-e672-47db-b869-05ebd4cd5fb6",
    "_uuid": "57f46d5185c0df570addd037d7f50dbcea980de1"
   },
   "source": [
    "___\n",
    "#### 5.2.2 Polynomial regression\n",
    "\n",
    "I will now extend the previous fit by using a polynomial rather than a linear function:"
   ]
  },
  {
   "cell_type": "code",
   "execution_count": null,
   "metadata": {
    "_cell_guid": "d3e071f9-7138-4609-9bf8-cb246cd32eea",
    "_kg_hide-input": true,
    "_uuid": "cb7ca2b0da8330cec391b3f2715497dbb5fd5821",
    "collapsed": true,
    "jupyter": {
     "outputs_hidden": true
    }
   },
   "outputs": [],
   "source": [
    "poly = PolynomialFeatures(degree = 2)\n",
    "regr = linear_model.LinearRegression()\n",
    "X_ = poly.fit_transform(X)\n",
    "regr.fit(X_, Y)"
   ]
  },
  {
   "cell_type": "code",
   "execution_count": null,
   "metadata": {
    "_cell_guid": "36ad4a4b-9c2f-4ccd-b6de-c01dcd0d366a",
    "_kg_hide-input": true,
    "_uuid": "dfde235823ebc769f2c6288890c407c97b3c6d0e",
    "collapsed": true,
    "jupyter": {
     "outputs_hidden": true
    }
   },
   "outputs": [],
   "source": [
    "result = regr.predict(X_)\n",
    "print(\"MSE =\", metrics.mean_squared_error(result, Y))"
   ]
  },
  {
   "cell_type": "markdown",
   "metadata": {
    "_cell_guid": "8b090613-ad89-4835-8520-e2af25b18ddd",
    "_uuid": "0e9f7dee20773aa46395dce2a6a593daa9b110f2"
   },
   "source": [
    "We can see that a polynomial fit improves slightly the MSE score. In practice, the percentage of values where the difference between predictions and real delays is greater than 15 minutes is:"
   ]
  },
  {
   "cell_type": "code",
   "execution_count": null,
   "metadata": {
    "_cell_guid": "ba1bcdd5-d5f0-4994-8ac0-40900fa45c72",
    "_kg_hide-input": true,
    "_uuid": "a2989994c8363f1862198ab873a5d24853fec037",
    "collapsed": true,
    "jupyter": {
     "outputs_hidden": true
    }
   },
   "outputs": [],
   "source": [
    "icount = 0\n",
    "for i, val in enumerate(Y):\n",
    "    if abs(val-result[i]) > 15: icount += 1\n",
    "'{:.2f}%'.format(icount / len(result) * 100)"
   ]
  },
  {
   "cell_type": "markdown",
   "metadata": {
    "_cell_guid": "f2cdc582-4732-408c-ab0e-6486b984358e",
    "_uuid": "cf6ad9e713378789eb89b9a03813abc63ce2d588"
   },
   "source": [
    "And as before, it can be seen that model tends to be worse in the case of large delays:"
   ]
  },
  {
   "cell_type": "code",
   "execution_count": null,
   "metadata": {
    "_cell_guid": "731f7d4c-6227-4486-b576-07bdad61a666",
    "_kg_hide-input": true,
    "_uuid": "58fe45c37973be0fcb3353a5560dc4fc65bf3898",
    "collapsed": true,
    "jupyter": {
     "outputs_hidden": true
    }
   },
   "outputs": [],
   "source": [
    "tips = pd.DataFrame()\n",
    "tips[\"prediction\"] = pd.Series([float(s) for s in result]) \n",
    "tips[\"original_data\"] = pd.Series([float(s) for s in Y]) \n",
    "sns.jointplot(x=\"original_data\", y=\"prediction\", data=tips, size = 6, ratio = 7,\n",
    "              joint_kws={'line_kws':{'color':'limegreen'}}, kind='reg')\n",
    "plt.xlabel('Mean delays (min)', fontsize = 15)\n",
    "plt.ylabel('Predictions (min)', fontsize = 15)\n",
    "plt.plot(list(range(-10,25)), list(range(-10,25)), linestyle = ':', color = 'r')\n",
    "sns.plt.show()"
   ]
  },
  {
   "cell_type": "markdown",
   "metadata": {
    "_cell_guid": "227ec024-2d61-4ad4-a3dd-8e1351effe03",
    "_uuid": "9fc23d5b12bda9fa5cb4a81624651d715f449a27"
   },
   "source": [
    "___\n",
    "#### 5.2.3 Setting the free parameters\n",
    "\n",
    "Above, the two models were fit and tested on the training set. In practice, as mentioned above, there is a risk of overfitting by proceeding that way and the free parameters of the model will be biased. Hence,  the model will not allow a good generalization. In what follows, I will therefore split the datas in order to train and then test the model. The purpose will be to determine the polynomial degree which allows the best generalization of the predictions:"
   ]
  },
  {
   "cell_type": "code",
   "execution_count": null,
   "metadata": {
    "_cell_guid": "43b16a07-73e5-4e06-849d-1702abe950cb",
    "_kg_hide-input": true,
    "_uuid": "fcc9c7df99caead4c2a259e3c19c3d179d246f52",
    "collapsed": true,
    "jupyter": {
     "outputs_hidden": true
    }
   },
   "outputs": [],
   "source": [
    "X_train, X_test, Y_train, Y_test = train_test_split(X, Y, test_size=0.3)"
   ]
  },
  {
   "cell_type": "markdown",
   "metadata": {
    "_cell_guid": "c74d7e45-9bb6-4cee-ba23-586c14377c1e",
    "_uuid": "e3792718be517265797a3deb1d8cd661b1c5d492"
   },
   "source": [
    "As before, I fit the model on the training set:"
   ]
  },
  {
   "cell_type": "code",
   "execution_count": null,
   "metadata": {
    "_cell_guid": "1ef43423-1cb7-4b67-9e69-baa99f99999f",
    "_kg_hide-input": true,
    "_uuid": "4054f837d1c57937175128f9c32730179371855e",
    "collapsed": true,
    "jupyter": {
     "outputs_hidden": true
    }
   },
   "outputs": [],
   "source": [
    "X_train.shape"
   ]
  },
  {
   "cell_type": "code",
   "execution_count": null,
   "metadata": {
    "_cell_guid": "6937280e-bdb9-4afd-bc20-daca28fb2fdd",
    "_kg_hide-input": true,
    "_uuid": "8405b16b96913fd324f8cfd744be3a80d44d46b7",
    "collapsed": true,
    "jupyter": {
     "outputs_hidden": true
    }
   },
   "outputs": [],
   "source": [
    "poly = PolynomialFeatures(degree = 2)\n",
    "regr = linear_model.LinearRegression()\n",
    "X_ = poly.fit_transform(X_train)\n",
    "regr.fit(X_, Y_train)\n",
    "result = regr.predict(X_)\n",
    "score = metrics.mean_squared_error(result, Y_train)\n",
    "print(\"Mean squared error = \", score)"
   ]
  },
  {
   "cell_type": "markdown",
   "metadata": {
    "_cell_guid": "dca93ccb-c567-410e-bd2e-a7c77de5eb42",
    "_uuid": "4fc3bf38f3153b59354864a4f8702a0d16b77687"
   },
   "source": [
    "Now, by testing on the test set we get:"
   ]
  },
  {
   "cell_type": "code",
   "execution_count": null,
   "metadata": {
    "_cell_guid": "3fd7b96c-3bd9-4866-af43-55f00146c0f3",
    "_kg_hide-input": true,
    "_uuid": "a80831944c8457075abe253cb43ff7244ff8c381",
    "collapsed": true,
    "jupyter": {
     "outputs_hidden": true
    }
   },
   "outputs": [],
   "source": [
    "X_ = poly.fit_transform(X_test)\n",
    "result = regr.predict(X_)\n",
    "score = metrics.mean_squared_error(result, Y_test)\n",
    "print(\"Mean squared error = \", score)"
   ]
  },
  {
   "cell_type": "markdown",
   "metadata": {
    "_cell_guid": "997867e1-8315-4606-9724-6fc48fe67fc0",
    "_uuid": "d3cddfd8921d5cddce6fa8eebd3e0693f4c6b7c6"
   },
   "source": [
    "Here, we see that the **fit is particularly bad with a MSE > 500** (the exact value depends on the run and on the splitting of the dataset), which means that the fit performs poorly when generalyzing to other data. Now let's examine in detail the reasons why we have such a bad score. Below, I examing all the terms of the MSE calculation and identify the largest terms:"
   ]
  },
  {
   "cell_type": "code",
   "execution_count": null,
   "metadata": {
    "_cell_guid": "950cd9e7-71bd-49b1-9dec-6b4d0e382682",
    "_kg_hide-input": true,
    "_uuid": "59350ce0bc664622b8db1f76363449bb4a103d35",
    "collapsed": true,
    "jupyter": {
     "outputs_hidden": true
    }
   },
   "outputs": [],
   "source": [
    "somme = 0\n",
    "for valeurs in zip(result, Y_test):\n",
    "    ajout = (float(valeurs[0]) - float(valeurs[1]))**2\n",
    "    somme += ajout\n",
    "    if ajout > 10**4:\n",
    "        print(\"{:<.1f} {:<.1f} {:<.1f}\".format(ajout, float(valeurs[0]), float(valeurs[1])))"
   ]
  },
  {
   "cell_type": "markdown",
   "metadata": {
    "_cell_guid": "8ab10180-e6c1-4c85-bb8b-b5db31534afd",
    "_uuid": "afbf503ac5290e9c9fc8f3b6288b2c25d7eb4a00"
   },
   "source": [
    "We see that some predictions show very large errors. In practice, this can be explained by the fact that during the separation in train and test sets, **data with no equivalent in the training set was put in the test data**. Thus, when calculating the prediction, the model has to **perform an extrapolation**. If the coefficients of the fit are large (which is often the case when overfitting), extrapolated values will show important values, as in the present case. In order to have a control over this phenomenon, we can use a **regularization method** which will put a penalty to the models whose coefficients are the most important:"
   ]
  },
  {
   "cell_type": "code",
   "execution_count": null,
   "metadata": {
    "_cell_guid": "534b513a-b5ec-42f4-bfaf-b01eb98c90a2",
    "_kg_hide-input": true,
    "_uuid": "48889e55fc5aef282ba1a652dd7962c8a7a94cbc",
    "collapsed": true,
    "jupyter": {
     "outputs_hidden": true
    }
   },
   "outputs": [],
   "source": [
    "from sklearn.linear_model import Ridge\n",
    "ridgereg = Ridge(alpha=0.3,normalize=True)\n",
    "poly = PolynomialFeatures(degree = 2)\n",
    "X_ = poly.fit_transform(X_train)\n",
    "ridgereg.fit(X_, Y_train)"
   ]
  },
  {
   "cell_type": "markdown",
   "metadata": {
    "_cell_guid": "b0ec0c5a-60c9-44dd-8461-668bb714e801",
    "_uuid": "e920baf61c1327b08a831e0489a76b631bcc5fa9"
   },
   "source": [
    "Now, if we calculate the score associated to the predictions made with a regularization technique, we have:"
   ]
  },
  {
   "cell_type": "code",
   "execution_count": null,
   "metadata": {
    "_cell_guid": "abbc5e64-dab1-4972-a0d1-2f7f2de5813c",
    "_kg_hide-input": true,
    "_uuid": "e2ccca02f1fa3ef58eb66d6bb953c071c0eda660",
    "collapsed": true,
    "jupyter": {
     "outputs_hidden": true
    }
   },
   "outputs": [],
   "source": [
    "X_ = poly.fit_transform(X_test)\n",
    "result = ridgereg.predict(X_)\n",
    "score = metrics.mean_squared_error(result, Y_test)\n",
    "print(\"Mean squared error = \", score)"
   ]
  },
  {
   "cell_type": "markdown",
   "metadata": {
    "_cell_guid": "022f00b3-ec66-4622-875f-78fb8f85f5a3",
    "_uuid": "dcb0a8a9fafe20fce3291981cdd0d81b1898d31e"
   },
   "source": [
    "And we can see that we obtain a reasonnable score. Hence, with the current procedure, to determine the best model, we have two free parameters to adjust: the polynomial order and the $\\alpha$ coefficient of the * 'Ridge Regression' *:"
   ]
  },
  {
   "cell_type": "code",
   "execution_count": null,
   "metadata": {
    "_cell_guid": "a18e4c13-a083-432b-8140-2e0e6cfd06c7",
    "_kg_hide-input": true,
    "_uuid": "7a327687b2b5b0aa92230445547aaa01ecaafddf",
    "collapsed": true,
    "jupyter": {
     "outputs_hidden": true
    }
   },
   "outputs": [],
   "source": [
    "score_min = 10000\n",
    "for pol_order in range(1, 3):\n",
    "    for alpha in range(0, 20, 2):\n",
    "        ridgereg = Ridge(alpha = alpha/10, normalize=True)\n",
    "        poly = PolynomialFeatures(degree = pol_order)\n",
    "        regr = linear_model.LinearRegression()\n",
    "        X_ = poly.fit_transform(X_train)\n",
    "        ridgereg.fit(X_, Y_train)        \n",
    "        X_ = poly.fit_transform(X_test)\n",
    "        result = ridgereg.predict(X_)\n",
    "        score = metrics.mean_squared_error(result, Y_test)        \n",
    "        if score < score_min:\n",
    "            score_min = score\n",
    "            parameters = [alpha/10, pol_order]\n",
    "        print(\"n={} alpha={} , MSE = {:<0.5}\".format(pol_order, alpha, score))"
   ]
  },
  {
   "cell_type": "markdown",
   "metadata": {
    "_cell_guid": "c6f3ac04-85ef-472f-897d-4ccf687c3fb8",
    "_uuid": "b31399eef2c7f75f7360142af755d54c35a62d21"
   },
   "source": [
    "This grid search allows to find the best set of $\\alpha$ and $n$ parameters. Let us note, however, that for this model, the estimates obtained with a linear regression or a polynomial of order 2 are quite close. Now I use these parameters to test this template over the test set:"
   ]
  },
  {
   "cell_type": "code",
   "execution_count": null,
   "metadata": {
    "_cell_guid": "90299133-35f5-46f5-93d7-10d33b1e61fb",
    "_kg_hide-input": true,
    "_uuid": "8b99efa4987122e850e6235f61a7c64cb4778da3",
    "collapsed": true,
    "jupyter": {
     "outputs_hidden": true
    }
   },
   "outputs": [],
   "source": [
    "ridgereg = Ridge(alpha = parameters[0], normalize=True)\n",
    "poly = PolynomialFeatures(degree = parameters[1])\n",
    "X_ = poly.fit_transform(X)\n",
    "ridgereg.fit(X_, Y)\n",
    "result = ridgereg.predict(X_)\n",
    "score = metrics.mean_squared_error(result, Y)        \n",
    "print(score)"
   ]
  },
  {
   "cell_type": "markdown",
   "metadata": {
    "_cell_guid": "c0e27b6e-091e-40a2-ad5b-d1f19f892be2",
    "_uuid": "bc8cf22f00b840a8fbadcd00014f24124cf00193"
   },
   "source": [
    "#### 6.2.4 Testing the model: delays of end-january\n",
    "\n",
    "\n",
    "At this stage, model predictions are tested against end-January data. These data are first extracted:"
   ]
  },
  {
   "cell_type": "code",
   "execution_count": null,
   "metadata": {
    "_cell_guid": "197d56a1-50f9-41ef-a174-52fe7f82f098",
    "_kg_hide-input": true,
    "_uuid": "2299dc7683fb55c3bb1b009e8eeb291c57fd9065",
    "collapsed": true,
    "jupyter": {
     "outputs_hidden": true
    }
   },
   "outputs": [],
   "source": [
    "carrier = 'AA'\n",
    "merged_df_test = get_merged_delays(df_test, carrier)"
   ]
  },
  {
   "cell_type": "markdown",
   "metadata": {
    "_cell_guid": "8bb5016a-ee7d-42b4-b232-515b10865a3d",
    "_uuid": "be924ae6c157c4f95975038ee140b4c06fc447f9"
   },
   "source": [
    "then I convert them into a format suitable to perform the fit. At this stage, I manually do one-hot-encoding by re-using the labeling that had been established on the training data:"
   ]
  },
  {
   "cell_type": "code",
   "execution_count": null,
   "metadata": {
    "_cell_guid": "57e34a87-27ad-4514-ad23-5cda16bb84e0",
    "_kg_hide-input": true,
    "_uuid": "ba3ae1fd41c9c1b97a36903de752b1ad9c51c3b6",
    "collapsed": true,
    "jupyter": {
     "outputs_hidden": true
    }
   },
   "outputs": [],
   "source": [
    "label_conversion = dict()\n",
    "for s in label_airports:\n",
    "    label_conversion[s[1]] = s[0]\n",
    "\n",
    "merged_df_test['AIRPORT_ID'].replace(label_conversion, inplace = True)\n",
    "\n",
    "for index, label in label_airports:\n",
    "    temp = merged_df_test['AIRPORT_ID'] == index\n",
    "    temp = temp.apply(lambda x:1.0 if x else 0.0)\n",
    "    if index == 0:\n",
    "        matrix = np.array(temp)\n",
    "    else:\n",
    "        matrix = np.vstack((matrix, temp))\n",
    "matrix = matrix.T\n",
    "\n",
    "b = np.array(merged_df_test['heure_depart_min'])\n",
    "b = b.reshape(len(b),1)\n",
    "X_test = np.hstack((matrix, b))\n",
    "Y_test = np.array(merged_df_test['mean'])\n",
    "Y_test = Y_test.reshape(len(Y_test), 1)"
   ]
  },
  {
   "cell_type": "markdown",
   "metadata": {
    "_cell_guid": "0e04dce3-e3ef-4a8f-bb51-7f2aa62ea7d7",
    "_uuid": "8f413212d914825faf65142455b311c6280edcb8"
   },
   "source": [
    "I can then create the predictions"
   ]
  },
  {
   "cell_type": "code",
   "execution_count": null,
   "metadata": {
    "_cell_guid": "9d7ee149-d518-405e-87d8-8ad7841f16d6",
    "_kg_hide-input": true,
    "_uuid": "8eb6c46c298f2c2cb4124a6ba61c6a850ca9c33a",
    "collapsed": true,
    "jupyter": {
     "outputs_hidden": true
    }
   },
   "outputs": [],
   "source": [
    "X_ = poly.fit_transform(X_test)\n",
    "result = ridgereg.predict(X_)\n",
    "score = metrics.mean_squared_error(result, Y_test)\n",
    "'MSE = {:.2f}'.format(score)"
   ]
  },
  {
   "cell_type": "markdown",
   "metadata": {
    "_cell_guid": "96270061-022b-437c-8494-27d802d11c6f",
    "_uuid": "5f17d63858335a566be9c961d4b4ebf7e6b3da8a"
   },
   "source": [
    "\n",
    "As before, assuming that the delay is independent of the point, this MSE score is equivalent to an average delay of:"
   ]
  },
  {
   "cell_type": "code",
   "execution_count": null,
   "metadata": {
    "_cell_guid": "ba3f07f0-efc6-4b9c-8ea3-8ede30baf4a7",
    "_kg_hide-input": true,
    "_uuid": "1d1ce02419a82ef3848810acf50181de9e612bb6",
    "collapsed": true,
    "jupyter": {
     "outputs_hidden": true
    }
   },
   "outputs": [],
   "source": [
    "'Ecart = {:.2f} min'.format(np.sqrt(score))"
   ]
  },
  {
   "cell_type": "markdown",
   "metadata": {
    "_cell_guid": "1ab4f712-27b9-498d-b434-31893cbf71d1",
    "_uuid": "223005f3333c39cc30c1479d495fe2cc62efa636"
   },
   "source": [
    "The current MSE score is calculated on all the airports served by _American Airlines_, whereas previously it was calculated on the data of a single airport. The current model is therefore more general. Moreover, considering the previous model, it is likely that predictions will be poor for airports with low statistics.\n",
    "____\n",
    "## 6.3 Model nº3: Accounting for destinations"
   ]
  },
  {
   "cell_type": "markdown",
   "metadata": {
    "_cell_guid": "f1a30e37-b339-4c4c-8ca0-785b776b1273",
    "_uuid": "1d600132982ca4e2e8adefc7389f9fe43128f381"
   },
   "source": [
    "In the previous model, I grouped the flights per departure time. Thus, flights with different destinations were grouped as soon as they leave at the same time. Now I make a model that accounts for both departure and arrival times:"
   ]
  },
  {
   "cell_type": "code",
   "execution_count": null,
   "metadata": {
    "_cell_guid": "be995aaf-f779-42d8-b46b-9ab9cd96ed60",
    "_kg_hide-input": true,
    "_uuid": "1789d33e3346309f4ed168424a40c979fd96aff1",
    "collapsed": true,
    "jupyter": {
     "outputs_hidden": true
    }
   },
   "outputs": [],
   "source": [
    "def create_df(df, carrier):\n",
    "    df2 = df[df['AIRLINE'] == carrier][['SCHEDULED_DEPARTURE','SCHEDULED_ARRIVAL',\n",
    "                                    'ORIGIN_AIRPORT','DESTINATION_AIRPORT','DEPARTURE_DELAY']]\n",
    "    df2.dropna(how = 'any', inplace = True)\n",
    "    df2['weekday'] = df2['SCHEDULED_DEPARTURE'].apply(lambda x:x.weekday())\n",
    "    #____________________\n",
    "    # delete delays > 1h\n",
    "    df2['DEPARTURE_DELAY'] = df2['DEPARTURE_DELAY'].apply(lambda x:x if x < 60 else np.nan)\n",
    "    df2.dropna(how = 'any', inplace = True)\n",
    "    #_________________\n",
    "    # formating times\n",
    "    fct = lambda x:x.hour*3600+x.minute*60+x.second\n",
    "    df2['heure_depart'] = df2['SCHEDULED_DEPARTURE'].apply(lambda x:x.time())\n",
    "    df2['heure_depart'] = df2['heure_depart'].apply(fct)\n",
    "    df2['heure_arrivee'] = df2['SCHEDULED_ARRIVAL'].apply(fct)\n",
    "    df3 = df2.groupby(['heure_depart', 'heure_arrivee', 'ORIGIN_AIRPORT'],\n",
    "                      as_index = False).mean()\n",
    "    return df3"
   ]
  },
  {
   "cell_type": "code",
   "execution_count": null,
   "metadata": {
    "_cell_guid": "da7146de-bd35-4c99-9ffa-62cec5e80bb5",
    "_kg_hide-input": true,
    "_uuid": "315edbecad5745bb12fd17aa74e2bee4bd2ec11a",
    "collapsed": true,
    "jupyter": {
     "outputs_hidden": true
    }
   },
   "outputs": [],
   "source": [
    "df3 = create_df(df, carrier)    \n",
    "df3[:5]"
   ]
  },
  {
   "cell_type": "markdown",
   "metadata": {
    "_cell_guid": "76250a84-0b6e-4e3c-b89c-0dbb1973f880",
    "_uuid": "f92accd061fa7a2a08f6b510734c0b417b7b6142"
   },
   "source": [
    "Henceforth, regroupings are made on departure and arrival times, and the (specific) airports of origin and destination are implicitly taken into account. As before, I carry out the encoding of the airports:"
   ]
  },
  {
   "cell_type": "code",
   "execution_count": null,
   "metadata": {
    "_cell_guid": "719fb224-ed13-4ee3-939d-de733e1c60fd",
    "_kg_hide-input": true,
    "_uuid": "38e382ea3a402a877ec5d980da326b72beb916dc",
    "collapsed": true,
    "jupyter": {
     "outputs_hidden": true
    }
   },
   "outputs": [],
   "source": [
    "label_encoder = LabelEncoder()\n",
    "integer_encoded = label_encoder.fit_transform(df3['ORIGIN_AIRPORT'])\n",
    "#_________________________________________________________\n",
    "zipped = zip(integer_encoded, df3['ORIGIN_AIRPORT'])\n",
    "label_airports = list(set(list(zipped)))\n",
    "label_airports.sort(key = lambda x:x[0])\n",
    "#_________________________________________________\n",
    "onehot_encoder = OneHotEncoder(sparse=False)\n",
    "integer_encoded = integer_encoded.reshape(len(integer_encoded), 1)\n",
    "onehot_encoded = onehot_encoder.fit_transform(integer_encoded)\n",
    "#_________________________________________________\n",
    "b = np.array(df3[['heure_depart', 'heure_arrivee']])\n",
    "X = np.hstack((onehot_encoded, b))\n",
    "Y = np.array(df3['DEPARTURE_DELAY'])\n",
    "Y = Y.reshape(len(Y), 1)"
   ]
  },
  {
   "cell_type": "markdown",
   "metadata": {
    "_cell_guid": "75f23587-5500-43fc-aa06-5d8f804b19d7",
    "_uuid": "1def85b89e628ff3e36423757a44f0b22f01ed62"
   },
   "source": [
    "___\n",
    "#### 6.3.1 Choice of model parameters\n",
    "\n",
    "As before, I will perform a regression with regularization and I will have to define the value to attribute to the parameter $\\alpha$. I therefore separate the data to train and then test the model to select the best value for $\\alpha$:"
   ]
  },
  {
   "cell_type": "code",
   "execution_count": null,
   "metadata": {
    "_cell_guid": "aa6b2d88-09a4-4cdd-a328-23e680206282",
    "_kg_hide-input": true,
    "_uuid": "3739985e149441cef7aa4b2d64a9fb9aefea86f0",
    "collapsed": true,
    "jupyter": {
     "outputs_hidden": true
    }
   },
   "outputs": [],
   "source": [
    "X_train, X_test, Y_train, Y_test = train_test_split(X, Y, test_size=0.3)"
   ]
  },
  {
   "cell_type": "code",
   "execution_count": null,
   "metadata": {
    "_cell_guid": "815cec66-d5de-46de-9c2b-3f4e9252ead8",
    "_kg_hide-input": true,
    "_uuid": "f0e5fb91c2738ff9a161503702ef2544339d90bc",
    "collapsed": true,
    "jupyter": {
     "outputs_hidden": true
    }
   },
   "outputs": [],
   "source": [
    "score_min = 10000\n",
    "for pol_order in range(1, 3):\n",
    "    for alpha in range(0, 20, 2):\n",
    "        ridgereg = Ridge(alpha = alpha/10, normalize=True)\n",
    "        poly = PolynomialFeatures(degree = pol_order)\n",
    "        regr = linear_model.LinearRegression()\n",
    "        X_ = poly.fit_transform(X_train)\n",
    "        ridgereg.fit(X_, Y_train)\n",
    "        \n",
    "        X_ = poly.fit_transform(X_test)\n",
    "        result = ridgereg.predict(X_)\n",
    "        score = metrics.mean_squared_error(result, Y_test)\n",
    "        \n",
    "        if score < score_min:\n",
    "            score_min = score\n",
    "            parameters = [alpha, pol_order]\n",
    "\n",
    "        print(\"n={} alpha={} , MSE = {:<0.5}\".format(pol_order, alpha/10, score))"
   ]
  },
  {
   "cell_type": "code",
   "execution_count": null,
   "metadata": {
    "_cell_guid": "91c517a2-962d-4683-8a0d-db6a8b6f55e4",
    "_kg_hide-input": true,
    "_uuid": "a03458694b0cabf1dcf25d8b26ddb85363ad0be8",
    "collapsed": true,
    "jupyter": {
     "outputs_hidden": true
    }
   },
   "outputs": [],
   "source": [
    "ridgereg = Ridge(alpha = parameters[0], normalize=True)\n",
    "poly = PolynomialFeatures(degree = parameters[1])\n",
    "X_ = poly.fit_transform(X)\n",
    "ridgereg.fit(X_, Y)\n",
    "result = ridgereg.predict(X_)\n",
    "score = metrics.mean_squared_error(result, Y)        \n",
    "print(score)"
   ]
  },
  {
   "cell_type": "markdown",
   "metadata": {
    "_cell_guid": "2285c87d-fda1-4a3d-84ee-038e21b74f12",
    "_uuid": "5a7ebce8e865b282389f7ca5e7de11c06536b487"
   },
   "source": [
    "#### 6.3.2 Test of the model: late January delays\n",
    "\n",
    "Now I test the quality of the predictions on the data of the last week of January. I first extract these data:"
   ]
  },
  {
   "cell_type": "code",
   "execution_count": null,
   "metadata": {
    "_cell_guid": "6a3b85a1-0922-4937-ab88-db8fff919a69",
    "_kg_hide-input": true,
    "_uuid": "d1c3734bbacccbdb9f99ad98d2d828d027fb22d1",
    "collapsed": true,
    "jupyter": {
     "outputs_hidden": true
    }
   },
   "outputs": [],
   "source": [
    "df3 = create_df(df_test, carrier)    \n",
    "df3[:5]"
   ]
  },
  {
   "cell_type": "code",
   "execution_count": null,
   "metadata": {
    "_cell_guid": "f9348964-bc3c-4496-9b6b-09939cd09673",
    "_kg_hide-input": true,
    "_uuid": "f5577827ef5771b59f416b86a17702fe06f5cd5c",
    "collapsed": true,
    "jupyter": {
     "outputs_hidden": true
    }
   },
   "outputs": [],
   "source": [
    "label_conversion = dict()\n",
    "for s in label_airports:\n",
    "    label_conversion[s[1]] = s[0]\n",
    "\n",
    "df3['ORIGIN_AIRPORT'].replace(label_conversion, inplace = True)\n",
    "\n",
    "for index, label in label_airports:\n",
    "    temp = df3['ORIGIN_AIRPORT'] == index\n",
    "    temp = temp.apply(lambda x:1.0 if x else 0.0)\n",
    "    if index == 0:\n",
    "        matrix = np.array(temp)\n",
    "    else:\n",
    "        matrix = np.vstack((matrix, temp))\n",
    "matrix = matrix.T\n",
    "\n",
    "b = np.array(df3[['heure_depart', 'heure_arrivee']])\n",
    "X_test = np.hstack((matrix, b))\n",
    "Y_test = np.array(df3['DEPARTURE_DELAY'])\n",
    "Y_test = Y_test.reshape(len(Y_test), 1)"
   ]
  },
  {
   "cell_type": "code",
   "execution_count": null,
   "metadata": {
    "_cell_guid": "fb36e86e-40ea-406e-b923-34011d67f1b8",
    "_kg_hide-input": true,
    "_uuid": "fc1318ac6a6ad150e37cd7e686f34d74b41c0a1a",
    "collapsed": true,
    "jupyter": {
     "outputs_hidden": true
    }
   },
   "outputs": [],
   "source": [
    "X_ = poly.fit_transform(X_test)\n",
    "result = ridgereg.predict(X_)\n",
    "score = metrics.mean_squared_error(result, Y_test)\n",
    "print('MSE = {}'.format(round(score, 2)))"
   ]
  },
  {
   "cell_type": "markdown",
   "metadata": {
    "_cell_guid": "a357e613-0331-4615-9d20-b078d2de8d91",
    "_uuid": "5a9ff57b29deff049a1b4b8864310ba1d6938564"
   },
   "source": [
    "which corresponds to an average delay of:"
   ]
  },
  {
   "cell_type": "code",
   "execution_count": null,
   "metadata": {
    "_cell_guid": "f4757b09-dad7-4a64-9ef6-3841cd0bc154",
    "_kg_hide-input": true,
    "_uuid": "c669a9799de9d5e7cc67d3f10dea8bae196e67b5",
    "collapsed": true,
    "jupyter": {
     "outputs_hidden": true
    }
   },
   "outputs": [],
   "source": [
    "'Ecart = {:.2f} min'.format(np.sqrt(score))"
   ]
  },
  {
   "cell_type": "code",
   "execution_count": null,
   "metadata": {
    "_cell_guid": "ffed43eb-5e2e-4034-95f8-7d51619e330f",
    "_kg_hide-input": true,
    "_uuid": "f8a8fc89672453741049adf679fad987d344256b",
    "collapsed": true,
    "jupyter": {
     "outputs_hidden": true
    }
   },
   "outputs": [],
   "source": [
    "icount = 0\n",
    "for i, val in enumerate(Y_test):\n",
    "    if abs(val-predictions[i]) > 15: icount += 1\n",
    "print(\"ecarts > 15 minutes: {}%\".format(round((icount / len(predictions))*100,3)))"
   ]
  },
  {
   "cell_type": "code",
   "execution_count": null,
   "metadata": {
    "_cell_guid": "6d50b335-1231-4816-a75f-d1e573788b4f",
    "_kg_hide-input": true,
    "_uuid": "1ec5742d600a9b1e384cf9aa5c50c45f2bc2c762",
    "collapsed": true,
    "jupyter": {
     "outputs_hidden": true
    }
   },
   "outputs": [],
   "source": [
    "tips = pd.DataFrame()\n",
    "tips[\"prediction\"] = pd.Series([float(s) for s in predictions]) \n",
    "tips[\"original_data\"] = pd.Series([float(s) for s in Y_test]) \n",
    "sns.jointplot(x=\"original_data\", y=\"prediction\", data=tips, size = 6, ratio = 7,\n",
    "              joint_kws={'line_kws':{'color':'limegreen'}}, kind='reg')\n",
    "plt.xlabel('Mean delays (min)', fontsize = 15)\n",
    "plt.ylabel('Predictions (min)', fontsize = 15)\n",
    "plt.plot(list(range(-10,25)), list(range(-10,25)), linestyle = ':', color = 'r')\n",
    "sns.plt.show()"
   ]
  },
  {
   "cell_type": "markdown",
   "metadata": {
    "_cell_guid": "6369dc6e-6179-47e1-a581-fbae6576843d",
    "_uuid": "6db9f7f318636eede2be5d3d6bdfd60507ed89cb"
   },
   "source": [
    "## Conclusion\n",
    "\n",
    "These notebook was two-fold. The first part dealt with an exploration of the dataset, with the aim of understanding some properties of the delays registered by flights. This exploration gave me the occasion of using various vizualization tools offered by python. The second part of the notebook consisted in the elaboration of a model aimed at predicting flight delays. For that purpose, I used polynomial regressions and showed the importance of regularisation techniques. In fact, I only used ridge regression but it is important to keep in mind that other regularisations techniques could be more appropriate ( e.g Lasso or Elastic net). \n",
    "\n"
   ]
  },
  {
   "cell_type": "markdown",
   "metadata": {
    "_cell_guid": "73f672c7-cc26-4399-82bb-eb5a8ddcead0",
    "_uuid": "01954d4ff2644d1fedf8658d33a139e833ab6cdf"
   },
   "source": [
    "** If you see any kind of improvement, or mistakes, thanks in advance for telling me !!** <br>\n",
    "**_If you liked this notebook, thanks for upvoting_ :)**"
   ]
  }
 ],
 "metadata": {
  "kernelspec": {
   "display_name": "Python 3",
   "language": "python",
   "name": "python3"
  },
  "language_info": {
   "codemirror_mode": {
    "name": "ipython",
    "version": 3
   },
   "file_extension": ".py",
   "mimetype": "text/x-python",
   "name": "python",
   "nbconvert_exporter": "python",
   "pygments_lexer": "ipython3",
   "version": "3.8.8"
  }
 },
 "nbformat": 4,
 "nbformat_minor": 4
}
