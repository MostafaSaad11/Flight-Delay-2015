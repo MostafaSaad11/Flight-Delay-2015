{
 "cells": [
  {
   "cell_type": "markdown",
   "id": "6d379e5c",
   "metadata": {},
   "source": [
    "# Project: Investigate a Dataset - [Flight Delay]\n",
    "\n",
    "## Table of Contents\n",
    "<ul>\n",
    "<li><a href=\"#intro\">Introduction</a></li>\n",
    "<li><a href=\"#wrangling\">Data Wrangling</a></li>\n",
    "<li><a href=\"#eda\">Exploratory Data Analysis</a></li>\n",
    "</ul>"
   ]
  },
  {
   "cell_type": "markdown",
   "id": "6c3d67c5",
   "metadata": {},
   "source": [
    "<a id='intro'></a>\n",
    "## Introduction\n",
    "\n",
    "This project is a competiation on keggle for explorler and predicete flight delay in this [link](https://en.wikipedia.org/wiki/Bolsa_Fam%C3%ADlia)\n",
    "\n",
    "During the EDA, I intended to create good quality figures from which the information would be easily accessible at a first glance. An important aspect of the data scientist job consists in divulgating its findings to people who do not necessarily have knowledge in the technical aspects data scientists master. Graphics are surely the most powerful tool to achieve that goal, and mastering visualization techniques thus seems important.\n",
    "\n",
    "\n",
    "### Project Overview \n",
    "\n",
    "Each entry of the `flights.csv` file corresponds to a flight and we see that more than 5'800'000 flights have been recorded in 2015. These flights are described according to 31 variables. A description of these variables can be found [here](https://www.transtats.bts.gov/DL_SelectFields.asp?Table_ID=236&DB_Short_Name=On-Time) and I briefly recall the meaning of the variables that will be used in this notebook:\n",
    "\n",
    "- **YEAR, MONTH, DAY, DAY_OF_WEEK**: dates of the flight <br/>\n",
    "- **AIRLINE**: An identification number assigned by US DOT to identify a unique airline <br/>\n",
    "- **ORIGIN_AIRPORT** and **DESTINATION_AIRPORT**: code attributed by IATA to identify the airports <br/>\n",
    "- **SCHEDULED_DEPARTURE** and **SCHEDULED_ARRIVAL** : scheduled times of take-off and landing <br/> \n",
    "- **DEPARTURE_TIME** and **ARRIVAL_TIME**: real times at which take-off and landing took place <br/> \n",
    "- **DEPARTURE_DELAY** and **ARRIVAL_DELAY**: difference (in minutes) between planned and real times <br/> \n",
    "- **DISTANCE**: distance (in miles)  <br/>\n",
    "\n",
    "An additional file of this dataset, the `airports.csv` file, gives a more exhaustive description of the airports, and `airlines.csv` file gives the airlines names\n",
    "\n",
    "### Data Dictionary\n",
    "\n",
    "3 Datasets<br/>\n",
    "**'Flights Dataset'**<br/>\n",
    "The data is contained on 34 columns about flight trip in USA airport in 2015.<br/>\n",
    "\n",
    "**'Airlines Dataset'**<br/>\n",
    "The data is contained on 2 columns about name of airlines and it's code.<br/>\n",
    "\n",
    "**'Airports Dataset'**<br/>\n",
    "The data is contained on 7 columns about name of airports and it's code and location information.<br/>\n",
    "\n",
    "### The Quetions i will be answer for analyse the data set\n",
    "\n",
    ">from tableau project<br/>\n",
    "><br/>Q1: The 5 Worst Airline in terms of flight delays\n",
    "><br/>Q2: The 10 Airports eith the most delays in DEPARTURE\n",
    "><br/>Q3: The 10 Airports eith the most delays in ARRIVAL\n",
    "><br/>Q4: The 5 Worst Airline in terms of Cancelled trips\n",
    "><br/>Q5: Number of Cancelled trips by Month"
   ]
  },
  {
   "cell_type": "markdown",
   "id": "289d5aea",
   "metadata": {},
   "source": [
    "<a id='wrangling'></a>\n",
    "## Data Wrangling\n",
    "\n",
    "> In this section I will load in the data, check for cleanliness, and then trim and clean the dataset for analysis.\n"
   ]
  },
  {
   "cell_type": "code",
   "execution_count": 1,
   "id": "bc5deea1",
   "metadata": {},
   "outputs": [],
   "source": [
    "# Import necessary package\n",
    "\n",
    "import pandas as pd\n",
    "import numpy as np\n",
    "import random\n",
    "import matplotlib.pyplot as plt\n",
    "import seaborn as sns\n",
    "from scipy.stats import norm\n",
    "# Import Tableau Visualisation \n",
    "from IPython.display import IFrame\n",
    "\n",
    "%matplotlib inline"
   ]
  },
  {
   "cell_type": "code",
   "execution_count": 2,
   "id": "d41a479f",
   "metadata": {},
   "outputs": [],
   "source": [
    "# Import datasets\n",
    "\n",
    "airlines_df = pd.read_csv(\"airlines.csv\")\n",
    "airports_df = pd.read_csv(\"airports.csv\")\n",
    "flights_df = pd.read_csv(\"flights.csv\")"
   ]
  },
  {
   "cell_type": "code",
   "execution_count": 3,
   "id": "69b64074",
   "metadata": {},
   "outputs": [
    {
     "data": {
      "text/html": [
       "<div>\n",
       "<style scoped>\n",
       "    .dataframe tbody tr th:only-of-type {\n",
       "        vertical-align: middle;\n",
       "    }\n",
       "\n",
       "    .dataframe tbody tr th {\n",
       "        vertical-align: top;\n",
       "    }\n",
       "\n",
       "    .dataframe thead th {\n",
       "        text-align: right;\n",
       "    }\n",
       "</style>\n",
       "<table border=\"1\" class=\"dataframe\">\n",
       "  <thead>\n",
       "    <tr style=\"text-align: right;\">\n",
       "      <th></th>\n",
       "      <th>IATA_CODE</th>\n",
       "      <th>AIRLINE</th>\n",
       "    </tr>\n",
       "  </thead>\n",
       "  <tbody>\n",
       "    <tr>\n",
       "      <th>0</th>\n",
       "      <td>UA</td>\n",
       "      <td>United Air Lines Inc.</td>\n",
       "    </tr>\n",
       "    <tr>\n",
       "      <th>1</th>\n",
       "      <td>AA</td>\n",
       "      <td>American Airlines Inc.</td>\n",
       "    </tr>\n",
       "    <tr>\n",
       "      <th>2</th>\n",
       "      <td>US</td>\n",
       "      <td>US Airways Inc.</td>\n",
       "    </tr>\n",
       "    <tr>\n",
       "      <th>3</th>\n",
       "      <td>F9</td>\n",
       "      <td>Frontier Airlines Inc.</td>\n",
       "    </tr>\n",
       "    <tr>\n",
       "      <th>4</th>\n",
       "      <td>B6</td>\n",
       "      <td>JetBlue Airways</td>\n",
       "    </tr>\n",
       "  </tbody>\n",
       "</table>\n",
       "</div>"
      ],
      "text/plain": [
       "  IATA_CODE                 AIRLINE\n",
       "0        UA   United Air Lines Inc.\n",
       "1        AA  American Airlines Inc.\n",
       "2        US         US Airways Inc.\n",
       "3        F9  Frontier Airlines Inc.\n",
       "4        B6         JetBlue Airways"
      ]
     },
     "execution_count": 3,
     "metadata": {},
     "output_type": "execute_result"
    }
   ],
   "source": [
    "airlines_df.head()"
   ]
  },
  {
   "cell_type": "code",
   "execution_count": 4,
   "id": "11312661",
   "metadata": {},
   "outputs": [
    {
     "data": {
      "text/html": [
       "<div>\n",
       "<style scoped>\n",
       "    .dataframe tbody tr th:only-of-type {\n",
       "        vertical-align: middle;\n",
       "    }\n",
       "\n",
       "    .dataframe tbody tr th {\n",
       "        vertical-align: top;\n",
       "    }\n",
       "\n",
       "    .dataframe thead th {\n",
       "        text-align: right;\n",
       "    }\n",
       "</style>\n",
       "<table border=\"1\" class=\"dataframe\">\n",
       "  <thead>\n",
       "    <tr style=\"text-align: right;\">\n",
       "      <th></th>\n",
       "      <th>IATA_CODE</th>\n",
       "      <th>AIRPORT</th>\n",
       "      <th>CITY</th>\n",
       "      <th>STATE</th>\n",
       "      <th>COUNTRY</th>\n",
       "      <th>LATITUDE</th>\n",
       "      <th>LONGITUDE</th>\n",
       "    </tr>\n",
       "  </thead>\n",
       "  <tbody>\n",
       "    <tr>\n",
       "      <th>0</th>\n",
       "      <td>ABE</td>\n",
       "      <td>Lehigh Valley International Airport</td>\n",
       "      <td>Allentown</td>\n",
       "      <td>PA</td>\n",
       "      <td>USA</td>\n",
       "      <td>40.65236</td>\n",
       "      <td>-75.44040</td>\n",
       "    </tr>\n",
       "    <tr>\n",
       "      <th>1</th>\n",
       "      <td>ABI</td>\n",
       "      <td>Abilene Regional Airport</td>\n",
       "      <td>Abilene</td>\n",
       "      <td>TX</td>\n",
       "      <td>USA</td>\n",
       "      <td>32.41132</td>\n",
       "      <td>-99.68190</td>\n",
       "    </tr>\n",
       "    <tr>\n",
       "      <th>2</th>\n",
       "      <td>ABQ</td>\n",
       "      <td>Albuquerque International Sunport</td>\n",
       "      <td>Albuquerque</td>\n",
       "      <td>NM</td>\n",
       "      <td>USA</td>\n",
       "      <td>35.04022</td>\n",
       "      <td>-106.60919</td>\n",
       "    </tr>\n",
       "    <tr>\n",
       "      <th>3</th>\n",
       "      <td>ABR</td>\n",
       "      <td>Aberdeen Regional Airport</td>\n",
       "      <td>Aberdeen</td>\n",
       "      <td>SD</td>\n",
       "      <td>USA</td>\n",
       "      <td>45.44906</td>\n",
       "      <td>-98.42183</td>\n",
       "    </tr>\n",
       "    <tr>\n",
       "      <th>4</th>\n",
       "      <td>ABY</td>\n",
       "      <td>Southwest Georgia Regional Airport</td>\n",
       "      <td>Albany</td>\n",
       "      <td>GA</td>\n",
       "      <td>USA</td>\n",
       "      <td>31.53552</td>\n",
       "      <td>-84.19447</td>\n",
       "    </tr>\n",
       "  </tbody>\n",
       "</table>\n",
       "</div>"
      ],
      "text/plain": [
       "  IATA_CODE                              AIRPORT         CITY STATE COUNTRY  \\\n",
       "0       ABE  Lehigh Valley International Airport    Allentown    PA     USA   \n",
       "1       ABI             Abilene Regional Airport      Abilene    TX     USA   \n",
       "2       ABQ    Albuquerque International Sunport  Albuquerque    NM     USA   \n",
       "3       ABR            Aberdeen Regional Airport     Aberdeen    SD     USA   \n",
       "4       ABY   Southwest Georgia Regional Airport       Albany    GA     USA   \n",
       "\n",
       "   LATITUDE  LONGITUDE  \n",
       "0  40.65236  -75.44040  \n",
       "1  32.41132  -99.68190  \n",
       "2  35.04022 -106.60919  \n",
       "3  45.44906  -98.42183  \n",
       "4  31.53552  -84.19447  "
      ]
     },
     "execution_count": 4,
     "metadata": {},
     "output_type": "execute_result"
    }
   ],
   "source": [
    "airports_df.head()"
   ]
  },
  {
   "cell_type": "code",
   "execution_count": 5,
   "id": "216fef99",
   "metadata": {
    "scrolled": false
   },
   "outputs": [
    {
     "data": {
      "text/html": [
       "<div>\n",
       "<style scoped>\n",
       "    .dataframe tbody tr th:only-of-type {\n",
       "        vertical-align: middle;\n",
       "    }\n",
       "\n",
       "    .dataframe tbody tr th {\n",
       "        vertical-align: top;\n",
       "    }\n",
       "\n",
       "    .dataframe thead th {\n",
       "        text-align: right;\n",
       "    }\n",
       "</style>\n",
       "<table border=\"1\" class=\"dataframe\">\n",
       "  <thead>\n",
       "    <tr style=\"text-align: right;\">\n",
       "      <th></th>\n",
       "      <th>Unnamed: 0</th>\n",
       "      <th>Unnamed: 0.1</th>\n",
       "      <th>Unnamed: 0.1.1</th>\n",
       "      <th>YEAR</th>\n",
       "      <th>MONTH</th>\n",
       "      <th>DAY</th>\n",
       "      <th>DAY_OF_WEEK</th>\n",
       "      <th>AIRLINE</th>\n",
       "      <th>FLIGHT_NUMBER</th>\n",
       "      <th>TAIL_NUMBER</th>\n",
       "      <th>...</th>\n",
       "      <th>ARRIVAL_TIME</th>\n",
       "      <th>ARRIVAL_DELAY</th>\n",
       "      <th>DIVERTED</th>\n",
       "      <th>CANCELLED</th>\n",
       "      <th>CANCELLATION_REASON</th>\n",
       "      <th>AIR_SYSTEM_DELAY</th>\n",
       "      <th>SECURITY_DELAY</th>\n",
       "      <th>AIRLINE_DELAY</th>\n",
       "      <th>LATE_AIRCRAFT_DELAY</th>\n",
       "      <th>WEATHER_DELAY</th>\n",
       "    </tr>\n",
       "  </thead>\n",
       "  <tbody>\n",
       "    <tr>\n",
       "      <th>0</th>\n",
       "      <td>0</td>\n",
       "      <td>363169</td>\n",
       "      <td>5290975</td>\n",
       "      <td>2015</td>\n",
       "      <td>11</td>\n",
       "      <td>28</td>\n",
       "      <td>6</td>\n",
       "      <td>DL</td>\n",
       "      <td>1590</td>\n",
       "      <td>N971AT</td>\n",
       "      <td>...</td>\n",
       "      <td>756.0</td>\n",
       "      <td>-12.0</td>\n",
       "      <td>0</td>\n",
       "      <td>0</td>\n",
       "      <td>NaN</td>\n",
       "      <td>NaN</td>\n",
       "      <td>NaN</td>\n",
       "      <td>NaN</td>\n",
       "      <td>NaN</td>\n",
       "      <td>NaN</td>\n",
       "    </tr>\n",
       "    <tr>\n",
       "      <th>1</th>\n",
       "      <td>1</td>\n",
       "      <td>704061</td>\n",
       "      <td>4899614</td>\n",
       "      <td>2015</td>\n",
       "      <td>11</td>\n",
       "      <td>2</td>\n",
       "      <td>1</td>\n",
       "      <td>AA</td>\n",
       "      <td>2516</td>\n",
       "      <td>N3CVAA</td>\n",
       "      <td>...</td>\n",
       "      <td>1940.0</td>\n",
       "      <td>41.0</td>\n",
       "      <td>0</td>\n",
       "      <td>0</td>\n",
       "      <td>NaN</td>\n",
       "      <td>13.0</td>\n",
       "      <td>0.0</td>\n",
       "      <td>28.0</td>\n",
       "      <td>0.0</td>\n",
       "      <td>0.0</td>\n",
       "    </tr>\n",
       "    <tr>\n",
       "      <th>2</th>\n",
       "      <td>2</td>\n",
       "      <td>389056</td>\n",
       "      <td>3769408</td>\n",
       "      <td>2015</td>\n",
       "      <td>8</td>\n",
       "      <td>22</td>\n",
       "      <td>6</td>\n",
       "      <td>AS</td>\n",
       "      <td>93</td>\n",
       "      <td>N317AS</td>\n",
       "      <td>...</td>\n",
       "      <td>1619.0</td>\n",
       "      <td>-16.0</td>\n",
       "      <td>0</td>\n",
       "      <td>0</td>\n",
       "      <td>NaN</td>\n",
       "      <td>NaN</td>\n",
       "      <td>NaN</td>\n",
       "      <td>NaN</td>\n",
       "      <td>NaN</td>\n",
       "      <td>NaN</td>\n",
       "    </tr>\n",
       "    <tr>\n",
       "      <th>3</th>\n",
       "      <td>3</td>\n",
       "      <td>132167</td>\n",
       "      <td>4999624</td>\n",
       "      <td>2015</td>\n",
       "      <td>11</td>\n",
       "      <td>9</td>\n",
       "      <td>1</td>\n",
       "      <td>AA</td>\n",
       "      <td>2383</td>\n",
       "      <td>N871AA</td>\n",
       "      <td>...</td>\n",
       "      <td>844.0</td>\n",
       "      <td>-7.0</td>\n",
       "      <td>0</td>\n",
       "      <td>0</td>\n",
       "      <td>NaN</td>\n",
       "      <td>NaN</td>\n",
       "      <td>NaN</td>\n",
       "      <td>NaN</td>\n",
       "      <td>NaN</td>\n",
       "      <td>NaN</td>\n",
       "    </tr>\n",
       "    <tr>\n",
       "      <th>4</th>\n",
       "      <td>4</td>\n",
       "      <td>304371</td>\n",
       "      <td>2572568</td>\n",
       "      <td>2015</td>\n",
       "      <td>6</td>\n",
       "      <td>12</td>\n",
       "      <td>5</td>\n",
       "      <td>US</td>\n",
       "      <td>1978</td>\n",
       "      <td>N833AW</td>\n",
       "      <td>...</td>\n",
       "      <td>832.0</td>\n",
       "      <td>-6.0</td>\n",
       "      <td>0</td>\n",
       "      <td>0</td>\n",
       "      <td>NaN</td>\n",
       "      <td>NaN</td>\n",
       "      <td>NaN</td>\n",
       "      <td>NaN</td>\n",
       "      <td>NaN</td>\n",
       "      <td>NaN</td>\n",
       "    </tr>\n",
       "  </tbody>\n",
       "</table>\n",
       "<p>5 rows × 34 columns</p>\n",
       "</div>"
      ],
      "text/plain": [
       "   Unnamed: 0  Unnamed: 0.1  Unnamed: 0.1.1  YEAR  MONTH  DAY  DAY_OF_WEEK  \\\n",
       "0           0        363169         5290975  2015     11   28            6   \n",
       "1           1        704061         4899614  2015     11    2            1   \n",
       "2           2        389056         3769408  2015      8   22            6   \n",
       "3           3        132167         4999624  2015     11    9            1   \n",
       "4           4        304371         2572568  2015      6   12            5   \n",
       "\n",
       "  AIRLINE  FLIGHT_NUMBER TAIL_NUMBER  ... ARRIVAL_TIME ARRIVAL_DELAY  \\\n",
       "0      DL           1590      N971AT  ...        756.0         -12.0   \n",
       "1      AA           2516      N3CVAA  ...       1940.0          41.0   \n",
       "2      AS             93      N317AS  ...       1619.0         -16.0   \n",
       "3      AA           2383      N871AA  ...        844.0          -7.0   \n",
       "4      US           1978      N833AW  ...        832.0          -6.0   \n",
       "\n",
       "   DIVERTED  CANCELLED  CANCELLATION_REASON  AIR_SYSTEM_DELAY  SECURITY_DELAY  \\\n",
       "0         0          0                  NaN               NaN             NaN   \n",
       "1         0          0                  NaN              13.0             0.0   \n",
       "2         0          0                  NaN               NaN             NaN   \n",
       "3         0          0                  NaN               NaN             NaN   \n",
       "4         0          0                  NaN               NaN             NaN   \n",
       "\n",
       "   AIRLINE_DELAY  LATE_AIRCRAFT_DELAY  WEATHER_DELAY  \n",
       "0            NaN                  NaN            NaN  \n",
       "1           28.0                  0.0            0.0  \n",
       "2            NaN                  NaN            NaN  \n",
       "3            NaN                  NaN            NaN  \n",
       "4            NaN                  NaN            NaN  \n",
       "\n",
       "[5 rows x 34 columns]"
      ]
     },
     "execution_count": 5,
     "metadata": {},
     "output_type": "execute_result"
    }
   ],
   "source": [
    "flights_df.head()"
   ]
  },
  {
   "cell_type": "markdown",
   "id": "66436567",
   "metadata": {},
   "source": [
    "\n",
    "### Data Cleaning\n",
    "\n",
    ">#### Clean Process\n",
    ">1-\tMerge dataframe flights with each airline & airports \\\n",
    ">2-\tI have some column need to drop them.\\\n",
    ">3- I have some column need to rename.\\\n",
    ">4- I will add new column to determaine total delay."
   ]
  },
  {
   "cell_type": "code",
   "execution_count": 6,
   "id": "3c03188e",
   "metadata": {
    "scrolled": true
   },
   "outputs": [
    {
     "data": {
      "text/html": [
       "<div>\n",
       "<style scoped>\n",
       "    .dataframe tbody tr th:only-of-type {\n",
       "        vertical-align: middle;\n",
       "    }\n",
       "\n",
       "    .dataframe tbody tr th {\n",
       "        vertical-align: top;\n",
       "    }\n",
       "\n",
       "    .dataframe thead th {\n",
       "        text-align: right;\n",
       "    }\n",
       "</style>\n",
       "<table border=\"1\" class=\"dataframe\">\n",
       "  <thead>\n",
       "    <tr style=\"text-align: right;\">\n",
       "      <th></th>\n",
       "      <th>Unnamed: 0</th>\n",
       "      <th>Unnamed: 0.1</th>\n",
       "      <th>Unnamed: 0.1.1</th>\n",
       "      <th>YEAR</th>\n",
       "      <th>MONTH</th>\n",
       "      <th>DAY</th>\n",
       "      <th>DAY_OF_WEEK</th>\n",
       "      <th>AIRLINE_x</th>\n",
       "      <th>FLIGHT_NUMBER</th>\n",
       "      <th>TAIL_NUMBER</th>\n",
       "      <th>...</th>\n",
       "      <th>DIVERTED</th>\n",
       "      <th>CANCELLED</th>\n",
       "      <th>CANCELLATION_REASON</th>\n",
       "      <th>AIR_SYSTEM_DELAY</th>\n",
       "      <th>SECURITY_DELAY</th>\n",
       "      <th>AIRLINE_DELAY</th>\n",
       "      <th>LATE_AIRCRAFT_DELAY</th>\n",
       "      <th>WEATHER_DELAY</th>\n",
       "      <th>IATA_CODE</th>\n",
       "      <th>AIRLINE_y</th>\n",
       "    </tr>\n",
       "  </thead>\n",
       "  <tbody>\n",
       "    <tr>\n",
       "      <th>0</th>\n",
       "      <td>0</td>\n",
       "      <td>363169</td>\n",
       "      <td>5290975</td>\n",
       "      <td>2015</td>\n",
       "      <td>11</td>\n",
       "      <td>28</td>\n",
       "      <td>6</td>\n",
       "      <td>DL</td>\n",
       "      <td>1590</td>\n",
       "      <td>N971AT</td>\n",
       "      <td>...</td>\n",
       "      <td>0</td>\n",
       "      <td>0</td>\n",
       "      <td>NaN</td>\n",
       "      <td>NaN</td>\n",
       "      <td>NaN</td>\n",
       "      <td>NaN</td>\n",
       "      <td>NaN</td>\n",
       "      <td>NaN</td>\n",
       "      <td>DL</td>\n",
       "      <td>Delta Air Lines Inc.</td>\n",
       "    </tr>\n",
       "    <tr>\n",
       "      <th>1</th>\n",
       "      <td>1</td>\n",
       "      <td>704061</td>\n",
       "      <td>4899614</td>\n",
       "      <td>2015</td>\n",
       "      <td>11</td>\n",
       "      <td>2</td>\n",
       "      <td>1</td>\n",
       "      <td>AA</td>\n",
       "      <td>2516</td>\n",
       "      <td>N3CVAA</td>\n",
       "      <td>...</td>\n",
       "      <td>0</td>\n",
       "      <td>0</td>\n",
       "      <td>NaN</td>\n",
       "      <td>13.0</td>\n",
       "      <td>0.0</td>\n",
       "      <td>28.0</td>\n",
       "      <td>0.0</td>\n",
       "      <td>0.0</td>\n",
       "      <td>AA</td>\n",
       "      <td>American Airlines Inc.</td>\n",
       "    </tr>\n",
       "    <tr>\n",
       "      <th>2</th>\n",
       "      <td>2</td>\n",
       "      <td>389056</td>\n",
       "      <td>3769408</td>\n",
       "      <td>2015</td>\n",
       "      <td>8</td>\n",
       "      <td>22</td>\n",
       "      <td>6</td>\n",
       "      <td>AS</td>\n",
       "      <td>93</td>\n",
       "      <td>N317AS</td>\n",
       "      <td>...</td>\n",
       "      <td>0</td>\n",
       "      <td>0</td>\n",
       "      <td>NaN</td>\n",
       "      <td>NaN</td>\n",
       "      <td>NaN</td>\n",
       "      <td>NaN</td>\n",
       "      <td>NaN</td>\n",
       "      <td>NaN</td>\n",
       "      <td>AS</td>\n",
       "      <td>Alaska Airlines Inc.</td>\n",
       "    </tr>\n",
       "    <tr>\n",
       "      <th>3</th>\n",
       "      <td>3</td>\n",
       "      <td>132167</td>\n",
       "      <td>4999624</td>\n",
       "      <td>2015</td>\n",
       "      <td>11</td>\n",
       "      <td>9</td>\n",
       "      <td>1</td>\n",
       "      <td>AA</td>\n",
       "      <td>2383</td>\n",
       "      <td>N871AA</td>\n",
       "      <td>...</td>\n",
       "      <td>0</td>\n",
       "      <td>0</td>\n",
       "      <td>NaN</td>\n",
       "      <td>NaN</td>\n",
       "      <td>NaN</td>\n",
       "      <td>NaN</td>\n",
       "      <td>NaN</td>\n",
       "      <td>NaN</td>\n",
       "      <td>AA</td>\n",
       "      <td>American Airlines Inc.</td>\n",
       "    </tr>\n",
       "    <tr>\n",
       "      <th>4</th>\n",
       "      <td>4</td>\n",
       "      <td>304371</td>\n",
       "      <td>2572568</td>\n",
       "      <td>2015</td>\n",
       "      <td>6</td>\n",
       "      <td>12</td>\n",
       "      <td>5</td>\n",
       "      <td>US</td>\n",
       "      <td>1978</td>\n",
       "      <td>N833AW</td>\n",
       "      <td>...</td>\n",
       "      <td>0</td>\n",
       "      <td>0</td>\n",
       "      <td>NaN</td>\n",
       "      <td>NaN</td>\n",
       "      <td>NaN</td>\n",
       "      <td>NaN</td>\n",
       "      <td>NaN</td>\n",
       "      <td>NaN</td>\n",
       "      <td>US</td>\n",
       "      <td>US Airways Inc.</td>\n",
       "    </tr>\n",
       "  </tbody>\n",
       "</table>\n",
       "<p>5 rows × 36 columns</p>\n",
       "</div>"
      ],
      "text/plain": [
       "   Unnamed: 0  Unnamed: 0.1  Unnamed: 0.1.1  YEAR  MONTH  DAY  DAY_OF_WEEK  \\\n",
       "0           0        363169         5290975  2015     11   28            6   \n",
       "1           1        704061         4899614  2015     11    2            1   \n",
       "2           2        389056         3769408  2015      8   22            6   \n",
       "3           3        132167         4999624  2015     11    9            1   \n",
       "4           4        304371         2572568  2015      6   12            5   \n",
       "\n",
       "  AIRLINE_x  FLIGHT_NUMBER TAIL_NUMBER  ... DIVERTED CANCELLED  \\\n",
       "0        DL           1590      N971AT  ...        0         0   \n",
       "1        AA           2516      N3CVAA  ...        0         0   \n",
       "2        AS             93      N317AS  ...        0         0   \n",
       "3        AA           2383      N871AA  ...        0         0   \n",
       "4        US           1978      N833AW  ...        0         0   \n",
       "\n",
       "   CANCELLATION_REASON  AIR_SYSTEM_DELAY  SECURITY_DELAY  AIRLINE_DELAY  \\\n",
       "0                  NaN               NaN             NaN            NaN   \n",
       "1                  NaN              13.0             0.0           28.0   \n",
       "2                  NaN               NaN             NaN            NaN   \n",
       "3                  NaN               NaN             NaN            NaN   \n",
       "4                  NaN               NaN             NaN            NaN   \n",
       "\n",
       "   LATE_AIRCRAFT_DELAY  WEATHER_DELAY  IATA_CODE               AIRLINE_y  \n",
       "0                  NaN            NaN         DL    Delta Air Lines Inc.  \n",
       "1                  0.0            0.0         AA  American Airlines Inc.  \n",
       "2                  NaN            NaN         AS    Alaska Airlines Inc.  \n",
       "3                  NaN            NaN         AA  American Airlines Inc.  \n",
       "4                  NaN            NaN         US         US Airways Inc.  \n",
       "\n",
       "[5 rows x 36 columns]"
      ]
     },
     "execution_count": 6,
     "metadata": {},
     "output_type": "execute_result"
    }
   ],
   "source": [
    "#1-Merge dataframe flights with each airline & airports\n",
    "\n",
    "df_1 = flights_df.merge(airlines_df,left_on='AIRLINE',right_on='IATA_CODE', how='left')\n",
    "df_1.head()"
   ]
  },
  {
   "cell_type": "code",
   "execution_count": 7,
   "id": "f97c1180",
   "metadata": {},
   "outputs": [
    {
     "data": {
      "text/html": [
       "<div>\n",
       "<style scoped>\n",
       "    .dataframe tbody tr th:only-of-type {\n",
       "        vertical-align: middle;\n",
       "    }\n",
       "\n",
       "    .dataframe tbody tr th {\n",
       "        vertical-align: top;\n",
       "    }\n",
       "\n",
       "    .dataframe thead th {\n",
       "        text-align: right;\n",
       "    }\n",
       "</style>\n",
       "<table border=\"1\" class=\"dataframe\">\n",
       "  <thead>\n",
       "    <tr style=\"text-align: right;\">\n",
       "      <th></th>\n",
       "      <th>Unnamed: 0</th>\n",
       "      <th>Unnamed: 0.1</th>\n",
       "      <th>Unnamed: 0.1.1</th>\n",
       "      <th>YEAR</th>\n",
       "      <th>MONTH</th>\n",
       "      <th>DAY</th>\n",
       "      <th>DAY_OF_WEEK</th>\n",
       "      <th>AIRLINE_x</th>\n",
       "      <th>FLIGHT_NUMBER</th>\n",
       "      <th>TAIL_NUMBER</th>\n",
       "      <th>...</th>\n",
       "      <th>WEATHER_DELAY</th>\n",
       "      <th>IATA_CODE_x</th>\n",
       "      <th>AIRLINE_y</th>\n",
       "      <th>IATA_CODE_y</th>\n",
       "      <th>AIRPORT</th>\n",
       "      <th>CITY</th>\n",
       "      <th>STATE</th>\n",
       "      <th>COUNTRY</th>\n",
       "      <th>LATITUDE</th>\n",
       "      <th>LONGITUDE</th>\n",
       "    </tr>\n",
       "  </thead>\n",
       "  <tbody>\n",
       "    <tr>\n",
       "      <th>0</th>\n",
       "      <td>0</td>\n",
       "      <td>363169</td>\n",
       "      <td>5290975</td>\n",
       "      <td>2015</td>\n",
       "      <td>11</td>\n",
       "      <td>28</td>\n",
       "      <td>6</td>\n",
       "      <td>DL</td>\n",
       "      <td>1590</td>\n",
       "      <td>N971AT</td>\n",
       "      <td>...</td>\n",
       "      <td>NaN</td>\n",
       "      <td>DL</td>\n",
       "      <td>Delta Air Lines Inc.</td>\n",
       "      <td>CAE</td>\n",
       "      <td>Columbia Metropolitan Airport</td>\n",
       "      <td>Columbia</td>\n",
       "      <td>SC</td>\n",
       "      <td>USA</td>\n",
       "      <td>33.93884</td>\n",
       "      <td>-81.11954</td>\n",
       "    </tr>\n",
       "    <tr>\n",
       "      <th>1</th>\n",
       "      <td>1</td>\n",
       "      <td>704061</td>\n",
       "      <td>4899614</td>\n",
       "      <td>2015</td>\n",
       "      <td>11</td>\n",
       "      <td>2</td>\n",
       "      <td>1</td>\n",
       "      <td>AA</td>\n",
       "      <td>2516</td>\n",
       "      <td>N3CVAA</td>\n",
       "      <td>...</td>\n",
       "      <td>0.0</td>\n",
       "      <td>AA</td>\n",
       "      <td>American Airlines Inc.</td>\n",
       "      <td>ORD</td>\n",
       "      <td>Chicago O'Hare International Airport</td>\n",
       "      <td>Chicago</td>\n",
       "      <td>IL</td>\n",
       "      <td>USA</td>\n",
       "      <td>41.97960</td>\n",
       "      <td>-87.90446</td>\n",
       "    </tr>\n",
       "    <tr>\n",
       "      <th>2</th>\n",
       "      <td>2</td>\n",
       "      <td>389056</td>\n",
       "      <td>3769408</td>\n",
       "      <td>2015</td>\n",
       "      <td>8</td>\n",
       "      <td>22</td>\n",
       "      <td>6</td>\n",
       "      <td>AS</td>\n",
       "      <td>93</td>\n",
       "      <td>N317AS</td>\n",
       "      <td>...</td>\n",
       "      <td>NaN</td>\n",
       "      <td>AS</td>\n",
       "      <td>Alaska Airlines Inc.</td>\n",
       "      <td>SEA</td>\n",
       "      <td>Seattle-Tacoma International Airport</td>\n",
       "      <td>Seattle</td>\n",
       "      <td>WA</td>\n",
       "      <td>USA</td>\n",
       "      <td>47.44898</td>\n",
       "      <td>-122.30931</td>\n",
       "    </tr>\n",
       "    <tr>\n",
       "      <th>3</th>\n",
       "      <td>3</td>\n",
       "      <td>132167</td>\n",
       "      <td>4999624</td>\n",
       "      <td>2015</td>\n",
       "      <td>11</td>\n",
       "      <td>9</td>\n",
       "      <td>1</td>\n",
       "      <td>AA</td>\n",
       "      <td>2383</td>\n",
       "      <td>N871AA</td>\n",
       "      <td>...</td>\n",
       "      <td>NaN</td>\n",
       "      <td>AA</td>\n",
       "      <td>American Airlines Inc.</td>\n",
       "      <td>MCO</td>\n",
       "      <td>Orlando International Airport</td>\n",
       "      <td>Orlando</td>\n",
       "      <td>FL</td>\n",
       "      <td>USA</td>\n",
       "      <td>28.42889</td>\n",
       "      <td>-81.31603</td>\n",
       "    </tr>\n",
       "    <tr>\n",
       "      <th>4</th>\n",
       "      <td>4</td>\n",
       "      <td>304371</td>\n",
       "      <td>2572568</td>\n",
       "      <td>2015</td>\n",
       "      <td>6</td>\n",
       "      <td>12</td>\n",
       "      <td>5</td>\n",
       "      <td>US</td>\n",
       "      <td>1978</td>\n",
       "      <td>N833AW</td>\n",
       "      <td>...</td>\n",
       "      <td>NaN</td>\n",
       "      <td>US</td>\n",
       "      <td>US Airways Inc.</td>\n",
       "      <td>CLE</td>\n",
       "      <td>Cleveland Hopkins International Airport</td>\n",
       "      <td>Cleveland</td>\n",
       "      <td>OH</td>\n",
       "      <td>USA</td>\n",
       "      <td>41.41089</td>\n",
       "      <td>-81.84940</td>\n",
       "    </tr>\n",
       "  </tbody>\n",
       "</table>\n",
       "<p>5 rows × 43 columns</p>\n",
       "</div>"
      ],
      "text/plain": [
       "   Unnamed: 0  Unnamed: 0.1  Unnamed: 0.1.1  YEAR  MONTH  DAY  DAY_OF_WEEK  \\\n",
       "0           0        363169         5290975  2015     11   28            6   \n",
       "1           1        704061         4899614  2015     11    2            1   \n",
       "2           2        389056         3769408  2015      8   22            6   \n",
       "3           3        132167         4999624  2015     11    9            1   \n",
       "4           4        304371         2572568  2015      6   12            5   \n",
       "\n",
       "  AIRLINE_x  FLIGHT_NUMBER TAIL_NUMBER  ... WEATHER_DELAY IATA_CODE_x  \\\n",
       "0        DL           1590      N971AT  ...           NaN          DL   \n",
       "1        AA           2516      N3CVAA  ...           0.0          AA   \n",
       "2        AS             93      N317AS  ...           NaN          AS   \n",
       "3        AA           2383      N871AA  ...           NaN          AA   \n",
       "4        US           1978      N833AW  ...           NaN          US   \n",
       "\n",
       "                AIRLINE_y  IATA_CODE_y  \\\n",
       "0    Delta Air Lines Inc.          CAE   \n",
       "1  American Airlines Inc.          ORD   \n",
       "2    Alaska Airlines Inc.          SEA   \n",
       "3  American Airlines Inc.          MCO   \n",
       "4         US Airways Inc.          CLE   \n",
       "\n",
       "                                   AIRPORT       CITY  STATE  COUNTRY  \\\n",
       "0            Columbia Metropolitan Airport   Columbia     SC      USA   \n",
       "1     Chicago O'Hare International Airport    Chicago     IL      USA   \n",
       "2     Seattle-Tacoma International Airport    Seattle     WA      USA   \n",
       "3            Orlando International Airport    Orlando     FL      USA   \n",
       "4  Cleveland Hopkins International Airport  Cleveland     OH      USA   \n",
       "\n",
       "   LATITUDE  LONGITUDE  \n",
       "0  33.93884  -81.11954  \n",
       "1  41.97960  -87.90446  \n",
       "2  47.44898 -122.30931  \n",
       "3  28.42889  -81.31603  \n",
       "4  41.41089  -81.84940  \n",
       "\n",
       "[5 rows x 43 columns]"
      ]
     },
     "execution_count": 7,
     "metadata": {},
     "output_type": "execute_result"
    }
   ],
   "source": [
    "#1-Merge dataframe flights with each airline & airports\n",
    "\n",
    "df_2 = df_1.merge(airports_df,left_on='ORIGIN_AIRPORT',right_on='IATA_CODE', how='left')\n",
    "df_2.head()"
   ]
  },
  {
   "cell_type": "code",
   "execution_count": 8,
   "id": "5856b995",
   "metadata": {},
   "outputs": [
    {
     "data": {
      "text/html": [
       "<div>\n",
       "<style scoped>\n",
       "    .dataframe tbody tr th:only-of-type {\n",
       "        vertical-align: middle;\n",
       "    }\n",
       "\n",
       "    .dataframe tbody tr th {\n",
       "        vertical-align: top;\n",
       "    }\n",
       "\n",
       "    .dataframe thead th {\n",
       "        text-align: right;\n",
       "    }\n",
       "</style>\n",
       "<table border=\"1\" class=\"dataframe\">\n",
       "  <thead>\n",
       "    <tr style=\"text-align: right;\">\n",
       "      <th></th>\n",
       "      <th>Unnamed: 0</th>\n",
       "      <th>Unnamed: 0.1</th>\n",
       "      <th>Unnamed: 0.1.1</th>\n",
       "      <th>YEAR</th>\n",
       "      <th>MONTH</th>\n",
       "      <th>DAY</th>\n",
       "      <th>DAY_OF_WEEK</th>\n",
       "      <th>AIRLINE_x</th>\n",
       "      <th>FLIGHT_NUMBER</th>\n",
       "      <th>TAIL_NUMBER</th>\n",
       "      <th>...</th>\n",
       "      <th>COUNTRY_x</th>\n",
       "      <th>LATITUDE_x</th>\n",
       "      <th>LONGITUDE_x</th>\n",
       "      <th>IATA_CODE</th>\n",
       "      <th>AIRPORT_y</th>\n",
       "      <th>CITY_y</th>\n",
       "      <th>STATE_y</th>\n",
       "      <th>COUNTRY_y</th>\n",
       "      <th>LATITUDE_y</th>\n",
       "      <th>LONGITUDE_y</th>\n",
       "    </tr>\n",
       "  </thead>\n",
       "  <tbody>\n",
       "    <tr>\n",
       "      <th>0</th>\n",
       "      <td>0</td>\n",
       "      <td>363169</td>\n",
       "      <td>5290975</td>\n",
       "      <td>2015</td>\n",
       "      <td>11</td>\n",
       "      <td>28</td>\n",
       "      <td>6</td>\n",
       "      <td>DL</td>\n",
       "      <td>1590</td>\n",
       "      <td>N971AT</td>\n",
       "      <td>...</td>\n",
       "      <td>USA</td>\n",
       "      <td>33.93884</td>\n",
       "      <td>-81.11954</td>\n",
       "      <td>ATL</td>\n",
       "      <td>Hartsfield-Jackson Atlanta International Airport</td>\n",
       "      <td>Atlanta</td>\n",
       "      <td>GA</td>\n",
       "      <td>USA</td>\n",
       "      <td>33.64044</td>\n",
       "      <td>-84.42694</td>\n",
       "    </tr>\n",
       "    <tr>\n",
       "      <th>1</th>\n",
       "      <td>1</td>\n",
       "      <td>704061</td>\n",
       "      <td>4899614</td>\n",
       "      <td>2015</td>\n",
       "      <td>11</td>\n",
       "      <td>2</td>\n",
       "      <td>1</td>\n",
       "      <td>AA</td>\n",
       "      <td>2516</td>\n",
       "      <td>N3CVAA</td>\n",
       "      <td>...</td>\n",
       "      <td>USA</td>\n",
       "      <td>41.97960</td>\n",
       "      <td>-87.90446</td>\n",
       "      <td>DEN</td>\n",
       "      <td>Denver International Airport</td>\n",
       "      <td>Denver</td>\n",
       "      <td>CO</td>\n",
       "      <td>USA</td>\n",
       "      <td>39.85841</td>\n",
       "      <td>-104.66700</td>\n",
       "    </tr>\n",
       "    <tr>\n",
       "      <th>2</th>\n",
       "      <td>2</td>\n",
       "      <td>389056</td>\n",
       "      <td>3769408</td>\n",
       "      <td>2015</td>\n",
       "      <td>8</td>\n",
       "      <td>22</td>\n",
       "      <td>6</td>\n",
       "      <td>AS</td>\n",
       "      <td>93</td>\n",
       "      <td>N317AS</td>\n",
       "      <td>...</td>\n",
       "      <td>USA</td>\n",
       "      <td>47.44898</td>\n",
       "      <td>-122.30931</td>\n",
       "      <td>ANC</td>\n",
       "      <td>Ted Stevens Anchorage International Airport</td>\n",
       "      <td>Anchorage</td>\n",
       "      <td>AK</td>\n",
       "      <td>USA</td>\n",
       "      <td>61.17432</td>\n",
       "      <td>-149.99619</td>\n",
       "    </tr>\n",
       "    <tr>\n",
       "      <th>3</th>\n",
       "      <td>3</td>\n",
       "      <td>132167</td>\n",
       "      <td>4999624</td>\n",
       "      <td>2015</td>\n",
       "      <td>11</td>\n",
       "      <td>9</td>\n",
       "      <td>1</td>\n",
       "      <td>AA</td>\n",
       "      <td>2383</td>\n",
       "      <td>N871AA</td>\n",
       "      <td>...</td>\n",
       "      <td>USA</td>\n",
       "      <td>28.42889</td>\n",
       "      <td>-81.31603</td>\n",
       "      <td>DFW</td>\n",
       "      <td>Dallas/Fort Worth International Airport</td>\n",
       "      <td>Dallas-Fort Worth</td>\n",
       "      <td>TX</td>\n",
       "      <td>USA</td>\n",
       "      <td>32.89595</td>\n",
       "      <td>-97.03720</td>\n",
       "    </tr>\n",
       "    <tr>\n",
       "      <th>4</th>\n",
       "      <td>4</td>\n",
       "      <td>304371</td>\n",
       "      <td>2572568</td>\n",
       "      <td>2015</td>\n",
       "      <td>6</td>\n",
       "      <td>12</td>\n",
       "      <td>5</td>\n",
       "      <td>US</td>\n",
       "      <td>1978</td>\n",
       "      <td>N833AW</td>\n",
       "      <td>...</td>\n",
       "      <td>USA</td>\n",
       "      <td>41.41089</td>\n",
       "      <td>-81.84940</td>\n",
       "      <td>CLT</td>\n",
       "      <td>Charlotte Douglas International Airport</td>\n",
       "      <td>Charlotte</td>\n",
       "      <td>NC</td>\n",
       "      <td>USA</td>\n",
       "      <td>35.21401</td>\n",
       "      <td>-80.94313</td>\n",
       "    </tr>\n",
       "  </tbody>\n",
       "</table>\n",
       "<p>5 rows × 50 columns</p>\n",
       "</div>"
      ],
      "text/plain": [
       "   Unnamed: 0  Unnamed: 0.1  Unnamed: 0.1.1  YEAR  MONTH  DAY  DAY_OF_WEEK  \\\n",
       "0           0        363169         5290975  2015     11   28            6   \n",
       "1           1        704061         4899614  2015     11    2            1   \n",
       "2           2        389056         3769408  2015      8   22            6   \n",
       "3           3        132167         4999624  2015     11    9            1   \n",
       "4           4        304371         2572568  2015      6   12            5   \n",
       "\n",
       "  AIRLINE_x  FLIGHT_NUMBER TAIL_NUMBER  ... COUNTRY_x LATITUDE_x  LONGITUDE_x  \\\n",
       "0        DL           1590      N971AT  ...       USA   33.93884    -81.11954   \n",
       "1        AA           2516      N3CVAA  ...       USA   41.97960    -87.90446   \n",
       "2        AS             93      N317AS  ...       USA   47.44898   -122.30931   \n",
       "3        AA           2383      N871AA  ...       USA   28.42889    -81.31603   \n",
       "4        US           1978      N833AW  ...       USA   41.41089    -81.84940   \n",
       "\n",
       "   IATA_CODE                                         AIRPORT_y  \\\n",
       "0        ATL  Hartsfield-Jackson Atlanta International Airport   \n",
       "1        DEN                      Denver International Airport   \n",
       "2        ANC       Ted Stevens Anchorage International Airport   \n",
       "3        DFW           Dallas/Fort Worth International Airport   \n",
       "4        CLT           Charlotte Douglas International Airport   \n",
       "\n",
       "              CITY_y  STATE_y  COUNTRY_y  LATITUDE_y  LONGITUDE_y  \n",
       "0            Atlanta       GA        USA    33.64044    -84.42694  \n",
       "1             Denver       CO        USA    39.85841   -104.66700  \n",
       "2          Anchorage       AK        USA    61.17432   -149.99619  \n",
       "3  Dallas-Fort Worth       TX        USA    32.89595    -97.03720  \n",
       "4          Charlotte       NC        USA    35.21401    -80.94313  \n",
       "\n",
       "[5 rows x 50 columns]"
      ]
     },
     "execution_count": 8,
     "metadata": {},
     "output_type": "execute_result"
    }
   ],
   "source": [
    "#1-Merge dataframe flights with each airline & airports\n",
    "\n",
    "df = df_2.merge(airports_df,left_on='DESTINATION_AIRPORT',right_on='IATA_CODE', how='left')\n",
    "df.head()"
   ]
  },
  {
   "cell_type": "code",
   "execution_count": 9,
   "id": "25f74bba",
   "metadata": {},
   "outputs": [],
   "source": [
    "# 2- I have some column need to drop them.\n",
    "\n",
    "columns_to_delete = ['Unnamed: 0', 'Unnamed: 0.1','AIRLINE_x', 'Unnamed: 0.1.1', 'FLIGHT_NUMBER', 'TAIL_NUMBER',\n",
    "                     'ORIGIN_AIRPORT', 'DESTINATION_AIRPORT','IATA_CODE_x','IATA_CODE_y','IATA_CODE','YEAR', 'DAY','DAY_OF_WEEK',\n",
    "                     'SCHEDULED_DEPARTURE','DEPARTURE_TIME', 'TAXI_OUT', 'WHEELS_OFF','SCHEDULED_TIME','ELAPSED_TIME',\n",
    "                     'AIR_TIME', 'DISTANCE', 'WHEELS_ON','TAXI_IN', 'SCHEDULED_ARRIVAL', 'ARRIVAL_TIME','DIVERTED']\n",
    "df.drop( columns = columns_to_delete , axis = 1 , inplace = True)"
   ]
  },
  {
   "cell_type": "code",
   "execution_count": 10,
   "id": "7207d59f",
   "metadata": {},
   "outputs": [],
   "source": [
    "#3- I have some column need to rename.\n",
    "\n",
    "Columns_to_rename = ['AIRLINE_y','AIRPORT_x','CITY_x', 'STATE_x', 'COUNTRY_x', 'LATITUDE_x', 'LONGITUDE_x',\n",
    "                     'AIRPORT_y', 'CITY_y', 'STATE_y', 'COUNTRY_y','LATITUDE_y', 'LONGITUDE_y']\n",
    "Columns_new_name = ['AIRLINE','AIRPORT_ORIGIN','CITY_ORIGIN', 'STATE_ORIGIN', 'COUNTRY_ORIGIN', 'LATITUDE_ORIGIN',\n",
    "                    'LONGITUDE_ORIGIN','AIRPORT_DESTINATION', 'CITY_DESTINATION', 'STATE_DESTINATION', 'COUNTRY_DESTINATION',\n",
    "                    'LATITUDE_DESTINATION', 'LONGITUDE_DESTINATION']\n",
    "for col in range(len(Columns_to_rename)):\n",
    "    df.rename(columns = {Columns_to_rename[col]: Columns_new_name[col]}, inplace = True)"
   ]
  },
  {
   "cell_type": "code",
   "execution_count": 11,
   "id": "829174e0",
   "metadata": {},
   "outputs": [
    {
     "data": {
      "text/plain": [
       "Index(['MONTH', 'DEPARTURE_DELAY', 'ARRIVAL_DELAY', 'CANCELLED',\n",
       "       'CANCELLATION_REASON', 'AIR_SYSTEM_DELAY', 'SECURITY_DELAY',\n",
       "       'AIRLINE_DELAY', 'LATE_AIRCRAFT_DELAY', 'WEATHER_DELAY', 'AIRLINE',\n",
       "       'AIRPORT_ORIGIN', 'CITY_ORIGIN', 'STATE_ORIGIN', 'COUNTRY_ORIGIN',\n",
       "       'LATITUDE_ORIGIN', 'LONGITUDE_ORIGIN', 'AIRPORT_DESTINATION',\n",
       "       'CITY_DESTINATION', 'STATE_DESTINATION', 'COUNTRY_DESTINATION',\n",
       "       'LATITUDE_DESTINATION', 'LONGITUDE_DESTINATION'],\n",
       "      dtype='object')"
      ]
     },
     "execution_count": 11,
     "metadata": {},
     "output_type": "execute_result"
    }
   ],
   "source": [
    "df.columns"
   ]
  },
  {
   "cell_type": "code",
   "execution_count": 12,
   "id": "2068cb0d",
   "metadata": {},
   "outputs": [],
   "source": [
    "#4- I will add new column to determaine total delay.\n",
    "\n",
    "df['total_delay'] = df['DEPARTURE_DELAY'] + df['AIR_SYSTEM_DELAY'] + df['SECURITY_DELAY'] + df['AIRLINE_DELAY'] + df['LATE_AIRCRAFT_DELAY']+df['WEATHER_DELAY']"
   ]
  },
  {
   "cell_type": "code",
   "execution_count": 13,
   "id": "3eb35b26",
   "metadata": {},
   "outputs": [],
   "source": [
    "df.to_csv('flights_aftr_merge.csv',index = False)"
   ]
  },
  {
   "cell_type": "code",
   "execution_count": 14,
   "id": "543670fe",
   "metadata": {},
   "outputs": [],
   "source": [
    "df = pd.read_csv('flights_aftr_merge.csv')"
   ]
  },
  {
   "cell_type": "code",
   "execution_count": 15,
   "id": "029e58ad",
   "metadata": {},
   "outputs": [
    {
     "name": "stdout",
     "output_type": "stream",
     "text": [
      "Number of columns is 24\n",
      "Number of Rows is 274964\n"
     ]
    }
   ],
   "source": [
    "#Check dataset for:-\n",
    "#1- How many column --- 39\n",
    "#2- How many samples --- 274964\n",
    "df.shape\n",
    "print('Number of columns is {}'.format(df.shape[1]))\n",
    "print('Number of Rows is {}'.format(df.shape[0]))\n"
   ]
  },
  {
   "cell_type": "code",
   "execution_count": 16,
   "id": "29b0d1bc",
   "metadata": {
    "scrolled": true
   },
   "outputs": [
    {
     "name": "stdout",
     "output_type": "stream",
     "text": [
      "                  MONTH DEPARTURE_DELAY ARRIVAL_DELAY CANCELLED  \\\n",
      "Column type       int64         float64       float64     int64   \n",
      "Null Values(n/p)      0            4245          5191         0   \n",
      "Null Values(%)      0.0        1.543838      1.887884       0.0   \n",
      "\n",
      "                 CANCELLATION_REASON AIR_SYSTEM_DELAY SECURITY_DELAY  \\\n",
      "Column type                   object          float64        float64   \n",
      "Null Values(n/p)              270531           223101         223101   \n",
      "Null Values(%)             98.387789        81.138258      81.138258   \n",
      "\n",
      "                 AIRLINE_DELAY LATE_AIRCRAFT_DELAY WEATHER_DELAY  ...  \\\n",
      "Column type            float64             float64       float64  ...   \n",
      "Null Values(n/p)        223101              223101        223101  ...   \n",
      "Null Values(%)       81.138258           81.138258     81.138258  ...   \n",
      "\n",
      "                 COUNTRY_ORIGIN LATITUDE_ORIGIN LONGITUDE_ORIGIN  \\\n",
      "Column type              object         float64          float64   \n",
      "Null Values(n/p)              0             261              261   \n",
      "Null Values(%)              0.0        0.094922         0.094922   \n",
      "\n",
      "                 AIRPORT_DESTINATION CITY_DESTINATION STATE_DESTINATION  \\\n",
      "Column type                   object           object            object   \n",
      "Null Values(n/p)                   0                0                 0   \n",
      "Null Values(%)                   0.0              0.0               0.0   \n",
      "\n",
      "                 COUNTRY_DESTINATION LATITUDE_DESTINATION  \\\n",
      "Column type                   object              float64   \n",
      "Null Values(n/p)                   0                  231   \n",
      "Null Values(%)                   0.0             0.084011   \n",
      "\n",
      "                 LONGITUDE_DESTINATION total_delay  \n",
      "Column type                    float64     float64  \n",
      "Null Values(n/p)                   231      223101  \n",
      "Null Values(%)                0.084011   81.138258  \n",
      "\n",
      "[3 rows x 24 columns]\n"
     ]
    }
   ],
   "source": [
    "#3- Whats is datatype in each column\n",
    "#4- null values\n",
    "#5- % null values\n",
    "tab_info = pd.DataFrame(df.dtypes).T.rename(index={0:'Column type'})\n",
    "tab_info = tab_info.append(pd.DataFrame(df.isnull().sum()).T.rename(index={0:'Null Values(n/p)'}))\n",
    "tab_info = tab_info.append(pd.DataFrame(df.isnull().sum()/df.shape[0]*100).T.rename(index={0:'Null Values(%)'}))\n",
    "\n",
    "print(pd.DataFrame(tab_info))"
   ]
  },
  {
   "cell_type": "code",
   "execution_count": 17,
   "id": "4ce849f1",
   "metadata": {
    "scrolled": false
   },
   "outputs": [
    {
     "data": {
      "text/plain": [
       "2315"
      ]
     },
     "execution_count": 17,
     "metadata": {},
     "output_type": "execute_result"
    }
   ],
   "source": [
    "# if thay any duplicated value --- yes because i drop columns\n",
    "df.duplicated().sum()"
   ]
  },
  {
   "cell_type": "markdown",
   "id": "66a6bc11",
   "metadata": {},
   "source": [
    "<a id='eda'></a>\n",
    "## Exploratory Data Analysis"
   ]
  },
  {
   "cell_type": "markdown",
   "id": "e8e209b9",
   "metadata": {},
   "source": [
    "### Research Question 1:- **The 5 Worst Airline in terms of flight delays**"
   ]
  },
  {
   "cell_type": "code",
   "execution_count": 18,
   "id": "cd34ef45",
   "metadata": {
    "scrolled": true
   },
   "outputs": [
    {
     "data": {
      "text/plain": [
       "AIRLINE\n",
       "Southwest Airlines Co.         11660\n",
       "American Airlines Inc.          6239\n",
       "Delta Air Lines Inc.            5784\n",
       "Atlantic Southeast Airlines     5257\n",
       "Skywest Airlines Inc.           5226\n",
       "Name: total_delay, dtype: int64"
      ]
     },
     "execution_count": 18,
     "metadata": {},
     "output_type": "execute_result"
    }
   ],
   "source": [
    "Q1 = df.groupby('AIRLINE')['total_delay'].count().nlargest(5)\n",
    "Q1"
   ]
  },
  {
   "cell_type": "code",
   "execution_count": 19,
   "id": "bfce6265",
   "metadata": {
    "scrolled": true
   },
   "outputs": [
    {
     "data": {
      "image/png": "[encoded data removed]",
      "text/plain": [
       "<Figure size 432x288 with 1 Axes>"
      ]
     },
     "metadata": {
      "needs_background": "light"
     },
     "output_type": "display_data"
    }
   ],
   "source": [
    "x = Q1.values\n",
    "y = Q1.index\n",
    "plt.barh(y,x,align = 'center');"
   ]
  },
  {
   "cell_type": "markdown",
   "id": "285795b1",
   "metadata": {},
   "source": [
    "### Research Question 2:- **The 10 Airports eith the most delays in DEPARTURE**"
   ]
  },
  {
   "cell_type": "code",
   "execution_count": 91,
   "id": "41470dd8",
   "metadata": {},
   "outputs": [
    {
     "data": {
      "text/plain": [
       "AIRPORT_ORIGIN\n",
       "Hartsfield-Jackson Atlanta International Airport    17925\n",
       "Chicago O'Hare International Airport                14297\n",
       "Dallas/Fort Worth International Airport             11987\n",
       "Denver International Airport                        10016\n",
       "Los Angeles International Airport                    9934\n",
       "Phoenix Sky Harbor International Airport             7603\n",
       "San Francisco International Airport                  7546\n",
       "George Bush Intercontinental Airport                 7386\n",
       "McCarran International Airport                       6839\n",
       "Minneapolis-Saint Paul International Airport         5796\n",
       "Name: DEPARTURE_DELAY, dtype: int64"
      ]
     },
     "execution_count": 91,
     "metadata": {},
     "output_type": "execute_result"
    }
   ],
   "source": [
    "Q2 = df.groupby('AIRPORT_ORIGIN')['DEPARTURE_DELAY'].count().nlargest(10)\n",
    "Q2"
   ]
  },
  {
   "cell_type": "code",
   "execution_count": 92,
   "id": "992e3f97",
   "metadata": {},
   "outputs": [
    {
     "data": {
      "image/png": "[encoded data removed]",
      "text/plain": [
       "<Figure size 432x288 with 1 Axes>"
      ]
     },
     "metadata": {
      "needs_background": "light"
     },
     "output_type": "display_data"
    }
   ],
   "source": [
    "x = Q2.values\n",
    "y = Q2.index\n",
    "plt.barh(y,x,align = 'center');"
   ]
  },
  {
   "cell_type": "markdown",
   "id": "de338af8",
   "metadata": {},
   "source": [
    "### Research Question 3:- **The 10 Airports eith the most delays in ARRIVAL**"
   ]
  },
  {
   "cell_type": "code",
   "execution_count": 94,
   "id": "4a3b0bdc",
   "metadata": {},
   "outputs": [
    {
     "data": {
      "text/plain": [
       "AIRPORT_DESTINATION\n",
       "Hartsfield-Jackson Atlanta International Airport    17641\n",
       "Chicago O'Hare International Airport                14300\n",
       "Dallas/Fort Worth International Airport             11933\n",
       "Los Angeles International Airport                    9990\n",
       "Denver International Airport                         9936\n",
       "San Francisco International Airport                  7453\n",
       "Phoenix Sky Harbor International Airport             7431\n",
       "George Bush Intercontinental Airport                 7404\n",
       "McCarran International Airport                       6806\n",
       "Orlando International Airport                        5801\n",
       "Name: ARRIVAL_DELAY, dtype: int64"
      ]
     },
     "execution_count": 94,
     "metadata": {},
     "output_type": "execute_result"
    }
   ],
   "source": [
    "Q3 = df.groupby('AIRPORT_DESTINATION')['ARRIVAL_DELAY'].count().nlargest(10)\n",
    "Q3"
   ]
  },
  {
   "cell_type": "code",
   "execution_count": 95,
   "id": "5e2e0216",
   "metadata": {},
   "outputs": [
    {
     "data": {
      "image/png": "[encoded data removed]",
      "text/plain": [
       "<Figure size 432x288 with 1 Axes>"
      ]
     },
     "metadata": {
      "needs_background": "light"
     },
     "output_type": "display_data"
    }
   ],
   "source": [
    "x = Q3.values\n",
    "y = Q3.index\n",
    "plt.barh(y,x,align = 'center');"
   ]
  },
  {
   "cell_type": "markdown",
   "id": "1881b17e",
   "metadata": {},
   "source": [
    "### Research Question 4:- **The 5 Worst Airline in terms of Cancelled trips**"
   ]
  },
  {
   "cell_type": "code",
   "execution_count": 97,
   "id": "5363f1cf",
   "metadata": {},
   "outputs": [
    {
     "data": {
      "text/plain": [
       "AIRLINE\n",
       "Southwest Airlines Co.         59437\n",
       "Delta Air Lines Inc.           41516\n",
       "American Airlines Inc.         33368\n",
       "Skywest Airlines Inc.          27756\n",
       "Atlantic Southeast Airlines    27172\n",
       "Name: CANCELLED, dtype: int64"
      ]
     },
     "execution_count": 97,
     "metadata": {},
     "output_type": "execute_result"
    }
   ],
   "source": [
    "Q4 = df.groupby('AIRLINE')['CANCELLED'].count().nlargest(5)\n",
    "Q4"
   ]
  },
  {
   "cell_type": "code",
   "execution_count": 98,
   "id": "2a325246",
   "metadata": {},
   "outputs": [
    {
     "data": {
      "image/png": "[encoded data removed]",
      "text/plain": [
       "<Figure size 432x288 with 1 Axes>"
      ]
     },
     "metadata": {
      "needs_background": "light"
     },
     "output_type": "display_data"
    }
   ],
   "source": [
    "x = Q4.values\n",
    "y = Q4.index\n",
    "plt.barh(y,x,align = 'center');"
   ]
  },
  {
   "cell_type": "markdown",
   "id": "406974ce",
   "metadata": {},
   "source": [
    "### Research Question 5:- **Number of Cancelled trips by Month**"
   ]
  },
  {
   "cell_type": "code",
   "execution_count": 100,
   "id": "a58d0b0c",
   "metadata": {
    "scrolled": false
   },
   "outputs": [
    {
     "data": {
      "image/png": "[encoded data removed]",
      "text/plain": [
       "<Figure size 432x288 with 1 Axes>"
      ]
     },
     "metadata": {
      "needs_background": "light"
     },
     "output_type": "display_data"
    }
   ],
   "source": [
    "Q5 = df.groupby('MONTH')['CANCELLED'].sum()\n",
    "Q5.plot();"
   ]
  },
  {
   "cell_type": "markdown",
   "id": "67c767c1",
   "metadata": {},
   "source": [
    "## Tableau Project"
   ]
  },
  {
   "cell_type": "code",
   "execution_count": 23,
   "id": "1f186fa6",
   "metadata": {},
   "outputs": [
    {
     "data": {
      "text/html": [
       "<div class='tableauPlaceholder' id='viz1651075585577' style='position: relative'><noscript><a href='#'><img alt='Delay Story ' src='https:&#47;&#47;public.tableau.com&#47;static&#47;images&#47;Fl&#47;FlightDelayDashboard_16490201508310&#47;DelayStory&#47;1_rss.png' style='border: none' /></a></noscript><object class='tableauViz'  style='display:none;'><param name='host_url' value='https%3A%2F%2Fpublic.tableau.com%2F' /> <param name='embed_code_version' value='3' /> <param name='site_root' value='' /><param name='name' value='FlightDelayDashboard_16490201508310&#47;DelayStory' /><param name='tabs' value='no' /><param name='toolbar' value='yes' /><param name='static_image' value='https:&#47;&#47;public.tableau.com&#47;static&#47;images&#47;Fl&#47;FlightDelayDashboard_16490201508310&#47;DelayStory&#47;1.png' /> <param name='animate_transition' value='yes' /><param name='display_static_image' value='yes' /><param name='display_spinner' value='yes' /><param name='display_overlay' value='yes' /><param name='display_count' value='yes' /><param name='language' value='en-US' /></object></div>                <script type='text/javascript'>                    var divElement = document.getElementById('viz1651075585577');                    var vizElement = divElement.getElementsByTagName('object')[0];                    vizElement.style.width='1016px';vizElement.style.height='991px';                    var scriptElement = document.createElement('script');                    scriptElement.src = 'https://public.tableau.com/javascripts/api/viz_v1.js';                    vizElement.parentNode.insertBefore(scriptElement, vizElement);                </script>\n"
      ],
      "text/plain": [
       "<IPython.core.display.HTML object>"
      ]
     },
     "metadata": {},
     "output_type": "display_data"
    }
   ],
   "source": [
    "%%HTML\n",
    "<div class='tableauPlaceholder' id='viz1651075585577' style='position: relative'><noscript><a href='#'><img alt='Delay Story ' src='https:&#47;&#47;public.tableau.com&#47;static&#47;images&#47;Fl&#47;FlightDelayDashboard_16490201508310&#47;DelayStory&#47;1_rss.png' style='border: none' /></a></noscript><object class='tableauViz'  style='display:none;'><param name='host_url' value='https%3A%2F%2Fpublic.tableau.com%2F' /> <param name='embed_code_version' value='3' /> <param name='site_root' value='' /><param name='name' value='FlightDelayDashboard_16490201508310&#47;DelayStory' /><param name='tabs' value='no' /><param name='toolbar' value='yes' /><param name='static_image' value='https:&#47;&#47;public.tableau.com&#47;static&#47;images&#47;Fl&#47;FlightDelayDashboard_16490201508310&#47;DelayStory&#47;1.png' /> <param name='animate_transition' value='yes' /><param name='display_static_image' value='yes' /><param name='display_spinner' value='yes' /><param name='display_overlay' value='yes' /><param name='display_count' value='yes' /><param name='language' value='en-US' /></object></div>                <script type='text/javascript'>                    var divElement = document.getElementById('viz1651075585577');                    var vizElement = divElement.getElementsByTagName('object')[0];                    vizElement.style.width='1016px';vizElement.style.height='991px';                    var scriptElement = document.createElement('script');                    scriptElement.src = 'https://public.tableau.com/javascripts/api/viz_v1.js';                    vizElement.parentNode.insertBefore(scriptElement, vizElement);                </script>"
   ]
  },
  {
   "cell_type": "markdown",
   "id": "e5e879ad",
   "metadata": {},
   "source": [
    "## If you like this kernel greatly appreciate to UPVOTE.Thank you. "
   ]
  }
 ],
 "metadata": {
  "kernelspec": {
   "display_name": "Python 3",
   "language": "python",
   "name": "python3"
  },
  "language_info": {
   "codemirror_mode": {
    "name": "ipython",
    "version": 3
   },
   "file_extension": ".py",
   "mimetype": "text/x-python",
   "name": "python",
   "nbconvert_exporter": "python",
   "pygments_lexer": "ipython3",
   "version": "3.8.8"
  }
 },
 "nbformat": 4,
 "nbformat_minor": 5
}
